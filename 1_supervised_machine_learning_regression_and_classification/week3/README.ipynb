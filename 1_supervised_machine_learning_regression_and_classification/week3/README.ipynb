{
 "cells": [
  {
   "cell_type": "markdown",
   "id": "9c481a6b",
   "metadata": {
    "toc": true
   },
   "source": [
    "<h1>Table of Contents<span class=\"tocSkip\"></span></h1>\n",
    "<div class=\"toc\"><ul class=\"toc-item\"><li><span><a href=\"#Classification\" data-toc-modified-id=\"Classification-1\"><span class=\"toc-item-num\">1&nbsp;&nbsp;</span>Classification</a></span><ul class=\"toc-item\"><li><span><a href=\"#Classification-with-logistic-regression\" data-toc-modified-id=\"Classification-with-logistic-regression-1.1\"><span class=\"toc-item-num\">1.1&nbsp;&nbsp;</span>Classification with logistic regression</a></span><ul class=\"toc-item\"><li><span><a href=\"#Motivations\" data-toc-modified-id=\"Motivations-1.1.1\"><span class=\"toc-item-num\">1.1.1&nbsp;&nbsp;</span>Motivations</a></span></li><li><span><a href=\"#Optional-lab:-Classification\" data-toc-modified-id=\"Optional-lab:-Classification-1.1.2\"><span class=\"toc-item-num\">1.1.2&nbsp;&nbsp;</span>Optional lab: Classification</a></span></li><li><span><a href=\"#Logistic-regression\" data-toc-modified-id=\"Logistic-regression-1.1.3\"><span class=\"toc-item-num\">1.1.3&nbsp;&nbsp;</span>Logistic regression</a></span></li><li><span><a href=\"#Optional-lab:-Sigmoid-function-and-logistic-regression\" data-toc-modified-id=\"Optional-lab:-Sigmoid-function-and-logistic-regression-1.1.4\"><span class=\"toc-item-num\">1.1.4&nbsp;&nbsp;</span>Optional lab: Sigmoid function and logistic regression</a></span></li><li><span><a href=\"#Decision-boundary\" data-toc-modified-id=\"Decision-boundary-1.1.5\"><span class=\"toc-item-num\">1.1.5&nbsp;&nbsp;</span>Decision boundary</a></span></li><li><span><a href=\"#Optional-lab:-Decision-boundary\" data-toc-modified-id=\"Optional-lab:-Decision-boundary-1.1.6\"><span class=\"toc-item-num\">1.1.6&nbsp;&nbsp;</span>Optional lab: Decision boundary</a></span></li></ul></li><li><span><a href=\"#Practice-quiz:-Classification-with-logistic-regression\" data-toc-modified-id=\"Practice-quiz:-Classification-with-logistic-regression-1.2\"><span class=\"toc-item-num\">1.2&nbsp;&nbsp;</span>Practice quiz: Classification with logistic regression</a></span></li><li><span><a href=\"#Cost-function-for-logistic-regression\" data-toc-modified-id=\"Cost-function-for-logistic-regression-1.3\"><span class=\"toc-item-num\">1.3&nbsp;&nbsp;</span>Cost function for logistic regression</a></span><ul class=\"toc-item\"><li><span><a href=\"#Cost-function-for-logistic-regression\" data-toc-modified-id=\"Cost-function-for-logistic-regression-1.3.1\"><span class=\"toc-item-num\">1.3.1&nbsp;&nbsp;</span>Cost function for logistic regression</a></span></li><li><span><a href=\"#Optional-lab:-Logistic-loss\" data-toc-modified-id=\"Optional-lab:-Logistic-loss-1.3.2\"><span class=\"toc-item-num\">1.3.2&nbsp;&nbsp;</span>Optional lab: Logistic loss</a></span></li><li><span><a href=\"#Simplified-Cost-Function-for-Logistic-Regression\" data-toc-modified-id=\"Simplified-Cost-Function-for-Logistic-Regression-1.3.3\"><span class=\"toc-item-num\">1.3.3&nbsp;&nbsp;</span>Simplified Cost Function for Logistic Regression</a></span></li><li><span><a href=\"#Optional-lab:-Cost-function-for-logistic-regression\" data-toc-modified-id=\"Optional-lab:-Cost-function-for-logistic-regression-1.3.4\"><span class=\"toc-item-num\">1.3.4&nbsp;&nbsp;</span>Optional lab: Cost function for logistic regression</a></span></li></ul></li><li><span><a href=\"#Practice-Quiz:-Cost-function-for-logistic-regression\" data-toc-modified-id=\"Practice-Quiz:-Cost-function-for-logistic-regression-1.4\"><span class=\"toc-item-num\">1.4&nbsp;&nbsp;</span>Practice Quiz: Cost function for logistic regression</a></span></li><li><span><a href=\"#Gradient-descent-for-logistic-regression\" data-toc-modified-id=\"Gradient-descent-for-logistic-regression-1.5\"><span class=\"toc-item-num\">1.5&nbsp;&nbsp;</span>Gradient descent for logistic regression</a></span><ul class=\"toc-item\"><li><span><a href=\"#Gradient-Descent-Implementation\" data-toc-modified-id=\"Gradient-Descent-Implementation-1.5.1\"><span class=\"toc-item-num\">1.5.1&nbsp;&nbsp;</span>Gradient Descent Implementation</a></span></li><li><span><a href=\"#Optional-lab:-Gradient-descent-for-logistic-regression\" data-toc-modified-id=\"Optional-lab:-Gradient-descent-for-logistic-regression-1.5.2\"><span class=\"toc-item-num\">1.5.2&nbsp;&nbsp;</span>Optional lab: Gradient descent for logistic regression</a></span></li><li><span><a href=\"#Optional-lab:-Logistic-regression-with-scikit-learn\" data-toc-modified-id=\"Optional-lab:-Logistic-regression-with-scikit-learn-1.5.3\"><span class=\"toc-item-num\">1.5.3&nbsp;&nbsp;</span>Optional lab: Logistic regression with scikit-learn</a></span></li></ul></li><li><span><a href=\"#Practice-quiz:-Gradient-descent-for-logistic-regression\" data-toc-modified-id=\"Practice-quiz:-Gradient-descent-for-logistic-regression-1.6\"><span class=\"toc-item-num\">1.6&nbsp;&nbsp;</span>Practice quiz: Gradient descent for logistic regression</a></span></li><li><span><a href=\"#The-problem-of-overfitting\" data-toc-modified-id=\"The-problem-of-overfitting-1.7\"><span class=\"toc-item-num\">1.7&nbsp;&nbsp;</span>The problem of overfitting</a></span><ul class=\"toc-item\"><li><span><a href=\"#The-problem-of-overfitting\" data-toc-modified-id=\"The-problem-of-overfitting-1.7.1\"><span class=\"toc-item-num\">1.7.1&nbsp;&nbsp;</span>The problem of overfitting</a></span></li><li><span><a href=\"#Addressing-overfitting\" data-toc-modified-id=\"Addressing-overfitting-1.7.2\"><span class=\"toc-item-num\">1.7.2&nbsp;&nbsp;</span>Addressing overfitting</a></span></li><li><span><a href=\"#Optional-lab:-Overfitting\" data-toc-modified-id=\"Optional-lab:-Overfitting-1.7.3\"><span class=\"toc-item-num\">1.7.3&nbsp;&nbsp;</span>Optional lab: Overfitting</a></span></li><li><span><a href=\"#Cost-function-with-regularization\" data-toc-modified-id=\"Cost-function-with-regularization-1.7.4\"><span class=\"toc-item-num\">1.7.4&nbsp;&nbsp;</span>Cost function with regularization</a></span></li><li><span><a href=\"#Regularized-linear-regression\" data-toc-modified-id=\"Regularized-linear-regression-1.7.5\"><span class=\"toc-item-num\">1.7.5&nbsp;&nbsp;</span>Regularized linear regression</a></span></li><li><span><a href=\"#Optional-lab:-Regularization\" data-toc-modified-id=\"Optional-lab:-Regularization-1.7.6\"><span class=\"toc-item-num\">1.7.6&nbsp;&nbsp;</span>Optional lab: Regularization</a></span></li></ul></li><li><span><a href=\"#Practice-Quiz:-The-problem-of-overfitting\" data-toc-modified-id=\"Practice-Quiz:-The-problem-of-overfitting-1.8\"><span class=\"toc-item-num\">1.8&nbsp;&nbsp;</span>Practice Quiz: The problem of overfitting</a></span></li><li><span><a href=\"#Week-3-practice-lab:-Logistic-regression\" data-toc-modified-id=\"Week-3-practice-lab:-Logistic-regression-1.9\"><span class=\"toc-item-num\">1.9&nbsp;&nbsp;</span>Week 3 practice lab: Logistic regression</a></span></li></ul></li></ul></div>"
   ]
  },
  {
   "cell_type": "markdown",
   "id": "06a56be1",
   "metadata": {},
   "source": [
    "# Classification"
   ]
  },
  {
   "cell_type": "markdown",
   "id": "a6e09abb",
   "metadata": {},
   "source": [
    "## Classification with logistic regression"
   ]
  },
  {
   "cell_type": "markdown",
   "id": "3fb77326",
   "metadata": {},
   "source": [
    "### Motivations"
   ]
  },
  {
   "cell_type": "markdown",
   "id": "6774e43f",
   "metadata": {},
   "source": [
    "In **classification**, our output variable $y$ can take on only one of a small handful of possible values instead of any number in an infinite range of numbers.\n",
    "- Classification problem with two possible classes or categories is called **binary classification**."
   ]
  },
  {
   "cell_type": "markdown",
   "id": "9f3376f2",
   "metadata": {},
   "source": [
    "<div align=\"center\">\n",
    "    <img src=\"attachments/logistic_regression_motivation_1.png\" alt=\"Drawing\" style=\"width: 45%;\">\n",
    "</div>"
   ]
  },
  {
   "cell_type": "markdown",
   "id": "4f51f839",
   "metadata": {},
   "source": [
    "<div align=\"center\">\n",
    "    <img src=\"attachments/logistic_regression_motivation_2.png\" alt=\"Drawing\" style=\"width: 40%;\">\n",
    "    <img src=\"attachments/logistic_regression_motivation_3.png\" alt=\"Drawing\" style=\"width: 50%;\">\n",
    "</div>"
   ]
  },
  {
   "cell_type": "markdown",
   "id": "a2b89d21",
   "metadata": {},
   "source": [
    "In the above tumor example, \n",
    "- class 1 (+) => Malignant\n",
    "- class 0 (-) => Non-malignant (Benign)\n",
    "\n",
    "For first example, we can try applying linear regression to fit straight line to the data. Linear regression predicts not just 0 and 1, but all numbers between 0 and 1, and outside 0 and 1. However, we want to predict categories. One way to convert the output of linear regression to categories is to choose a **threshold of 0.5** such that \n",
    "- if $f_{w,b}(x)=wx+b \\lt 0.5 \\rightarrow \\hat{y} = 0$\n",
    "- if $f_{w,b}(x)=wx+b \\ge 0.5 \\rightarrow \\hat{y} = 1$\n",
    "For this first example, it looks like linear regression could do something reasonable in predicting the two classes.\n",
    "\n",
    "However, in the second example, we add one more training example that looks more like an outlier. Ideally, the new training example should not change the way we classify the data points. <span style=\"color:red\">The best fit line now shifts over, and if we continue using the <b>threshold of 0.5</b>, the dividing line (a.k.a the <b>decision boundary</b>) shift over to the right, thus many malignant tumours are now misclassified as non-malginant as it now learns a much worse function.</span>\n",
    "\n",
    "> In a nutshell, the linear model is insufficient to model categorical data. "
   ]
  },
  {
   "cell_type": "markdown",
   "id": "477e774e",
   "metadata": {},
   "source": [
    "### Optional lab: Classification"
   ]
  },
  {
   "cell_type": "markdown",
   "id": "63071440",
   "metadata": {},
   "source": [
    "Refer to [greyhat](greyhatguy007/Optional%20Labs/C1_W3_Lab01_Classification_Soln.ipynb) solutions and [my practice](greyhatguy007/Optional%20Labs/C1_W3_Lab01_Classification_Practice_TP.ipynb) for now"
   ]
  },
  {
   "cell_type": "markdown",
   "id": "b6fd4aca",
   "metadata": {},
   "source": [
    "### Logistic regression"
   ]
  },
  {
   "cell_type": "markdown",
   "id": "4af838e3",
   "metadata": {},
   "source": [
    "<div align=\"center\">\n",
    "    <img src=\"attachments/logistic_regression_1.png\" alt=\"Drawing\" style=\"width: 45%;\">\n",
    "</div>"
   ]
  },
  {
   "cell_type": "markdown",
   "id": "46bd733e",
   "metadata": {},
   "source": [
    "In previous example, we saw that linear regression is not a good algorithm for above problem.\n",
    "\n",
    "In contrast to fitting a straight line in linear regression, the logistic regression fits a *S*-shaped curve to the data.\n",
    "\n",
    "<span style=\"color:blue\">To build out to logistic regression algo, we need to learn about the <b><u>Sigmoid function (a.k.a. Logistic function).</u></b></span> The sigmoid function $g(z)$ offers outputs between $0$ and $1$.\n",
    "\n",
    "$$g(z) = \\frac{1}{1+e^{-z}} \\;\\;\\; 0<g(z)<1$$\n",
    "\n",
    "where $e$ is a mathematical constant with value of $2.71...$\n",
    "\n",
    "- If $z$ is very large +ve number (e.g., $z=100$), then $g(z) = \\frac{1}{1+e^{-100}} \\approx \\frac{1}{1+\\text{ very tiny number}} \\approx 1$\n",
    "- If $z$ is very large -ve number (e.g., $z=-100$), then $g(z) = \\frac{1}{1+e^{100}} \\approx \\frac{1}{1+\\text{ very large number}} \\approx 0$\n",
    "- If $z$ is zero (e.g., $z=0$), then $g(z) = \\frac{1}{1+e^{0}} = \\frac{1}{1+1} = 0.5$"
   ]
  },
  {
   "cell_type": "markdown",
   "id": "a71be432",
   "metadata": {},
   "source": [
    "<div align=\"center\">\n",
    "    <img src=\"attachments/logistic_regression_2.png\" alt=\"Drawing\" style=\"width: 45%;\">\n",
    "</div>"
   ]
  },
  {
   "cell_type": "markdown",
   "id": "644f77f5",
   "metadata": {},
   "source": [
    "For linear regression,\n",
    "$$f_{\\vec{w},b}(\\vec{x}) = \\vec{w}\\cdot\\vec{x} + b$$\n",
    "\n",
    "For logistic regression,\n",
    "$$f_{\\vec{w},b}(\\vec{x}) = g(\\vec{w}\\cdot\\vec{x} + b) = g(z) = \\frac{1}{1+e^{-(\\vec{w}\\cdot\\vec{x}+b)}}$$"
   ]
  },
  {
   "cell_type": "markdown",
   "id": "5f848eca",
   "metadata": {},
   "source": [
    "<div align=\"center\">\n",
    "    <img src=\"attachments/logistic_regression_3.png\" alt=\"Drawing\" style=\"width: 45%;\">\n",
    "</div>"
   ]
  },
  {
   "cell_type": "markdown",
   "id": "de6afd36",
   "metadata": {
    "ExecuteTime": {
     "end_time": "2023-03-17T23:27:28.591464Z",
     "start_time": "2023-03-17T23:27:28.572360Z"
    }
   },
   "source": [
    "<span style=\"font-size:+22px\">$f_{w,b}(\\vec{x}) = \\frac{1}{1+e^{-(\\vec{w}\\cdot\\vec{x}+b)}}$</span> \n",
    "\n",
    "The output of logistic regression (above) can be interepreted as probability that the output belongs to class $1$ given input $x$.\n",
    "<br>\n",
    "<br>\n",
    "<br>\n",
    "Since $y$ has to be either $0$ or $1$,\n",
    "$$P(y=0) + P(y=1)=1$$\n",
    "\n",
    "For e.g., $P(y=1)=70\\%$, it implies $P(y=0)=30\\%$\n",
    "<br>\n",
    "<br>\n",
    "<br>\n",
    "It can also be expressed as \n",
    "$$f_{w,b}(\\vec{x}) = P(y=1|{x};\\vec{w},b)$$\n",
    "which can be interpreted as probability of $y$ being equal to $1$ given the input feature $x$ with parameters $w$ and $b$."
   ]
  },
  {
   "cell_type": "markdown",
   "id": "5f8551e2",
   "metadata": {},
   "source": [
    "### Optional lab: Sigmoid function and logistic regression"
   ]
  },
  {
   "cell_type": "markdown",
   "id": "9a3f957a",
   "metadata": {},
   "source": [
    "Refer to [greyhat](greyhatguy007/Optional%20Labs/C1_W3_Lab02_Sigmoid_function_Soln.ipynb) solutions and [my practice](greyhatguy007/Optional%20Labs/C1_W3_Lab02_Sigmoid_function_Practice_TP.ipynb) for now"
   ]
  },
  {
   "cell_type": "markdown",
   "id": "bd93e98b",
   "metadata": {
    "ExecuteTime": {
     "end_time": "2023-03-17T23:49:17.848757Z",
     "start_time": "2023-03-17T23:49:17.833037Z"
    }
   },
   "source": [
    "<div align=\"center\">\n",
    "    <img src=\"attachments/lab_sigmoid_function_and_logistic_regression_1.png\" alt=\"Drawing\" style=\"width: 65%;\">\n",
    "    <img src=\"attachments/lab_sigmoid_function_and_logistic_regression_2_edited.png\" alt=\"Drawing\" style=\"width: 65%;\">\n",
    "</div>"
   ]
  },
  {
   "cell_type": "markdown",
   "id": "67fabdab",
   "metadata": {},
   "source": [
    "Note:\n",
    "- In the above figure, the orange line is $z$ or $w\\cdot x^{(i)}+b$\n",
    "    - Unlike linear regression which would have wrongly classified two of malignant cases as benign in the second example, the logistic regression model correctly predicts the two classes despite having some extreme cases.\n",
    "- In a nutshell, <span style=\"color:blue\"><b>the logistic regression model applies sigmoid to the output of linear regression model.</b></span>"
   ]
  },
  {
   "cell_type": "markdown",
   "id": "70c1dcc1",
   "metadata": {},
   "source": [
    "### Decision boundary"
   ]
  },
  {
   "cell_type": "markdown",
   "id": "41f82131",
   "metadata": {},
   "source": [
    "Let's look at decision boundary to get a better sense of how logistic regression is computing these predictions."
   ]
  },
  {
   "cell_type": "markdown",
   "id": "fd1c6a11",
   "metadata": {},
   "source": [
    "<div align=\"center\">\n",
    "    <img src=\"attachments/decision_boundary_1.png\" alt=\"Drawing\" style=\"width: 60%;\">\n",
    "</div>"
   ]
  },
  {
   "cell_type": "markdown",
   "id": "5b401803",
   "metadata": {
    "ExecuteTime": {
     "end_time": "2023-03-18T01:10:34.648898Z",
     "start_time": "2023-03-18T01:10:34.626231Z"
    }
   },
   "source": [
    "Recap: \n",
    "- Logistic regression can be computed step by step as follows\n",
    "    - Step 1: $$z=\\vec{w}\\cdot\\vec{x}+b$$\n",
    "    - Step 2: $$f_{w,b}{(\\vec{x})} = g(\\vec{w}\\cdot\\vec{x}+b) = \\frac{1}{1+e^{-wx+b}} \\\\ \\; \n",
    "    \\Rightarrow \\; f_{w,b}{(\\vec{x})} = g(z) = \\frac{1}{1+e^{-z}} \\\\\n",
    "    \\Rightarrow \\; f_{w,b}{(\\vec{x})} = P(y=1|x;\\vec{w},b)$$\n",
    "    - Step 3: $$\\hat{y} = \\left\\{\\begin{matrix}\n",
    "        1 & \\text{ if } f_{\\vec{w},b}(\\vec{x}) \\ge 0.5 & \\rightarrow g(z) \\ge 0.5 \\rightarrow z \\ge 0 \\rightarrow \\vec{w}\n",
    "        \\cdot\\vec{x}+b\\ge 0\\\\ \n",
    "        0 & \\text{otherwise} & \n",
    "        \\end{matrix}\\right.$$"
   ]
  },
  {
   "cell_type": "markdown",
   "id": "34ead99f",
   "metadata": {},
   "source": [
    "<div align=\"center\">\n",
    "    <img src=\"attachments/decision_boundary_2.png\" alt=\"Drawing\" style=\"width: 60%;\">\n",
    "</div>"
   ]
  },
  {
   "cell_type": "markdown",
   "id": "3d2a29b9",
   "metadata": {
    "ExecuteTime": {
     "end_time": "2023-03-18T01:30:16.948758Z",
     "start_time": "2023-03-18T01:30:16.930878Z"
    }
   },
   "source": [
    "Let's look at an example with 2 features, $x_1$ and $x_2$ and assuming the decision boundary is linear\n",
    "\n",
    "$$f_{\\vec{w},b}(\\vec{x}) = g(z) = g(\\vec{w}\\cdot\\vec{x} + b) = g(w_1x_1+w_2x_2+b)$$\n",
    "\n",
    "If $w_1=1$, $w_2=1$, and $b=-3$, then **linear decision boundary** line of logistic regression will be \n",
    "$$z = 0  \\\\\\Rightarrow \\vec{w}\\cdot\\vec{x} + b = 0 \\\\\\Rightarrow w_1x_1+w_2x_2+b = 0 \\\\\\Rightarrow x_1 + x_2 -3 = 0 \\\\\\Rightarrow x_1 + x_2 = 3$$\n",
    "- The data points with features above this line, logistic regression will predict it as $\\hat{y}=1$, and for the points below the line, $\\hat{y}=0$\n",
    "- If we have different choice of parameters, then the decision boundary will be different"
   ]
  },
  {
   "cell_type": "markdown",
   "id": "e334b4ed",
   "metadata": {
    "ExecuteTime": {
     "end_time": "2023-03-18T01:38:23.460237Z",
     "start_time": "2023-03-18T01:38:23.444022Z"
    }
   },
   "source": [
    "<div align=\"center\">\n",
    "    <img src=\"attachments/decision_boundary_3.png\" alt=\"Drawing\" style=\"width: 60%;\">\n",
    "</div>"
   ]
  },
  {
   "cell_type": "markdown",
   "id": "77d880a5",
   "metadata": {},
   "source": [
    "Let's look at another example where decision boundary is no longer a straight line (e.g, polynomial)\n",
    "\n",
    "$$f_{\\vec{w},b}(\\vec{x}) = g(z) = g(\\vec{w}\\cdot\\vec{x} + b) = g(w_1x_1^2+w_2x_2^2+b)$$\n",
    "\n",
    "If $w_1=1$, $w_2=1$, and $b=-1$, then **non-linear decision boundary** line of logistic regression will be \n",
    "$$z = 0  \\\\\\Rightarrow \\vec{w}\\cdot\\vec{x} + b = 0 \\\\\\Rightarrow w_1x_1^2+w_2x_2^2+b = 0 \\\\\\Rightarrow x_1^2 + x_2^2 -1 = 0 \\\\\\Rightarrow x_1^2 + x_2^2 = 1$$\n",
    "- The data points with features outside this circle $x_1^2 + x_2^2 \\ge 1$, logistic regression will predict it as $\\hat{y}=1$, and for the points inside this circle $x_1^2 + x_2^2 \\lt 1$, $\\hat{y}=0$\n",
    "- If we have different choice of parameters, then the decision boundary will be different"
   ]
  },
  {
   "cell_type": "markdown",
   "id": "ccc02b7d",
   "metadata": {},
   "source": [
    "<div align=\"center\">\n",
    "    <img src=\"attachments/decision_boundary_4.png\" alt=\"Drawing\" style=\"width: 60%;\">\n",
    "</div>"
   ]
  },
  {
   "cell_type": "markdown",
   "id": "66523285",
   "metadata": {},
   "source": [
    "We can even produce **non-linear complex decision boundaries** by including combinations of higher order polynomials."
   ]
  },
  {
   "cell_type": "markdown",
   "id": "eb040bdb",
   "metadata": {},
   "source": [
    "<div align=\"center\">\n",
    "    <img src=\"attachments/decision_boundary_5.png\" alt=\"Drawing\" style=\"width: 55%;\">\n",
    "</div>"
   ]
  },
  {
   "cell_type": "markdown",
   "id": "4ee95c22",
   "metadata": {},
   "source": [
    "### Optional lab: Decision boundary"
   ]
  },
  {
   "cell_type": "markdown",
   "id": "ff73d6f4",
   "metadata": {},
   "source": [
    "Refer to [greyhat](greyhatguy007/Optional%20Labs/C1_W3_Lab03_Decision_Boundary_Soln.ipynb) solutions and [my practice](greyhatguy007/Optional%20Labs/C1_W3_Lab03_Decision_Boundary_Practice_TP.ipynb) for now"
   ]
  },
  {
   "cell_type": "markdown",
   "id": "8423c927",
   "metadata": {},
   "source": [
    "## Practice quiz: Classification with logistic regression"
   ]
  },
  {
   "cell_type": "markdown",
   "id": "d0b0aea2",
   "metadata": {},
   "source": [
    "## Cost function for logistic regression"
   ]
  },
  {
   "cell_type": "markdown",
   "id": "99fd41b5",
   "metadata": {},
   "source": [
    "### Cost function for logistic regression"
   ]
  },
  {
   "cell_type": "markdown",
   "id": "e8f260a6",
   "metadata": {},
   "source": [
    "Training set for logistic regression for cancer prediction might look like follows"
   ]
  },
  {
   "cell_type": "markdown",
   "id": "d92b61a1",
   "metadata": {},
   "source": [
    "<div align=\"center\">\n",
    "    <img src=\"attachments/cost_function_for_logistic_regression_1.png\" alt=\"Drawing\" style=\"width: 60%;\">\n",
    "</div>"
   ]
  },
  {
   "cell_type": "markdown",
   "id": "d96982ab",
   "metadata": {},
   "source": [
    "<div align=\"center\">\n",
    "    <img src=\"attachments/cost_function_for_logistic_regression_2.png\" alt=\"Drawing\" style=\"width: 60%;\">\n",
    "</div>"
   ]
  },
  {
   "cell_type": "markdown",
   "id": "9469fde2",
   "metadata": {},
   "source": [
    "Cost function helps us to measure how well a specific set of parameters fit the training data, thereby allowing us to choose better parameters.\n",
    "\n",
    "| Details | Linear regression | Logistic regression |\n",
    "| :------- | :----------------- | :------------------- |\n",
    "| **cost function**, $J(\\vec{w},b)$ | **Squared error** works <br><br> Is convex $\\Rightarrow$  Works well | **Squared error** <span style=\"color:red\">does not work</span> <br><br> Is non-convex $\\Rightarrow$ <span style=\"color:red\">Gradient descent might get end up in sub-optimal local minima </span>| "
   ]
  },
  {
   "cell_type": "markdown",
   "id": "9b7df90a",
   "metadata": {},
   "source": [
    "Cost function of linear regression, but doesn't work well for logistic regression\n",
    "$$J(\\vec{w},b) = \\frac{1}{2m}\\sum_{i=1}^{m}(f_{\\vec{w},b}(\\vec{x}^{(i)}) - y^{(i)})^2 = \\frac{1}{m}\\sum_{i=1}^{m}\\mathbf{\\frac{1}{2}(f_{\\vec{w},b}(\\vec{x}^{(i)}) - y^{(i)})^2}$$\n",
    "\n",
    "So, we **need to build a new cost function that works for logistic regression**. \n",
    "- In order to build a new cost function for logistic regression, we will change the definition of cost function of the linear regression a little bit such that the new cost function will be a convex function.\n",
    "\n",
    "Let's denote the **loss on a single training example** as $L$,\n",
    "$$L\\mathbf{(f_{\\vec{w},b}(\\vec{x}^{(i)}) - y^{(i)})}$$\n"
   ]
  },
  {
   "cell_type": "markdown",
   "id": "ee761bb6",
   "metadata": {},
   "source": [
    "<div align=\"center\">\n",
    "    <img src=\"attachments/cost_function_for_logistic_regression_3.png\" alt=\"Drawing\" style=\"width: 45%;\">\n",
    "    <img src=\"attachments/cost_function_for_logistic_regression_4.png\" alt=\"Drawing\" style=\"width: 45%;\">\n",
    "</div>\n",
    "<div align=\"center\">\n",
    "    <img src=\"attachments/cost_function_for_logistic_regression_5.png\" alt=\"Drawing\" style=\"width: 45%;\">\n",
    "</div>"
   ]
  },
  {
   "cell_type": "markdown",
   "id": "f3a5d11c",
   "metadata": {},
   "source": [
    "**Logistic loss function** for Logistic Regression - Tells us how well we are doing in predicting that example<br>\n",
    "\n",
    "$$L(f_{\\vec{w},b}(\\vec{x}^{(i)}) - y^{(i)}) = \\left\\{\\begin{matrix}\n",
    "        \\phantom{1- }-log\\left(f_{\\vec{w},b}(\\vec{x}^{(i)})\\right ) & \\text{ if } y^{(i)}=1 \\\\ \n",
    "        -log\\left(1- f_{\\vec{w},b}(\\vec{x}^{(i)})\\right ) & \\text{ if } y^{(i)}=0 & \n",
    "        \\end{matrix}\\right.$$"
   ]
  },
  {
   "cell_type": "markdown",
   "id": "96105477",
   "metadata": {},
   "source": [
    "**Why the above loss function makes sense?**\n",
    "\n",
    "- <span style=\"color:green\"><b> Loss $L$ is lowest when $f_{\\vec{w},x}(x^{(i)})$ predicts close to true label $y^{(i)}$</b></span>\n",
    "- <span style=\"color:red\"><b> Loss $L$ is highest when $f_{\\vec{w},x}(x^{(i)})$ predicts farthest to target $y^{(i)}$</b></span>\n",
    "\n",
    "\n",
    "- Since $f$ is the output of logistic regression, it's always between 0 and 1 $\\Rightarrow 0 \\lt f \\lt 1 \\Rightarrow -log(f) \\ge 0 $ as shown in plot below (area highlighted in yellow).\n",
    "- When $y=1$, loss is \n",
    "    - If $f_{\\vec{w},x}(x^{(i)}) \\rightarrow 1$ , then loss $\\rightarrow 0$. Since our prediction is close to correct answer, loss is close to zero.\n",
    "    - If $f_{\\vec{w},x}(x^{(i)}) \\rightarrow 0.5$ , then loss $\\rightarrow 0.3$\n",
    "    - If $f_{\\vec{w},x}(x^{(i)}) \\rightarrow 0.1$ , then loss $\\rightarrow 1$\n",
    "    - If $f_{\\vec{w},x}(x^{(i)}) \\rightarrow 0.01$ , then loss $\\rightarrow 2$\n",
    "    - If $f_{\\vec{w},x}(x^{(i)}) \\rightarrow 0$ , then loss $\\rightarrow \\infty$ - Since our prediction is complete opposite of correct answer, loss is very high.\n",
    "- When $y=0$, loss is \n",
    "    - If $f_{\\vec{w},x}(x^{(i)}) \\rightarrow 0$ , then loss $\\rightarrow 0$. Since our prediction is close to correct answer, loss is close to zero.\n",
    "    - If $f_{\\vec{w},x}(x^{(i)}) \\rightarrow 0.01$ , then loss $\\rightarrow 0.04$\n",
    "    - If $f_{\\vec{w},x}(x^{(i)}) \\rightarrow 0.5$ , then loss $\\rightarrow 0.3$\n",
    "    - If $f_{\\vec{w},x}(x^{(i)}) \\rightarrow 1$ , then loss $\\rightarrow \\infty$ - Since our prediction is complete opposite of correct answer, loss is very high."
   ]
  },
  {
   "cell_type": "markdown",
   "id": "b3b89958",
   "metadata": {},
   "source": [
    "**New cost function**\n",
    "\n",
    "$$J(\\vec{w},b) = \\frac{1}{m}\\sum_{i=1}^{m}L(f_{\\vec{w},b}(\\vec{x}^{(i)}), y^{(i)})$$\n",
    "\n",
    "where the **loss function**\n",
    "\n",
    "$$L(f_{\\vec{w},b}(\\vec{x}^{(i)}) - y^{(i)}) = \\left\\{\\begin{matrix}\n",
    "        \\phantom{1- }-log\\left(f_{\\vec{w},b}(\\vec{x}^{(i)})\\right ) & \\text{ if } y^{(i)}=1 \\\\ \n",
    "        -log\\left(1- f_{\\vec{w},b}(\\vec{x}^{(i)})\\right ) & \\text{ if } y^{(i)}=0 & \n",
    "        \\end{matrix}\\right.$$"
   ]
  },
  {
   "cell_type": "markdown",
   "id": "790c8491",
   "metadata": {},
   "source": [
    "<span style=\"color:blue\"><b>With this choice of loss function, the overall cost function will be convex</b></span> and thus we can reliably use gradient descent to find the global minimum (best parameters to fit our model on the data)."
   ]
  },
  {
   "cell_type": "code",
   "execution_count": 49,
   "id": "ce99a587",
   "metadata": {
    "ExecuteTime": {
     "end_time": "2023-03-18T03:11:07.186066Z",
     "start_time": "2023-03-18T03:11:06.736304Z"
    }
   },
   "outputs": [
    {
     "data": {
      "image/png": "[encoded data removed]",
      "text/plain": [
       "<Figure size 1000x400 with 2 Axes>"
      ]
     },
     "metadata": {},
     "output_type": "display_data"
    }
   ],
   "source": [
    "title = \"Visualizing $log(f)$ and $-log(f)$ and area of interest\"\n",
    "import numpy as np\n",
    "import matplotlib.pyplot as plt\n",
    "\n",
    "f = np.arange(.01, 5,.01)\n",
    "log_f = np.log(f)\n",
    "neg_log_f = -log_f\n",
    "\n",
    "fig,axes = plt.subplots(1,2, figsize=(10,4))\n",
    "for ax in axes:\n",
    "    ax.plot(f, log_f)\n",
    "    ax.plot(f, neg_log_f)\n",
    "    ax.legend(['$log(f)$', '$-log(f)$'], loc='upper right')\n",
    "    # Reference: https://www.geeksforgeeks.org/matplotlib-pyplot-axvspan-in-python/\n",
    "    ax.axvspan(xmin=0, xmax=1, ymin=0.5, ymax=5, color='yellow',alpha=.25)\n",
    "    ax.set_xlabel('$f$')\n",
    "    ax.grid()\n",
    "ax.set_xlim([0,1])\n",
    "axes[0].set_title('$-log(f)$')\n",
    "axes[1].set_title('$-log(f)$ - Zoomed in')\n",
    "plt.suptitle(title);\n",
    "plt.tight_layout()"
   ]
  },
  {
   "cell_type": "markdown",
   "id": "c11dce6c",
   "metadata": {},
   "source": [
    "### Optional lab: Logistic loss"
   ]
  },
  {
   "cell_type": "markdown",
   "id": "fd6cef7c",
   "metadata": {},
   "source": [
    "Refer to [greyhat](greyhatguy007/Optional%20Labs/C1_W3_Lab04_LogisticLoss_Soln.ipynb) solutions and [my practice](greyhatguy007/Optional%20Labs/C1_W3_Lab04_LogisticLoss_Practice_TP.ipynb) for now"
   ]
  },
  {
   "cell_type": "markdown",
   "id": "8865a96e",
   "metadata": {},
   "source": [
    "Note:\n",
    "- The **squared error cost function worked well for linear regression**. So, it is natural to consider it for logistic regression as well. However, $f_{wb}(x)$ now has a non-linear component in logistic regression, the sigmoid function:   $f_{w,b}(x^{(i)}) = sigmoid(wx^{(i)} + b )$. Therefore, **logistic regression requires a cost function more suitable to its non-linear nature**.\n",
    "- Logistic Regression, therefore uses a loss function more suited to the task of categorization where the target is 0 or 1 rather than any number. "
   ]
  },
  {
   "cell_type": "markdown",
   "id": "486552a9",
   "metadata": {},
   "source": [
    "This is defined: \n",
    "* $loss(f_{\\mathbf{w},b}(\\mathbf{x}^{(i)}), y^{(i)})$ is the cost for a single data point, which is:\n",
    "\n",
    "    \\begin{equation}\n",
    "      loss(f_{\\mathbf{w},b}(\\mathbf{x}^{(i)}), y^{(i)}) = \\begin{cases}\n",
    "        - \\log\\left(f_{\\mathbf{w},b}\\left( \\mathbf{x}^{(i)} \\right) \\right) & \\text{if $y^{(i)}=1$}\\\\\n",
    "        - \\log \\left( 1 - f_{\\mathbf{w},b}\\left( \\mathbf{x}^{(i)} \\right) \\right) & \\text{if $y^{(i)}=0$}\n",
    "      \\end{cases}\n",
    "    \\end{equation}\n",
    "\n",
    "\n",
    "*  $f_{\\mathbf{w},b}(\\mathbf{x}^{(i)})$ is the model's prediction, while $y^{(i)}$ is the target value.\n",
    "\n",
    "*  $f_{\\mathbf{w},b}(\\mathbf{x}^{(i)}) = g(\\mathbf{w} \\cdot\\mathbf{x}^{(i)}+b)$ where function $g$ is the sigmoid function.\n",
    "\n",
    "The defining feature of this loss function is the fact that it uses two separate curves. One for the case when the target is zero or ($y=0$) and another for when the target is one ($y=1$). Combined, these curves provide the behavior useful for a loss function, namely, being zero when the prediction matches the target and rapidly increasing in value as the prediction differs from the target. Consider the curves below:"
   ]
  },
  {
   "cell_type": "markdown",
   "id": "0ef3ba77",
   "metadata": {},
   "source": [
    "<div align=\"center\">\n",
    "    <img src=\"attachments/lab_logistic_loss_function_1.png\" alt=\"Drawing\" style=\"width: 60%;\">\n",
    "</div>"
   ]
  },
  {
   "cell_type": "markdown",
   "id": "e70c48c2",
   "metadata": {},
   "source": [
    "Combined, the curves are similar to the quadratic curve of the squared error loss. Note, the x-axis is $f_{\\mathbf{w},b}$ which is the output of a sigmoid. The sigmoid output is strictly between 0 and 1."
   ]
  },
  {
   "cell_type": "markdown",
   "id": "23603f08",
   "metadata": {},
   "source": [
    "The loss function above can be rewritten to be easier to implement.\n",
    "    $$loss(f_{\\mathbf{w},b}(\\mathbf{x}^{(i)}), y^{(i)}) = (-y^{(i)} \\log\\left(f_{\\mathbf{w},b}\\left( \\mathbf{x}^{(i)} \\right) \\right) - \\left( 1 - y^{(i)}\\right) \\log \\left( 1 - f_{\\mathbf{w},b}\\left( \\mathbf{x}^{(i)} \\right) \\right)$$\n",
    "  \n",
    "This is a rather formidable-looking equation. It is less daunting when you consider $y^{(i)}$ can have only two values, 0 and 1. One can then consider the equation in two pieces:  \n",
    "when $ y^{(i)} = 0$, the left-hand term is eliminated:\n",
    "$$\n",
    "\\begin{align}\n",
    "loss(f_{\\mathbf{w},b}(\\mathbf{x}^{(i)}), 0) &= (-(0) \\log\\left(f_{\\mathbf{w},b}\\left( \\mathbf{x}^{(i)} \\right) \\right) - \\left( 1 - 0\\right) \\log \\left( 1 - f_{\\mathbf{w},b}\\left( \\mathbf{x}^{(i)} \\right) \\right) \\\\\n",
    "&= -\\log \\left( 1 - f_{\\mathbf{w},b}\\left( \\mathbf{x}^{(i)} \\right) \\right)\n",
    "\\end{align}\n",
    "$$\n",
    "and when $ y^{(i)} = 1$, the right-hand term is eliminated:\n",
    "$$\n",
    "\\begin{align}\n",
    "  loss(f_{\\mathbf{w},b}(\\mathbf{x}^{(i)}), 1) &=  (-(1) \\log\\left(f_{\\mathbf{w},b}\\left( \\mathbf{x}^{(i)} \\right) \\right) - \\left( 1 - 1\\right) \\log \\left( 1 - f_{\\mathbf{w},b}\\left( \\mathbf{x}^{(i)} \\right) \\right)\\\\\n",
    "  &=  -\\log\\left(f_{\\mathbf{w},b}\\left( \\mathbf{x}^{(i)} \\right) \\right)\n",
    "\\end{align}\n",
    "$$\n",
    "\n",
    "OK, with this **new logistic loss function**, a **cost function** can be produced that incorporates the loss from all the examples. This will be the topic of the next lab. For now, let's take a look at the cost vs parameters curve for the simple example we discussed above in the lab:"
   ]
  },
  {
   "cell_type": "markdown",
   "id": "a1a19b30",
   "metadata": {},
   "source": [
    "<div align=\"center\">\n",
    "    <img src=\"attachments/lab_logistic_loss_function_2.png\" alt=\"Drawing\" style=\"width: 70%;\">\n",
    "</div>"
   ]
  },
  {
   "cell_type": "markdown",
   "id": "56aa1b2e",
   "metadata": {
    "ExecuteTime": {
     "end_time": "2023-03-18T04:02:00.958214Z",
     "start_time": "2023-03-18T04:02:00.937878Z"
    }
   },
   "source": [
    "**This curve is well suited to gradient descent! It does not have plateaus, local minima, or discontinuities**. Note, it is not a bowl as in the case of squared error. Both the cost and the log of the cost are plotted to illuminate the fact that the curve, when the cost is small, has a slope and continues to decline."
   ]
  },
  {
   "cell_type": "markdown",
   "id": "c10c541d",
   "metadata": {},
   "source": [
    "### Simplified Cost Function for Logistic Regression"
   ]
  },
  {
   "cell_type": "markdown",
   "id": "c3dd8d51",
   "metadata": {},
   "source": [
    "<div align=\"center\">\n",
    "    <img src=\"attachments/simplified_cost_func_for_logistic_regression_1.png\" alt=\"Drawing\" style=\"width: 45%;\">\n",
    "    <img src=\"attachments/simplified_cost_func_for_logistic_regression_2.png\" alt=\"Drawing\" style=\"width: 45%;\">\n",
    "</div>"
   ]
  },
  {
   "cell_type": "markdown",
   "id": "4a928873",
   "metadata": {},
   "source": [
    "In the previous sections, we learnt about loss function for a single data point and cost function for logistic regression. Let's combine both to get a simplified cost function.\n",
    "\n",
    "**Simplified logistic loss function**\n",
    "    \\begin{equation}\n",
    "      L(f_{\\vec{w},b}(\\vec{x}^{(i)}), y^{(i)}) = \\begin{cases}\n",
    "        - \\log\\left(f_{\\vec{w},b}(\\vec{x}^{(i)}) \\right) & \\text{if $y^{(i)}=1$}\\\\\n",
    "        - \\log \\left( 1 - f_{\\vec{w},b}( \\vec{x}^{(i)} ) \\right) & \\text{if $y^{(i)}=0$}\n",
    "      \\end{cases}\n",
    "    \\end{equation}\n",
    "    \n",
    "$$L(f_{\\vec{w},b}(\\vec{x}^{(i)}), y^{(i)}) = (-y^{(i)} \\log\\left(f_{\\vec{w},b}( \\vec{x}^{(i)} ) \\right) - \\left( 1 - y^{(i)}\\right) \\log \\left( 1 - f_{\\vec{w},b}( \\vec{x}^{(i)} ) \\right)$$"
   ]
  },
  {
   "cell_type": "markdown",
   "id": "56dcccfd",
   "metadata": {},
   "source": [
    "**Simplified cost function**\n",
    "\n",
    "Loss is defined to apply to one example. Here, we combine the losses to form the cost, which includes all the examples.\n",
    "\n",
    "$$J(\\vec{w},b) = \\frac{1}{m}\\sum_{i=1}^{m}\\left [ L(f_{\\vec{w},b}(\\vec{x}^{(i)}), y^{(i)})\\right ]$$"
   ]
  },
  {
   "cell_type": "markdown",
   "id": "26771606",
   "metadata": {},
   "source": [
    "$$J(\\vec{w},b) = -\\frac{1}{m}\\sum_{i=1}^{m}\\left [ y^{(i)} \\log\\left(f_{\\vec{w},b}( \\vec{x}^{(i)} ) \\right) + \\left( 1 - y^{(i)}\\right) \\log \\left( 1 - f_{\\vec{w},b}( \\vec{x}^{(i)} ) \\right)\\right ]$$"
   ]
  },
  {
   "cell_type": "markdown",
   "id": "bf2599dc",
   "metadata": {},
   "source": [
    "$$\n",
    "\\begin{align}\n",
    "  f_{\\vec{w},b}(\\vec{x^{(i)}}) &= g(z^{(i)}) \\\\\n",
    "  z^{(i)} &= \\vec{w} \\cdot \\vec{x}^{(i)}+ b \\\\\n",
    "  g(z^{(i)}) &= \\frac{1}{1+e^{-z^{(i)}}} \n",
    "\\end{align}\n",
    "$$"
   ]
  },
  {
   "cell_type": "markdown",
   "id": "95c0be10",
   "metadata": {},
   "source": [
    "Why did we choose this particular cost function for logistic regression when we could have chosen tons of other functions?\n",
    "- This cost function is derived from statistics using a statistical principle called **Maximum Likelihood Estimation**, an idea on how to efficiently find parameters for different models. The cost function also is convex."
   ]
  },
  {
   "cell_type": "markdown",
   "id": "01cdea9e",
   "metadata": {},
   "source": [
    "### Optional lab: Cost function for logistic regression"
   ]
  },
  {
   "cell_type": "markdown",
   "id": "788fd06f",
   "metadata": {},
   "source": [
    "Refer to [greyhat](greyhatguy007/Optional%20Labs/C1_W3_Lab05_Cost_Function_Soln.ipynb) solutions and [my practice](greyhatguy007/Optional%20Labs/C1_W3_Lab05_Cost_Function_Practice_TP.ipynb) for now"
   ]
  },
  {
   "cell_type": "markdown",
   "id": "c247d0cd",
   "metadata": {},
   "source": [
    "## Practice Quiz: Cost function for logistic regression"
   ]
  },
  {
   "cell_type": "markdown",
   "id": "70bf3c34",
   "metadata": {},
   "source": [
    "## Gradient descent for logistic regression"
   ]
  },
  {
   "cell_type": "markdown",
   "id": "65e58198",
   "metadata": {},
   "source": [
    "### Gradient Descent Implementation"
   ]
  },
  {
   "cell_type": "markdown",
   "id": "78729058",
   "metadata": {},
   "source": [
    "<div align=\"center\">\n",
    "    <img src=\"attachments/gradient_descent_implementation_1.png\" alt=\"Drawing\" style=\"width: 40%;\">\n",
    "</div>"
   ]
  },
  {
   "cell_type": "markdown",
   "id": "5f7d5235",
   "metadata": {},
   "source": [
    "To fit the parameters of logistic regression model, we need to find the value of parmaeters $w$ and $b$ that minimize the cost function $J(\\vec{w},b)$. To do this, we will apply gradient descent."
   ]
  },
  {
   "cell_type": "markdown",
   "id": "f3bd3763",
   "metadata": {},
   "source": [
    "<div align=\"center\">\n",
    "    <img src=\"attachments/gradient_descent_implementation_2.png\" alt=\"Drawing\" style=\"width: 60%;\">\n",
    "</div>"
   ]
  },
  {
   "cell_type": "markdown",
   "id": "fe76ae30",
   "metadata": {},
   "source": [
    "<div align=\"center\">\n",
    "    <img src=\"attachments/gradient_descent_implementation_3.png\" alt=\"Drawing\" style=\"width: 50%;\">\n",
    "</div>"
   ]
  },
  {
   "cell_type": "markdown",
   "id": "f3f8b6d4",
   "metadata": {},
   "source": [
    "<span style=\"color:blue\"><b>Though the derivative terms for logistic regression look similar to linear regression, they are not the same as the definition for $f_{w,b}(x)$ is changed</b>. Therefore, they are two very different algorithms.</span>"
   ]
  },
  {
   "cell_type": "markdown",
   "id": "8e3bed45",
   "metadata": {},
   "source": [
    "---"
   ]
  },
  {
   "cell_type": "markdown",
   "id": "2f72687d",
   "metadata": {},
   "source": [
    "**(Optional) How to compute derivate of cost function for logistic regression?**\n",
    "\n",
    "Using Source: [Stack overflow post](https://math.stackexchange.com/questions/477207/derivative-of-cost-function-for-logistic-regression), derived out of personal interest."
   ]
  },
  {
   "cell_type": "markdown",
   "id": "55ce2e35",
   "metadata": {},
   "source": [
    "$$J(\\vec{w},b) = -\\frac{1}{m}\\sum_{i=1}^{m}\\left [ y^{(i)} \\log\\left(f_{\\vec{w},b}( \\vec{x}^{(i)} ) \\right) + \\left( 1 - y^{(i)}\\right) \\log \\left( 1 - f_{\\vec{w},b}( \\vec{x}^{(i)} ) \\right)\\right ]$$"
   ]
  },
  {
   "cell_type": "markdown",
   "id": "df150a53",
   "metadata": {},
   "source": [
    "$$\\frac{\\partial}{\\partial w_j}J(\\vec{w},b) = \\frac{\\partial}{\\partial w_j}\\left [-\\frac{1}{m}\\sum_{i=1}^{m}\\left [ y^{(i)} \\log\\left(f_{\\vec{w},b}( \\vec{x}^{(i)} ) \\right) + \\left( 1 - y^{(i)}\\right) \\log \\left( 1 - f_{\\vec{w},b}( \\vec{x}^{(i)} ) \\right)\\right ]\\right ]$$"
   ]
  },
  {
   "cell_type": "markdown",
   "id": "abd178a1",
   "metadata": {},
   "source": [
    "Treating anything without $w_j$ as constant\n",
    "\n",
    "$$\\frac{\\partial}{\\partial w_j}J(\\vec{w},b) = -\\frac{1}{m}\\sum_{i=1}^{m}\\left [ y^{(i)} \\frac{\\partial}{\\partial w_j}\\left [\\log\\left(f_{\\vec{w},b}( \\vec{x}^{(i)} ) \\right)\\right ] + \\left( 1 - y^{(i)}\\right)  \\frac{\\partial}{\\partial w_j}\\left  [ \\log \\left( 1 - f_{\\vec{w},b}( \\vec{x}^{(i)} ) \\right)\\right ] \\right ]\\tag{1}$$"
   ]
  },
  {
   "cell_type": "markdown",
   "id": "9fb1836c",
   "metadata": {},
   "source": [
    "Let's solve each derivative separately and then plug back in on $(1)$ using chain rule: $\\frac{df(u)}{dx} = \\frac{df}{du}\\cdot\\frac{du}{dx}$\n",
    "\n",
    "$$\\frac{\\partial}{\\partial w_j}\\left [\\log\\left(f_{\\vec{w},b}( \\vec{x}^{(i)} ) \\right)\\right ] = \\frac{1}{f_{\\vec{w},b}( \\vec{x}^{(i)})} \\frac{\\partial}{\\partial w_j}f_{\\vec{w},b}( \\vec{x}^{(i)} ) \\tag{2}$$"
   ]
  },
  {
   "cell_type": "markdown",
   "id": "c5ce54cc",
   "metadata": {},
   "source": [
    "$$\\frac{\\partial}{\\partial w_j}\\left  [ \\log \\left( 1 - f_{\\vec{w},b}( \\vec{x}^{(i)} ) \\right)\\right ] = \\frac{1}{ 1 - f_{\\vec{w},b}( \\vec{x}^{(i)} )} \\frac{\\partial}{\\partial w_j}\\left( 1 - f_{\\vec{w},b}( \\vec{x}^{(i)} ) \\right) =  \\frac{-1}{ 1 - f_{\\vec{w},b}( \\vec{x}^{(i)} )} \\frac{\\partial}{\\partial w_j}f_{\\vec{w},b}( \\vec{x}^{(i)} ) \\tag{3}$$"
   ]
  },
  {
   "cell_type": "markdown",
   "id": "c137f38b",
   "metadata": {},
   "source": [
    "Plug $(2)$ and $(3)$ in $(1)$:\n",
    "\n",
    "$$\\frac{\\partial}{\\partial w_j}J(\\vec{w},b) = -\\frac{1}{m}\\sum_{i=1}^{m}\\left [ y^{(i)}\\frac{1}{f_{\\vec{w},b}( \\vec{x}^{(i)})} \\frac{\\partial}{\\partial w_j}f_{\\vec{w},b}( \\vec{x}^{(i)} )  + \\left( 1 - y^{(i)}\\right)    \\frac{-1}{ 1 - f_{\\vec{w},b}( \\vec{x}^{(i)} )} \\frac{\\partial}{\\partial w_j}f_{\\vec{w},b}( \\vec{x}^{(i)} ) \\right ]$$"
   ]
  },
  {
   "cell_type": "markdown",
   "id": "b52c5b20",
   "metadata": {},
   "source": [
    "$$\\frac{\\partial}{\\partial w_j}J(\\vec{w},b) = -\\frac{1}{m}\\sum_{i=1}^{m}\\left [ \\frac{y^{(i)}}{f_{\\vec{w},b}( \\vec{x}^{(i)})}  -  \\frac{1 - y^{(i)}}{ 1 - f_{\\vec{w},b}( \\vec{x}^{(i)} )} \\right ]\\frac{\\partial}{\\partial w_j}f_{\\vec{w},b}( \\vec{x}^{(i)} ) \\tag{4}$$"
   ]
  },
  {
   "cell_type": "markdown",
   "id": "53ce854e",
   "metadata": {},
   "source": [
    "As $f_{\\vec{w},b}(x^i) = g(z^i) = \\frac{1}{1+e^{-z^i}}$ and $z^i=w\\cdot x^i+b$, \n",
    "\n",
    " Using chain rule, the derivative of the model (hypothesis) can be understood as"
   ]
  },
  {
   "cell_type": "markdown",
   "id": "e9c305db",
   "metadata": {},
   "source": [
    "$$\\frac{\\partial}{\\partial w_j}f_{\\vec{w},b}( \\vec{x}^{(i)} ) = \\frac{\\partial}{\\partial z}g(z^i) \\cdot \\frac{\\partial}{\\partial w_j}z^i(w) = g(z^i)\\cdot \\left[ 1-g(z^i)\\right]\\cdot x_j^i = f_{\\vec{w},b}(x^{(i)})\\cdot \\left[ 1-f_{\\vec{w},b}(x^{(i)})\\right]\\cdot x_j^i \\tag{5} $$"
   ]
  },
  {
   "cell_type": "markdown",
   "id": "09bd7f8b",
   "metadata": {},
   "source": [
    "where\n",
    "$$ \\frac{\\partial}{\\partial z}g(z^i) = \\frac{\\partial}{\\partial z}\\frac{1}{1+e^{-z^i}} = -1{(1+e^{-z^i})}^{-2}\\frac{\\partial}{\\partial z}(1+e^{-z^i}) = -1{(1+e^{-z^i})}^{-2}(-e^{-z^i}) = \\frac{1}{1+e^{-z^i}}\\cdot \\frac{e^{-z^i}}{1+e^{-z^i}}\\\\\n",
    "\\phantom{\\frac{\\partial}{\\partial z}f(z)} = \\left[ \\frac{1}{1+e^{-z^i}}\\right] \\cdot \\left[1-\\frac{1}{1+e^{-z^i}} \\right] = g(z^i)\\cdot \\left[ 1-g(z^i)\\right]$$"
   ]
  },
  {
   "cell_type": "markdown",
   "id": "81c6a5f4",
   "metadata": {},
   "source": [
    "and\n",
    "$$\\frac{\\partial}{\\partial w_j}z(w) = \\frac{\\partial}{\\partial w_j}(\\vec{w}\\vec{x}^{i}+b) = \\frac{\\partial}{\\partial w_j}(w_1x_1^{i} + ... + w_nx_n^{i} + b) = x_j^{i}$$"
   ]
  },
  {
   "cell_type": "markdown",
   "id": "f933a134",
   "metadata": {},
   "source": [
    "Plug $(5)$ in $(4)$:"
   ]
  },
  {
   "cell_type": "markdown",
   "id": "cdf3f8d6",
   "metadata": {},
   "source": [
    "$$\\frac{\\partial}{\\partial w_j}J(\\vec{w},b) = -\\frac{1}{m}\\sum_{i=1}^{m}\\left [ \\frac{y^{(i)}}{f_{\\vec{w},b}( \\vec{x}^{(i)})}  -  \\frac{1 - y^{(i)}}{ 1 - f_{\\vec{w},b}( \\vec{x}^{(i)} )} \\right ]\\cdot \\left[ f_{\\vec{w},b}(x^{(i)})\\cdot \\left[ 1-f_{\\vec{w},b}(x^{(i)})\\right]\\cdot x_j^{(i)} \\right ]$$"
   ]
  },
  {
   "cell_type": "markdown",
   "id": "77c7dfb6",
   "metadata": {},
   "source": [
    "Applying some basic algebra and solving subtraction:"
   ]
  },
  {
   "cell_type": "markdown",
   "id": "1bf25c89",
   "metadata": {},
   "source": [
    "$$\\frac{\\partial}{\\partial w_j}J(\\vec{w},b) = \\frac{1}{m}\\sum_{i=1}^{m}(f_{\\vec{w},b}(x^{(i)})-y^{(i)})x_{j}^{(i)}$$"
   ]
  },
  {
   "cell_type": "markdown",
   "id": "74c67a5b",
   "metadata": {},
   "source": [
    "---"
   ]
  },
  {
   "cell_type": "markdown",
   "id": "5f93984b",
   "metadata": {
    "ExecuteTime": {
     "end_time": "2023-03-19T02:26:47.744055Z",
     "start_time": "2023-03-19T02:26:47.720046Z"
    }
   },
   "source": [
    "**Besides many concepts are same for linear and logistic regression**\n",
    "- Monitoring gradient decent (a.k.a. **learning curve**) for convergence\n",
    "- Vectorized implementation for faster computation\n",
    "- Feature scaling speeds up gradient descent convergence"
   ]
  },
  {
   "cell_type": "markdown",
   "id": "5495181a",
   "metadata": {},
   "source": [
    "### Optional lab: Gradient descent for logistic regression"
   ]
  },
  {
   "cell_type": "markdown",
   "id": "5c09072c",
   "metadata": {},
   "source": [
    "Refer to [greyhat](greyhatguy007/Optional%20Labs/C1_W3_Lab06_Gradient_Descent_Soln.ipynb) solutions and [my practice](greyhatguy007/Optional%20Labs/C1_W3_Lab06_Gradient_Descent_Practice_TP.ipynb) for now"
   ]
  },
  {
   "attachments": {},
   "cell_type": "markdown",
   "id": "207b8570",
   "metadata": {},
   "source": [
    "Note: Try out this simulation in the lab as it's very helpful to viz.\n",
    "\n",
    "<div align=\"center\">\n",
    "    <img src=\"attachments/gradient_descent_practice_1.png\" alt=\"Drawing\" style=\"width: 80%;\">\n",
    "    <img src=\"attachments/gradient_descent_practice_2.png\" alt=\"Drawing\" style=\"width: 80%;\">\n",
    "</div>"
   ]
  },
  {
   "cell_type": "markdown",
   "id": "8a54b246",
   "metadata": {},
   "source": [
    "### Optional lab: Logistic regression with scikit-learn"
   ]
  },
  {
   "cell_type": "markdown",
   "id": "50101207",
   "metadata": {},
   "source": [
    "Refer to [greyhat](greyhatguy007/Optional%20Labs/C1_W3_Lab07_Scikit_Learn_Soln.ipynb) solutions and [my practice](greyhatguy007/Optional%20Labs/C1_W3_Lab07_Scikit_Learn_Practice_TP.ipynb) for now"
   ]
  },
  {
   "cell_type": "markdown",
   "id": "aedcfeb0",
   "metadata": {},
   "source": [
    "## Practice quiz: Gradient descent for logistic regression"
   ]
  },
  {
   "cell_type": "markdown",
   "id": "8b096fe7",
   "metadata": {},
   "source": [
    "## The problem of overfitting"
   ]
  },
  {
   "cell_type": "markdown",
   "id": "b9ce2d4d",
   "metadata": {},
   "source": [
    "### The problem of overfitting"
   ]
  },
  {
   "cell_type": "markdown",
   "id": "aa4ea90b",
   "metadata": {},
   "source": []
  },
  {
   "cell_type": "markdown",
   "id": "8e84e200",
   "metadata": {},
   "source": [
    "### Addressing overfitting"
   ]
  },
  {
   "cell_type": "markdown",
   "id": "94401826",
   "metadata": {},
   "source": []
  },
  {
   "cell_type": "markdown",
   "id": "eb31edb5",
   "metadata": {},
   "source": [
    "### Optional lab: Overfitting"
   ]
  },
  {
   "cell_type": "markdown",
   "id": "fdc9b710",
   "metadata": {},
   "source": []
  },
  {
   "cell_type": "markdown",
   "id": "81487c94",
   "metadata": {},
   "source": [
    "### Cost function with regularization"
   ]
  },
  {
   "cell_type": "markdown",
   "id": "e4226ad5",
   "metadata": {},
   "source": []
  },
  {
   "cell_type": "markdown",
   "id": "b98e4a04",
   "metadata": {},
   "source": [
    "### Regularized linear regression"
   ]
  },
  {
   "cell_type": "markdown",
   "id": "2adedf97",
   "metadata": {},
   "source": []
  },
  {
   "cell_type": "markdown",
   "id": "865f5920",
   "metadata": {
    "ExecuteTime": {
     "end_time": "2023-03-17T05:05:14.896887Z",
     "start_time": "2023-03-17T05:05:14.877936Z"
    }
   },
   "source": [
    "### Optional lab: Regularization"
   ]
  },
  {
   "cell_type": "markdown",
   "id": "c85fd238",
   "metadata": {},
   "source": []
  },
  {
   "cell_type": "markdown",
   "id": "abb3c69f",
   "metadata": {},
   "source": [
    "## Practice Quiz: The problem of overfitting"
   ]
  },
  {
   "cell_type": "markdown",
   "id": "343b0309",
   "metadata": {},
   "source": [
    "## Week 3 practice lab: Logistic regression"
   ]
  },
  {
   "cell_type": "markdown",
   "id": "ac6b690a",
   "metadata": {},
   "source": []
  },
  {
   "cell_type": "markdown",
   "id": "d4b5f58d",
   "metadata": {},
   "source": []
  },
  {
   "cell_type": "markdown",
   "id": "5b76f76a",
   "metadata": {},
   "source": []
  },
  {
   "cell_type": "markdown",
   "id": "ac30be0f",
   "metadata": {},
   "source": []
  },
  {
   "cell_type": "markdown",
   "id": "dcda13bd",
   "metadata": {},
   "source": []
  },
  {
   "cell_type": "markdown",
   "id": "0ca274b6",
   "metadata": {},
   "source": []
  }
 ],
 "metadata": {
  "kernelspec": {
   "display_name": "Python [conda env:ga]",
   "language": "python",
   "name": "conda-env-ga-py"
  },
  "language_info": {
   "codemirror_mode": {
    "name": "ipython",
    "version": 3
   },
   "file_extension": ".py",
   "mimetype": "text/x-python",
   "name": "python",
   "nbconvert_exporter": "python",
   "pygments_lexer": "ipython3",
   "version": "3.9.16"
  },
  "toc": {
   "base_numbering": 1,
   "nav_menu": {},
   "number_sections": true,
   "sideBar": true,
   "skip_h1_title": false,
   "title_cell": "Table of Contents",
   "title_sidebar": "Contents",
   "toc_cell": true,
   "toc_position": {
    "height": "781px",
    "left": "22px",
    "top": "111.125px",
    "width": "384px"
   },
   "toc_section_display": true,
   "toc_window_display": true
  }
 },
 "nbformat": 4,
 "nbformat_minor": 5
}
