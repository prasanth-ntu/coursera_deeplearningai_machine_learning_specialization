{
 "cells": [
  {
   "cell_type": "markdown",
   "id": "184bf8a3",
   "metadata": {
    "toc": true
   },
   "source": [
    "<h1>Table of Contents<span class=\"tocSkip\"></span></h1>\n",
    "<div class=\"toc\"><ul class=\"toc-item\"><li><span><a href=\"#Mind-map\" data-toc-modified-id=\"Mind-map-1\"><span class=\"toc-item-num\">1&nbsp;&nbsp;</span>Mind map</a></span></li><li><span><a href=\"#C1:-Supervised-Machine-Learning:-Regression-and-Classification\" data-toc-modified-id=\"C1:-Supervised-Machine-Learning:-Regression-and-Classification-2\"><span class=\"toc-item-num\">2&nbsp;&nbsp;</span>C1: Supervised Machine Learning: Regression and Classification</a></span><ul class=\"toc-item\"><li><span><a href=\"#C1-W1:-Introduction-to-ML\" data-toc-modified-id=\"C1-W1:-Introduction-to-ML-2.1\"><span class=\"toc-item-num\">2.1&nbsp;&nbsp;</span>C1 W1: Introduction to ML</a></span><ul class=\"toc-item\"><li><span><a href=\"#Regression-Model\" data-toc-modified-id=\"Regression-Model-2.1.1\"><span class=\"toc-item-num\">2.1.1&nbsp;&nbsp;</span><strong>Regression Model</strong></a></span></li></ul></li></ul></li><li><span><a href=\"#C1-W2:-Regression-with-multiple-input-variable\" data-toc-modified-id=\"C1-W2:-Regression-with-multiple-input-variable-3\"><span class=\"toc-item-num\">3&nbsp;&nbsp;</span>C1 W2: Regression with multiple input variable</a></span></li></ul></div>"
   ]
  },
  {
   "cell_type": "markdown",
   "id": "e51fe8d7",
   "metadata": {},
   "source": [
    "# Mind map"
   ]
  },
  {
   "cell_type": "markdown",
   "id": "e9277d1a",
   "metadata": {},
   "source": [
    "- Viz: https://dreampuf.github.io/GraphvizOnline/# | https://graphs.grevian.org/graph/6002810497794048\n",
    "- Source: https://renenyffenegger.ch/notes/tools/Graphviz/examples/index"
   ]
  },
  {
   "cell_type": "code",
   "execution_count": 7,
   "id": "a178b240",
   "metadata": {
    "ExecuteTime": {
     "end_time": "2023-03-21T03:10:01.408035Z",
     "start_time": "2023-03-21T03:10:01.401284Z"
    }
   },
   "outputs": [],
   "source": [
    "import os\n",
    "import pydot\n",
    "from IPython.display import Image, display\n",
    "\n",
    "def view_pydot(pdot):\n",
    "    plt = Image(pdot.create_png())\n",
    "    display(plt)"
   ]
  },
  {
   "cell_type": "code",
   "execution_count": 148,
   "id": "f3948f0a",
   "metadata": {
    "ExecuteTime": {
     "end_time": "2023-03-21T04:23:55.732550Z",
     "start_time": "2023-03-21T04:23:55.716984Z"
    },
    "code_folding": [
     0,
     2,
     5
    ]
   },
   "outputs": [],
   "source": [
    "# \n",
    "# Not used\n",
    "#Source: https://renenyffenegger.ch/notes/tools/Graphviz/examples/index\n",
    "        \n",
    "# dot_string = \"\"\"\n",
    "# digraph my_graph {\n",
    "\n",
    "#     node [shape=plaintext]\n",
    "    \n",
    "#     {rank=same; C1W1; C1W1_1; C1W1_2 ;C1W1_2; C1W1_3; C1W1_4}\n",
    "#         {rank=same; C1W1_2a; C1W1_3a; C1W1_4a}\n",
    "#     {rank=same; C1W2; C1W2_1; C1W2_2 ;C1W2_2; C1W2_3; C1W2_4}\n",
    "#         {rank=same; C1W2_2a; C1W2_3a; C1W2_4a}\n",
    "#     {rank=same; C1W3; C1W3_1; C1W3_2 ;C1W3_2; C1W3_3; C1W3_4}\n",
    "\n",
    "#     C1 [shape=box, label=\"Supervised learning:\\n Regression and Classification\"]\n",
    "#     C1W1 [shape=box label=\"Linear regression \\nwith single feature\\n(a.k.a) Univariate Linear Regression\"];\n",
    "#         C1W1_1 [label=\"Single variable\"];\n",
    "#         C1W1_2 [label=\"Model, f(x)\"];\n",
    "#             C1W1_2a [label=\"Straight line\"];\n",
    "#         C1W1_3 [label=\"Cost function, J\"];\n",
    "#         C1W1_4 [label=\"Gradient Descent, dJ/dw\"];\n",
    "#     C1W2 [shape=box label=\"Linear regression\\nwith multiple features\"];\n",
    "#         C1W2_1 [label=\"Single variable\"];\n",
    "#         C1W2_2 [label=\"Model, f(x)\"];\n",
    "#         C1W2_3 [label=\"Cost function, J\"];\n",
    "#         C1W2_4 [label=\"Gradient Descent, dJ/dw\"];\n",
    "#     C1W3 [shape=box label=\"Logistic regression\"];\n",
    "#         C1W3_1 [label=\"<b>Single variable</b>\"];\n",
    "#         C1W3_2 [label=\"Model, f(x)\"];\n",
    "#         C1W3_3 [label=\"Cost function, J\"];\n",
    "#         C1W3_4 [label=\"Gradient Descent, dJ/dw\"];\n",
    "    \n",
    "#     C1 -> C1W1 [penwidth=2];\n",
    "#     C1W1 -> C1W2;\n",
    "#     C1W2 -> C1W3;\n",
    "\n",
    "#     C1W1 -> C1W1_1 -> C1W1_2 -> C1W1_3 -> C1W1_4;\n",
    "    \n",
    "    \n",
    "#     subgraph cluster_C1W1 {\n",
    "#         C1W1;\n",
    "#         C1W1_1;\n",
    "#         C1W1_2;\n",
    "#         C1W1_3;\n",
    "#         C1W1_4;     \n",
    "        \n",
    "#         C1W1_2 -> C1W1_2a;\n",
    "#         C1W1_3 -> C1W1_3a;\n",
    "#         subgraph cluster_C1_{\n",
    "#             C1W1_2a;\n",
    "#             C1W1_3a;\n",
    "#         }\n",
    "#     }\n",
    "\n",
    "    \n",
    "#     C1W2 -> C1W2_1 -> C1W2_2 -> C1W2_3 -> C1W2_4;\n",
    "#     C1W2_2 -> C1W2_2a;\n",
    "#     subgraph cluster_C1W2 {\n",
    "#         C1W2;\n",
    "#         C1W2_1;\n",
    "#         C1W2_2;\n",
    "#         C1W2_3;\n",
    "#         C1W2_4;\n",
    "#     }\n",
    "    \n",
    "#     C1W3 -> C1W3_1 -> C1W3_2 -> C1W3_3 -> C1W3_4;\n",
    "#     subgraph cluster_C1W3 {\n",
    "#         C1W3;\n",
    "#         C1W3_1;\n",
    "#         C1W3_2;\n",
    "#         C1W3_3;\n",
    "#         C1W3_4;\n",
    "#     }\n",
    "    \n",
    "# }\n",
    "# \"\"\"\n",
    "\n",
    "# graphs = pydot.graph_from_dot_data(dot_string)\n",
    "# graph = graphs[0]\n",
    "\n",
    "# graph.write_png(\"map.png\")\n",
    "# view_pydot(graph)"
   ]
  },
  {
   "cell_type": "code",
   "execution_count": 180,
   "id": "08c697a0",
   "metadata": {
    "ExecuteTime": {
     "end_time": "2023-03-21T05:05:39.337494Z",
     "start_time": "2023-03-21T05:05:39.007220Z"
    }
   },
   "outputs": [
    {
     "data": {
      "image/png": "[encoded data removed]",
      "text/plain": [
       "<IPython.core.display.Image object>"
      ]
     },
     "metadata": {},
     "output_type": "display_data"
    }
   ],
   "source": [
    "dot_string = \"\"\"\n",
    "digraph D {\n",
    "\n",
    "  node [shape=plaintext fontsize=\"12\"];\n",
    "\n",
    "    {rank=same; C1W1; C1W1_1; C1W1_2; C1W1_3}\n",
    "    {rank=same; C1W2; C1W2_1; C1W2_2; C1W2_3; C1W2_4}\n",
    "    {rank=same; C1W3; C1W3_1; C1W3_2; C1W3_3}\n",
    "\n",
    "  C1W1 [ label=<\n",
    "   <table border=\"1\" cellborder=\"0\" cellspacing=\"1\">\n",
    "     <tr><td align=\"left\"><b>C1 W1: Linear regression with single feature</b></td></tr>\n",
    "   </table>>];\n",
    "\n",
    "  C1W2 [ label=<\n",
    "   <table border=\"1\" cellborder=\"0\" cellspacing=\"1\">\n",
    "     <tr><td align=\"left\"><b>C1 W2: Linear regression with multiple features</b></td></tr>\n",
    "   </table>>];\n",
    "\n",
    "  C1W3 [ label=<\n",
    "   <table border=\"1\" cellborder=\"0\" cellspacing=\"1\">\n",
    "     <tr><td align=\"left\"><b>C1 W3: Logistic regression</b></td></tr>\n",
    "   </table>>];\n",
    "\n",
    "      C1W1_1 [ label=<\n",
    "       <table border=\"1\" cellborder=\"0\" cellspacing=\"1\">\n",
    "         <tr><td align=\"left\"><b>Model, f(x)</b></td></tr>\n",
    "         <tr><td align=\"left\">- Straight line</td></tr>\n",
    "       </table>>];\n",
    "   \n",
    "      C1W1_2 [ label=<\n",
    "       <table border=\"1\" cellborder=\"0\" cellspacing=\"1\">\n",
    "         <tr><td align=\"left\"><b>Cost function, J(w,b)</b></td></tr>\n",
    "         <tr><td align=\"left\">- Squared error</td></tr>\n",
    "       </table>>];\n",
    "   \n",
    "      C1W1_3 [ label=<\n",
    "       <table border=\"1\" cellborder=\"0\" cellspacing=\"1\">\n",
    "         <tr><td align=\"left\"><b>Gradient Descent </b></td></tr>\n",
    "         <tr><td align=\"left\">- Learning rate</td></tr>\n",
    "          <tr><td align=\"left\">- Partial derivative</td></tr>\n",
    "          <tr><td align=\"left\">- Types: Batch, Stochastic, Mini-batch </td></tr>\n",
    "       </table>>];\n",
    "   \n",
    "      C1W2_1 [ label=<\n",
    "       <table border=\"1\" cellborder=\"0\" cellspacing=\"1\">\n",
    "         <tr><td align=\"left\"><b> Feature scaling </b></td></tr>\n",
    "         <tr><td align=\"left\">  - Min-max norm</td></tr>\n",
    "         <tr><td align=\"left\">  - Mean norm</td></tr>\n",
    "         <tr><td align=\"left\">  - Z-norm</td></tr>\n",
    "\n",
    "       </table>>];\n",
    "   \n",
    "      C1W2_2 [ label=<\n",
    "       <table border=\"1\" cellborder=\"0\" cellspacing=\"1\">\n",
    "         <tr><td align=\"left\"><b>Check gradient descent</b></td></tr>\n",
    "          <tr><td align=\"left\"><b>for convergence</b></td></tr>\n",
    "          <tr><td align=\"left\">- Learning curve</td></tr>\n",
    "          <tr><td align=\"left\">  - Set proper learning rate</td></tr>\n",
    "          <tr><td align=\"left\">  - Scale feature properly</td></tr>\n",
    "          <tr><td align=\"left\">- Auto-Stopping criterian</td></tr>\n",
    "       </table>>];\n",
    "   \n",
    "      C1W2_3 [ label=<\n",
    "       <table border=\"1\" cellborder=\"0\" cellspacing=\"1\">\n",
    "         <tr><td align=\"left\"><b>Feature engineering</b></td></tr>\n",
    "         <tr><td align=\"left\">- Polynomial regression</td></tr>\n",
    "         <tr><td align=\"left\">- Feature scaling important</td></tr>\n",
    "       </table>>];\n",
    "\n",
    "      C1W2_4 [ label=<\n",
    "       <table border=\"1\" cellborder=\"0\" cellspacing=\"1\">\n",
    "         <tr><td align=\"left\"><b>Closed form solution</b></td></tr>\n",
    "         <tr><td align=\"left\">- Alternative to gradient descent</td></tr>\n",
    "         <tr><td align=\"left\">- Faster or smaller data</td></tr>\n",
    "         <tr><td align=\"left\">- No need feature normalization</td></tr>\n",
    "\n",
    "       </table>>]\n",
    "       \n",
    "  C1W3_1[ label=<\n",
    "   <table border=\"\" cellborder=\"0\" cellspacing=\"1\">\n",
    "     <tr><td align=\"left\"><b>...</b></td></tr>\n",
    "     <tr><td align=\"left\">...</td></tr>\n",
    "     <tr><td align=\"left\"><font color=\"red\">...</font></td></tr>\n",
    "   </table>>];\n",
    "\n",
    "\n",
    "  C1W1 -> C1W2;\n",
    "  C1W2 -> C1W3;\n",
    "  \n",
    "  C1W1 -> C1W1_1 -> C1W1_2 -> C1W1_3;\n",
    "  C1W2 -> C1W2_1 -> C1W2_2 -> C1W2_3 -> C1W2_4;\n",
    "  C1W3 -> C1W3_1 -> C1W3_2 -> C1W3_3;\n",
    "\n",
    "}\n",
    "\"\"\"\n",
    "\n",
    "graphs = pydot.graph_from_dot_data(dot_string)\n",
    "graph = graphs[0]\n",
    "\n",
    "graph.write_png(\"mindmap/C1W1_mindmap.png\")\n",
    "view_pydot(graph)"
   ]
  },
  {
   "cell_type": "markdown",
   "id": "6b934397",
   "metadata": {},
   "source": [
    "# C1: Supervised Machine Learning: Regression and Classification"
   ]
  },
  {
   "cell_type": "markdown",
   "id": "41c1525c",
   "metadata": {},
   "source": [
    "## C1 W1: Introduction to ML"
   ]
  },
  {
   "cell_type": "markdown",
   "id": "74d8ad1e",
   "metadata": {
    "ExecuteTime": {
     "end_time": "2023-03-21T01:02:07.261717Z",
     "start_time": "2023-03-21T01:02:07.249804Z"
    }
   },
   "source": [
    "**Machine Learning**\n",
    "- Study that gives computers ability to learn withotu being explicitly programmed"
   ]
  },
  {
   "cell_type": "markdown",
   "id": "c5c1592b",
   "metadata": {
    "ExecuteTime": {
     "end_time": "2023-03-21T01:02:33.527194Z",
     "start_time": "2023-03-21T01:02:33.516406Z"
    }
   },
   "source": [
    "**Machine learning types**\n",
    "- Supervised learning\n",
    "- Unsupervised learning\n",
    "- Recommender systems\n",
    "- Reinforcement learning"
   ]
  },
  {
   "cell_type": "markdown",
   "id": "2f818357",
   "metadata": {
    "ExecuteTime": {
     "end_time": "2023-03-21T01:03:30.226691Z",
     "start_time": "2023-03-21T01:03:30.211077Z"
    }
   },
   "source": [
    "**Supervised learning**\n",
    "- Used in most real world applications. 99% of economic value created by ML today is through supervised learning\n",
    "- Algo that learn x (input) to y (output) mappings\n",
    "- Learns from data *labelled* with the \"right answers\"\n",
    "- Types\n",
    "    - Classification: Predicts categories \n",
    "    - Regression: Predicts a continuous number\n",
    "- Example\n",
    "    - Classification\n",
    "        - Breast cancer detection\n",
    "    - Regression\n",
    "        - Housing price prediction"
   ]
  },
  {
   "cell_type": "markdown",
   "id": "9d3b22df",
   "metadata": {},
   "source": [
    "**Unspervised learning**\n",
    "- Find something interesting or structure in *unlabelled* data\n",
    "- Types\n",
    "    - Clustering\n",
    "    - Dimensionality Reduction\n",
    "    - Anomaly detection\n",
    "\n",
    "- Example\n",
    "    - Clustering\n",
    "        - Google news\n",
    "        - Grouping customers"
   ]
  },
  {
   "cell_type": "markdown",
   "id": "2b5eb7cb",
   "metadata": {},
   "source": [
    "---"
   ]
  },
  {
   "cell_type": "markdown",
   "id": "f7fd1c6d",
   "metadata": {},
   "source": [
    "### **Regression Model**\n",
    "\n",
    "**Linear regression model**\n",
    "\n",
    "Model that fits a straight line to our data"
   ]
  },
  {
   "cell_type": "markdown",
   "id": "2ad027a2",
   "metadata": {},
   "source": [
    "> Linear regression with one input variable is a.k.a. **Univariate linear regression**\n",
    "\n",
    "For this section, **we will assume that the linear regression has only one input feature (for simplicity)**. In the next section C1 W2, we will explore regression with multiple input variables."
   ]
  },
  {
   "cell_type": "markdown",
   "id": "916ef35f",
   "metadata": {},
   "source": [
    "**Function, $f$**"
   ]
  },
  {
   "cell_type": "markdown",
   "id": "485e16ca",
   "metadata": {},
   "source": [
    "When we train the model with training data, it will provide a function $f$, sometimes called as *hypothesis*. The job of the function is to take, input $x$ and estimate or predict the output $y$. This predicted output is $\\hat{y}$.\n",
    "\n",
    "- $f$ - Function\n",
    "- $x$ - model input/features\n",
    "- $y$ - actual output/target\n",
    "- $\\hat{y}$ - predicted/ estimated output \n",
    "  - $\\hat{y} = f(x)$\n",
    "\n",
    "How to represent, $f$?\n",
    "- $f_{w, b}{(x)} = wx + b$, assuming the function is a straight line\n",
    "  - $f$ is a function that takes $x$ as input, and depending upon the values of $w$ and $b$, $f$  will output some values of the prediction, $\\hat{y}$.\n",
    "  - For simplicity, $f_{w, b}{(x)}$ will be represented as $f(x)$."
   ]
  },
  {
   "cell_type": "markdown",
   "id": "70d9a387",
   "metadata": {},
   "source": [
    "**Cost function, $J$** - **Squared error** function for linear regression"
   ]
  },
  {
   "cell_type": "markdown",
   "id": "98d936d6",
   "metadata": {},
   "source": [
    "With linear regression, we want to choose value for parameters $w$ and $b$ such that the straight line we get from the function $f$ somehow fits the data well."
   ]
  },
  {
   "cell_type": "markdown",
   "id": "88f0b4dd",
   "metadata": {},
   "source": [
    "How to find $w$ and $b$, such that predicted value $\\hat{y} _{i}$ is close to actual value $y _{i}$ for all $(x^{(i)}, y^{(i)})$ ?\n",
    "- To answer this question, let's first measure how well the line fits the training data using the cost function. "
   ]
  },
  {
   "cell_type": "markdown",
   "id": "5cf0f4b6",
   "metadata": {},
   "source": [
    "$$ J(w,b) = \\frac{1}{2m}\\sum_{i=1}^{m}{(\\hat{y}_{i} - y_{i})}^{2}$$  \n",
    "$$ J(w,b) = \\frac{1}{2m}\\sum_{i=1}^{m}{(f_{w, b}{(x^{i})}  - y_{i})}^{2}$$  "
   ]
  },
  {
   "cell_type": "markdown",
   "id": "21d0668a",
   "metadata": {},
   "source": [
    "Since $J$ is the cost function that measures how big the squared errors are, so choosing $w$ that minimizes these squared errors, makes them errors as small as possible, gives us a good model."
   ]
  },
  {
   "cell_type": "markdown",
   "id": "c5e7e1dc",
   "metadata": {
    "ExecuteTime": {
     "end_time": "2023-03-21T01:20:20.964026Z",
     "start_time": "2023-03-21T01:20:20.944222Z"
    }
   },
   "source": [
    "Note: \n",
    "- *For linear regression, the cost function is always squared error cost function.*\n",
    "- *However, for **not** linear regressions, the cost function is not squared error cost function.*"
   ]
  },
  {
   "cell_type": "markdown",
   "id": "3073fc98",
   "metadata": {},
   "source": [
    "> **Goal of linear regression**<br>\n",
    "> - Simplliefed case: $\\underset{w}{\\text{minimize}}\\phantom{1}J(w)$ <br>\n",
    "> - General case: $\\underset{w,b}{\\text{minimize}}\\phantom{1}J(w,b)$ "
   ]
  },
  {
   "cell_type": "markdown",
   "id": "e80dddbe",
   "metadata": {},
   "source": [
    "| Term | Org. equation | Simplified | |\n",
    "| :---- | :-------------: | :----------: | |\n",
    "| Model | $$f_{w, b}{(x^{(i)})} = wx^{(i)} + b$$ |  $$f_{w}{(x^{(i)})} = wx^{(i)}$$ by setting $b=0$ | |\n",
    "| Parameters | $w,b$ | $w$ | |\n",
    "| Cost function | $$J(w,b) = \\frac{1}{2m}\\sum_{i=1}^{m}{(f_{w, b}{x^{(i)}}-y^{(i)})}^{2}$$ |  $$J(w) = \\frac{1}{2m}\\sum_{i=1}^{m}{(f_{w}{x^{(i)}}-y^{(i)})}^{2}$$ ||\n",
    "| Goal | $\\underset{w,b}{\\text{minimize}}\\phantom{1}J(w,b)$ | $\\underset{w}{\\text{minimize}}\\phantom{1}J(w)$ ||"
   ]
  },
  {
   "cell_type": "markdown",
   "id": "06a0f0dc",
   "metadata": {},
   "source": [
    "**Gradient Descent - Intuition and Algo**\n",
    "- Algo that can be used to find the optimal parameters $w$ and $b$ that minimises the cost function, $J(w,b)$.\n",
    "- Is used not only in linear regression, but also for training some of the most advanced neural network models, including deep learning models."
   ]
  },
  {
   "cell_type": "markdown",
   "id": "8bc52190",
   "metadata": {},
   "source": [
    "In layman words, our goal is to start somewhere randomly in this cost function and get to the bottom of one of these valleys efficiently as possible.\n",
    "- What the gradient descent algorithm does is we are going to spin around 360 degrees and ask ourself, if I were to take a tiny little baby step in one direction, and I want to go downhill as quickly as possible to one of these valleys. $\\Rightarrow$ Mathematically, this is the **direction of the steepest descent**. It means that when we take a tiny baby little step, this takes us downhill faster than a tiny little baby step we could have taken in any other direction. Eventually, we might end up in the local minima after series of this baby steps. In this local minima, the cost will be small as possible => We would have found $w$ and $b$, such that predicted value $\\hat{y} _{i}$ is close to actual value $y _{i}$ for all $(x^{(i)}, y^{(i)})$ "
   ]
  },
  {
   "cell_type": "markdown",
   "id": "0df9ff9b",
   "metadata": {},
   "source": [
    "**Assuming there's only one input feature $x$,** \n",
    "\n",
    "- Linear regression model\n",
    "  $$f _{w,b}(x^{(i)})=wx^{(i)}+b \\tag{1}$$\n",
    "\n",
    "- Cost function for linear regression\n",
    "   $$J(w,b) = \\frac{1}{2m}\\sum _{i=1}^{m}(f _{w,b}(x^{(i)})-y^{(i)})^2 \\tag{2}$$\n",
    "\n",
    "- Gradient descent \n",
    "\n",
    "$$\\begin{align*} \\text{repeat}&\\text{ until convergence:} \\; \\lbrace \\newline\n",
    "\\;  w &= w -  \\alpha \\frac{\\partial J(w,b)}{\\partial w} \\tag{3}  \\; \\newline \n",
    " b &= b -  \\alpha \\frac{\\partial J(w,b)}{\\partial b}  \\newline \\rbrace \n",
    "\\end{align*}$$\n",
    "    \n",
    "$\\phantom{.....}\\text{where, parameters }w, b \\text{ are updated simultaneously.}$  \n",
    "    \n",
    "- Gradient \n",
    "$$\n",
    "\\begin{align}\n",
    "\\frac{\\partial J(w,b)}{\\partial w}  &= \\frac{1}{m} \\sum\\limits_{i = 0}^{m-1} (f_{w,b}(x^{(i)}) - y^{(i)})x^{(i)} \\tag{4}\\\\\n",
    "  \\frac{\\partial J(w,b)}{\\partial b}  &= \\frac{1}{m} \\sum\\limits_{i = 0}^{m-1} (f_{w,b}(x^{(i)}) - y^{(i)}) \\tag{5}\\\\\n",
    "\\end{align}\n",
    "$$\n",
    "\n",
    "\n",
    "Here *simultaniously* means that you calculate the partial derivatives for all the parameters before updating any of the parameters."
   ]
  },
  {
   "cell_type": "markdown",
   "id": "6bd6da09",
   "metadata": {},
   "source": [
    "where \n",
    "- $\\alpha$ is **learning rate** between $0$ and $1$, that controls how big of a step we take downhill $\\Rightarrow$ Huge $\\alpha$ corresponds to very aggressive gradient descent procedure as will take huge steps downhill.\n",
    "- $\\frac{\\partial}{\\partial w}J(w,b)$ is the **partial derivative** term of cost function $J$ with respect to parameter $w$. This derivative is utilized by the gradient descent to update the parameter . In layman terms, it tell us the direction (of the steepest descent) in which we want to take baby steps."
   ]
  },
  {
   "cell_type": "markdown",
   "id": "f5aac459",
   "metadata": {},
   "source": [
    "**Learning rate**\n",
    "- If $\\alpha$ is too small, gradient descent will work, but may be slow as it will be taking tiny tiny steps every steps  before it reaches the minima\n",
    "- If $\\alpha$ is too large, though the derivative might be a small value that points in the right direction, as the learning rate is multiplied with derivative, it will end up being a very large value and might overshoot. As we will be taking huge steps, we may never reach minimum. $\\Rightarrow$ Fail to converge, and may even diverge. "
   ]
  },
  {
   "cell_type": "markdown",
   "id": "4295f3ce",
   "metadata": {},
   "source": [
    "**Characteristics of Gradient Descent**\n",
    "- In general, the cost $J$ starts large and rapidly declines. The partial derivatives, $\\frac{\\partial}{\\partial{w}}J(w,b)$, and  $\\frac{\\partial}{\\partial{b}}J(w,b)$ also get smaller, rapidly at first and then more slowly. \n",
    "- As we get closer to the **local minimum** (reach the bottom of the bowl in layman terms), the gradient descent starts making **smaller steps**, because as we approach local minimum, the **derivative automatically gets smaller**. $\\Rightarrow$  **Update steps also gets smaller**.\n",
    "    - <span style=\"color:red\">For e.g., say $w$ and $b$ are bouncing back and forth between positive and negative with the absolute value increasing with each iteration. Further, for each iteration $\\frac{\\partial J(w,b)}{\\partial w}$ changes sign and cost is increasing rather than decreasing. Then. this is a clear sign that the *learning rate is too large* and the solution is diverging. </span>\n",
    "\n",
    "\n",
    "**Types of Gradient Descent** \n",
    "- **Batch gradient descent**: **\"Batch\"** implies that for each step of gradient descent uses all the training examples, instead of subset of training data. The name \"batch\" might be not that intuitive though.\n",
    "- There are other versions of gradient descent that do not look at the entire training set, but instead smaller subsets of training data for each update step. However, for linear regression, we will be using linear regression. "
   ]
  },
  {
   "cell_type": "markdown",
   "id": "eb4bee7b",
   "metadata": {},
   "source": [
    "---"
   ]
  },
  {
   "cell_type": "markdown",
   "id": "ad5046e6",
   "metadata": {},
   "source": [
    "# C1 W2: Regression with multiple input variable"
   ]
  },
  {
   "cell_type": "markdown",
   "id": "2533a1d0",
   "metadata": {},
   "source": [
    "Notations for multiple linear regression\n",
    "\n",
    "|General <img width=70/> <br />  Notation  <img width=70/> | Description<img width=350/>| Python (if applicable) |\n",
    "|: ------------|: ------------------------------------------------------------||\n",
    "| $a$ | scalar, non bold                                                      ||\n",
    "| $\\mathbf{a}$ | vector, bold                                                 ||\n",
    "| $\\mathbf{A}$ | matrix, bold capital                                         ||\n",
    "| **Regression** |         |    |     |\n",
    "|  $\\mathbf{X}$ | training example maxtrix                  | `X_train` |   \n",
    "|  $\\mathbf{y}$  | training example  targets                | `y_train` |\n",
    "|  $\\mathbf{x}^{(i)}$, $y^{(i)}$ | $i_{th}$Training Example | `X[i]`, `y[i]`|\n",
    "|  $\\mathbf{x}_{j}$ | $j_{th}$ feature | `X[:,j]`|\n",
    "|  $x_{j}^{(i)}$ | $j_{th}$ feature in $i_{th}$ training example| `X[i,j]`|\n",
    "| m | number of training examples | `m`|\n",
    "| n | number of features in each example | `n`|\n",
    "|  $\\mathbf{w}$  |  parameter: weight,                       | `w`    |\n",
    "|  $b$           |  parameter: bias                                           | `b`    |     \n",
    "| $f_{\\mathbf{w},b}(\\mathbf{x}^{(i)})$ | The result of the model evaluation at $\\mathbf{x^{(i)}}$ parameterized by $\\mathbf{w},b$: $f_{\\mathbf{w},b}(\\mathbf{x}^{(i)}) = \\mathbf{w} \\cdot \\mathbf{x}^{(i)}+b$  | `f_wb` | \n"
   ]
  },
  {
   "cell_type": "markdown",
   "id": "a3a0b1b9",
   "metadata": {},
   "source": [
    "**Gradient descent for multiple linear regression** with and without vectorization"
   ]
  },
  {
   "cell_type": "markdown",
   "id": "a7b08578",
   "metadata": {},
   "source": [
    "| Details | without vectorization | Vector notation |\n",
    "| -: | :- | :- |\n",
    "| Parameters | $w_1, ..., w_n$ <br>$b$| $\\vec{w}=[w_1 \\dotsc w_n]$<br>$b$ |\n",
    "| Model | $f_{\\vec{w},b}(\\vec{x}) = w_{1}x_{1} + \\dotsc + w_{n}x_{n} + b$ | $f_{\\vec{w},b}(\\vec{x}) = \\vec{w}\\cdot\\vec{x}+b$ |\n",
    "| Cost function | $J(w_1, \\dotsc, w_n, b)$ | $J(\\vec{w},b)$ |\n",
    "| Gradient descent | repeat {<br>$\\; w_j = w_j -\\alpha\\frac{\\partial }{\\partial w_{j}}J(w_1, \\dotsc, w_n, b)$ <br> $\\; b = b -\\alpha\\frac{\\partial }{\\partial b}J(w_1, \\dotsc, w_n, b)$ <br>}| repeat {<br>$\\; w_j = w_j -\\alpha\\frac{\\partial }{\\partial w_{j}}J(\\vec{w}, b)$ <br> $\\; b = b -\\alpha\\frac{\\partial }{\\partial b}J(\\vec{w}, b)$ <br>} |\n",
    "| $$$$ | $$$$ | $$$$ |\n",
    "\n",
    "where \n",
    "- $\\vec{w}$ is vector of length $n$, and $n$ represents to number of columns/features\n",
    "- $b$ is still a number\n"
   ]
  },
  {
   "cell_type": "markdown",
   "id": "bc2181f4",
   "metadata": {},
   "source": [
    "**Gradient descent and its derivative term when we have single feature vs. multiple features**"
   ]
  },
  {
   "cell_type": "markdown",
   "id": "1027f05e",
   "metadata": {},
   "source": [
    "| One feature | $n$ features ($n \\ge 2$) |\n",
    "| :--- | :--- |\n",
    "| repeat{ |  repeat{|\n",
    "| $w = w - \\alpha\\frac{1}{m}\\sum_{i=1}^{m}(f_{w,b}(x^{(i)})-y^{(i)})x^{(i)} = w - \\alpha\\frac{\\partial}{\\partial w}J(w,b)$ | $w_1 = w_1 - \\alpha\\frac{1}{m}\\sum_{i=1}^{m}(f_{\\vec{w},b}(\\vec{x}^{(i)})-y^{(i)})x_{1}^{(i)} = w - \\alpha\\frac{\\partial}{\\partial w_1}J(\\vec{w},b)$ <br> $\\vdots$ <br> $w_n = w_n - \\alpha\\frac{1}{m}\\sum_{i=1}^{m}(f_{\\vec{w},b}(\\vec{x}^{(i)})-y^{(i)})x_{n}^{(i)} = w - \\alpha\\frac{\\partial}{\\partial w_n}J(\\vec{w},b)$ |\n",
    "| $b = b - \\alpha\\frac{1}{m}\\sum_{i=1}^{m}(f_{w,b}(x^{(i)})-y^{(i)}) = b - \\alpha\\frac{\\partial}{\\partial b}J(w,b)$ | $b = b - \\alpha\\frac{1}{m}\\sum_{i=1}^{m}(f_{\\vec{w},b}(\\vec{x}^{(i)})-y^{(i)}) = b - \\alpha\\frac{\\partial}{\\partial b}J(\\vec{w},b)$ |\n",
    "| simultaneously update <br> $w,b $ <br>}|  simultaneously update <br> $w_j$ for $(j=1, \\dotsc, n)$ and $b$<br>} |\n",
    "| $$$$ | $$$$ |"
   ]
  },
  {
   "cell_type": "markdown",
   "id": "1bf1d921",
   "metadata": {},
   "source": [
    "---"
   ]
  },
  {
   "cell_type": "markdown",
   "id": "6ca9821d",
   "metadata": {
    "ExecuteTime": {
     "end_time": "2023-03-21T02:18:19.396134Z",
     "start_time": "2023-03-21T02:18:19.387449Z"
    }
   },
   "source": [
    "**Feature Scaling** "
   ]
  },
  {
   "cell_type": "markdown",
   "id": "c8944b65",
   "metadata": {},
   "source": [
    "- When possible range of **feature values are large**, it's more likely that a good model will learn to choose a relatively **small parameter value**, like 0.1.\n",
    "    - e.g., House size, $x_1=2000$ sq. feet and $w_1 = 0.1$\n",
    "- Likewise, when possible **feature values are small**, the reasonable value for these **parameters will be relatively large**\n",
    "    - e.g., No. of bedrooms, $x_2=5$ and $w_2 = 50$"
   ]
  },
  {
   "cell_type": "markdown",
   "id": "6cdef258",
   "metadata": {},
   "source": [
    "**Intution: How does feature size relate to or affect gradient descent?**\n",
    "\n",
    "- Let's look at the scatter plot of the features where size (in sq. feet) is the horiontal axis, and the number of bedroom is on the vertical axis. \n",
    "    - If we plot the training data, we notice that *horizontal axis is on a much large scale/range of values compared to vertical axis*\n",
    "- Let's then look at the contour plot of cost function, where $w_1$ is the horizontal axis, and $w_2$ is the vertical axis. \n",
    "    - Here, *horizontal axis has much narrower range, whereas vertical axis takes on much larger values*. $\\Rightarrow$ Contours form ovals/elipses and they are short on one side and long on other.\n",
    "        - This is because a **small change in $w_1$ can have a large impact on estimated price** as it is multiplied with a very large value $x_1$ $\\Rightarrow$ Very large impact on cost $J$\n",
    "        - In contrast, it takes much larger change in $w_2$ in order to change predictions much.  $\\Rightarrow$  **small changes to $w_2$ don't change the cost function nearly that much**."
   ]
  },
  {
   "cell_type": "markdown",
   "id": "bc9a98bc",
   "metadata": {},
   "source": [
    "<div align=\"center\">\n",
    "    <img src=\"week2/attachments/feature_scaling_part_1_2.png\" alt=\"Drawing\" style=\"width: 40%;\">\n",
    "    <img src=\"week2/attachments/feature_scaling_part_1_3.png\" alt=\"Drawing\" style=\"width: 40%;\">\n",
    "</div>"
   ]
  },
  {
   "cell_type": "markdown",
   "id": "35978be4",
   "metadata": {},
   "source": [
    "The problem with skewed contours is that the gradient descent may end up taking long time before it can find its way to global minima. In this situation, a useful thing to do is to <span style=\"color:green\"><b>scale the features</b></span> by performing some transformation of our training data so that the features range from 0 to 1. If we run gradient descent on a cost function to find on this scaled features, then contours will look more like circles and less skewed $\\Rightarrow$ <span style=\"color:green\"><b>Gradient descent will run faster</b></span> as it can find a much more direct path to global minimum."
   ]
  },
  {
   "cell_type": "markdown",
   "id": "8eca4b53",
   "metadata": {},
   "source": [
    "Other things to note:\n",
    "- When $w$'s are updated unevenly during training, it implies that the features vary significantly in magnitude making some features update much faster than others. \n",
    "    - **Why are the $w$'s updated unevenly**? \n",
    "        - This is because when the gradients are computed, the common error term $f_{\\vec{w},b}(\\vec{x}^{(i)})-y^{i}$ is multiplied by the features $\\color{Red}{x_j^{(i)}}$ for the $w$'s. \n",
    "        - In the lab housing dataset, feature $w_0$ (size in sq.ft) is 2-3 orders of magnitude larger than other features.\n",
    "        - This makes the gradient bigger. When the weights are updated based on learning rate $\\alpha$ and gradient computed from partial derivative with respect to each feature, $w_0$ will make more rapid progress than the other parameters due to its much larger gradient. \n",
    "$$\\frac{\\partial}{\\partial w_j}J(\\vec{w},b) = \\frac{1}{m}\\sum_{i=1}^{m}(f_{\\vec{w},b}(\\vec{x}^{(i)})-y^{i})\\color{Red}{x_{j}^{(i)}}$$\n",
    "- When the features are normalized, the cost contour is much more symmetric. The result is that updates to parameters during gradient descent can make equal progress for each parameter.<span style=\"color:green\"> $\\Rightarrow$ The scaled features get very accurate results much, much faster!. Also, the gradient of each parameter will be tiny by the end of this fairly short run (iterations)</span>. \n",
    "- A learning rate of 0.1 is a good start for regression with normalized features."
   ]
  },
  {
   "cell_type": "markdown",
   "id": "356656f7",
   "metadata": {
    "ExecuteTime": {
     "end_time": "2023-03-21T04:33:36.623558Z",
     "start_time": "2023-03-21T04:33:36.612787Z"
    }
   },
   "source": [
    "**Different feature scaling techniques**\n",
    "1. **Divide by maximum** (or) **Min-max normalization**: \n",
    "    - One way to scale the features is to take the maximum of the feature value and divide all the samples by the maximum as shown above.\n",
    "    - **More generally**: Rescale each feature by both its minimum and maximum value as show below\n",
    "$$x_1 = \\frac{x_1 - min(x_1)}{max(x_1)- min(x_1)} \\;\\;\\;\\; x_2 = \\frac{x_2 - min(x_2)}{max(x_2) - min(x_2)}$$\n",
    "    \n",
    "    Both ways normalizes features to the range of -1 and 1, where the former method works for positive features which is simple and serves well for the lecture's example, and the latter method works for any features.\n",
    "   "
   ]
  },
  {
   "cell_type": "markdown",
   "id": "a1d73d53",
   "metadata": {
    "ExecuteTime": {
     "end_time": "2023-03-14T00:58:37.315084Z",
     "start_time": "2023-03-14T00:58:37.298439Z"
    }
   },
   "source": [
    "2. **Mean normalization**: \n",
    "    - Rescale the features so that they are cenetered around zero. \n",
    "    - To calculate mean normalization: \n",
    "$$x_1 = \\frac{x_1 - \\mu_{1}}{max(x_1)- min(x_1)} \\;\\;\\;\\; x_2 = \\frac{x_2 - \\mu_{2}}{max(x_2) - min(x_2)}$$\n",
    "\n",
    "    where $u_1$ and $u_2$ are mean of $x_1$ and $x_2$ respectively\n",
    "\n",
    "3. **Z-score normalization**: \n",
    "    - Uses standard deviation $\\sigma$\n",
    "    - To calculate z-score normalization,\n",
    "$$x_1 = \\frac{x_1 - \\mu_{1}}{\\sigma_1} \\;\\;\\;\\; x_2 = \\frac{x_2 - \\mu_{2}}{\\sigma_2}$$\n",
    "\n",
    "    where $u_1$ and $\\sigma_1$ are mean and standard deviation of $x_1$\n",
    "\n",
    "    After z-score normalization, all features will have a mean of 0 and a standard deviation of 1."
   ]
  },
  {
   "cell_type": "markdown",
   "id": "8351c40d",
   "metadata": {},
   "source": [
    "<span style=\"color:red\"><b><u>Rule of thumb for feature scaling</u></b></span>\n",
    "\n",
    "When in doubt, carry out the feature rescaling"
   ]
  },
  {
   "cell_type": "markdown",
   "id": "22191fc5",
   "metadata": {},
   "source": [
    "<div align=\"center\"><img src=\"week2/attachments/feature_scaling_part_2_4.png\" alt=\"Drawing\" style=\"width: 50%;\"></div>"
   ]
  },
  {
   "cell_type": "markdown",
   "id": "e6c744a1",
   "metadata": {},
   "source": [
    "**How to ensure gradient descent is working correctly**\n",
    "\n",
    "- Objective: $\\underset{\\vec{w},b}{min}J(\\vec{w},b)$\n",
    "- Solution: \n",
    "    - We can plot the cost function over the number of iterations of gradient descent. This curve is aka **learning curve**\n",
    "    - <span style=\"color:green\">If gradient descent is working properly, the cost $J$ should decrease every single iteration</span>. <span style=\"color:red\">If the cost is increasing, it implies a bug in code or poor choice of $\\alpha$</span>\n",
    "    \n",
    "Note: The # of iterations needed for gradient descent to converge varies a lot by applications.\n",
    "Then, how do we decide when to stop the iterations? \n",
    "- **Automatic convergence test for gradient descent aka Stopping Criterian**: If $J(\\vec{w},b)$ decreases by $\\le \\epsilon$ in one iteration, declare *convergence* and stop the iteration.\n"
   ]
  },
  {
   "cell_type": "markdown",
   "id": "f63df106",
   "metadata": {},
   "source": [
    "**How to choose a proper learning rate for gradient descent?**\n",
    "\n",
    "In the learning curve (cost vs. numbe of iterations), <span style=\"color:red\">if cost sometimes goes up and sometimes goes down, it implies that either gradient descent is not working properly or learning rate is too large</span>.\n",
    "\n",
    "- Ensure, that weights are properly updated ($w_1 \\neq w_1 + \\alpha d_1$, instead $w_1 = w_1 - \\alpha d_1$)\n",
    "    - When $w$'s are updated unevenly during training, it may imply that the features vary significantly in magnitude making some features update much faster than others. So, scale of features might be an issue\n",
    "- When the cost goes up or keeps wobbling, try smaller learning rate, and go down gradually.\n",
    "    - One way to debug correct implementation of gradient descent is that with small enough $\\alpha$, $J$ should decrease on every single iteration.\n",
    "    - Remember, setting $\\alpha$ to be very small value means gradient descent can take a lot of iterations to converge.\n",
    "    - Perhaps, we can try range of values for learning rate for every iterations\n",
    "        - Try 3x bigger $\\alpha$ for each new variant to find the largest possible learning rate\n",
    "            - e.g., $0.001, 0.003, 0.01, 0.03, 0.1, 0.3, 1, 3$"
   ]
  },
  {
   "cell_type": "markdown",
   "id": "242ddbc0",
   "metadata": {},
   "source": [
    "---"
   ]
  },
  {
   "cell_type": "markdown",
   "id": "c4b5940c",
   "metadata": {},
   "source": [
    "**Feature engineering**: Using *intuition* or *knowledge* to design *new features*, by transforming or combining original features."
   ]
  },
  {
   "cell_type": "markdown",
   "id": "524410a6",
   "metadata": {},
   "source": [
    "Polynomial regression\n",
    "- A flavor of feature engineering that allows us to fit not just straight lines, but curves (non-linear functions) to our data.\n",
    "- Combines the ideas of multiple linear regression and feature engineering."
   ]
  },
  {
   "cell_type": "markdown",
   "id": "20cdcbe3",
   "metadata": {
    "ExecuteTime": {
     "end_time": "2023-03-16T23:58:31.980440Z",
     "start_time": "2023-03-16T23:58:31.971077Z"
    }
   },
   "source": [
    "So, how do decide which features to use? Will be addressed in Course 2."
   ]
  },
  {
   "cell_type": "markdown",
   "id": "ac928dcb",
   "metadata": {},
   "source": [
    "Note:\n",
    "- Polynomial features will be chosen based on how well they matched the target data. Another way to think about this is to note that <span style=\"color:blue\">we are still using linear regression once we have created new (engineered) features. Given that, <b>the best new (engineered) features will be linear relative to the target</b></span>. "
   ]
  },
  {
   "cell_type": "markdown",
   "id": "9ba15e6e",
   "metadata": {},
   "source": [
    "Note\n",
    "- **Gradient Descent based**\n",
    "    - It is important to apply feature scaling when doing feature engineering with gradient descent based regression\n",
    "- **Closed form (Alternative to gradient descent)** \n",
    "    - The closed-form solution work well and faster on smaller data sets such as these but can be computationally demanding on larger data sets.\n",
    "    - The closed-form solution does not require normalization.\n",
    "    - An example of a closed form solution in linear regression would be the least square equation [Source](https://stats.stackexchange.com/questions/70848/what-does-a-closed-form-solution-mean)\n",
    "\n",
    "$$y = wX$$\n",
    "\n",
    "$$w=(X^{T}X)^{-1}X^{T}y$$"
   ]
  },
  {
   "cell_type": "code",
   "execution_count": null,
   "id": "d56f9e67",
   "metadata": {},
   "outputs": [],
   "source": []
  }
 ],
 "metadata": {
  "kernelspec": {
   "display_name": "Python [conda env:ga]",
   "language": "python",
   "name": "conda-env-ga-py"
  },
  "language_info": {
   "codemirror_mode": {
    "name": "ipython",
    "version": 3
   },
   "file_extension": ".py",
   "mimetype": "text/x-python",
   "name": "python",
   "nbconvert_exporter": "python",
   "pygments_lexer": "ipython3",
   "version": "3.9.16"
  },
  "toc": {
   "base_numbering": 1,
   "nav_menu": {},
   "number_sections": true,
   "sideBar": true,
   "skip_h1_title": false,
   "title_cell": "Table of Contents",
   "title_sidebar": "Contents",
   "toc_cell": true,
   "toc_position": {
    "height": "calc(100% - 180px)",
    "left": "10px",
    "top": "150px",
    "width": "303.837px"
   },
   "toc_section_display": true,
   "toc_window_display": true
  }
 },
 "nbformat": 4,
 "nbformat_minor": 5
}
