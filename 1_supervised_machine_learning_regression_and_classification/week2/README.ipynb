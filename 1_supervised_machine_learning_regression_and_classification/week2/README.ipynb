{
 "cells": [
  {
   "cell_type": "markdown",
   "id": "f989cbc2",
   "metadata": {
    "toc": true
   },
   "source": [
    "<h1>Table of Contents<span class=\"tocSkip\"></span></h1>\n",
    "<div class=\"toc\"><ul class=\"toc-item\"><li><span><a href=\"#Week-2:-Regression-with-multiple-input-variable\" data-toc-modified-id=\"Week-2:-Regression-with-multiple-input-variable-1\"><span class=\"toc-item-num\">1&nbsp;&nbsp;</span>Week 2: Regression with multiple input variable</a></span><ul class=\"toc-item\"><li><span><a href=\"#Multiple-linear-regression\" data-toc-modified-id=\"Multiple-linear-regression-1.1\"><span class=\"toc-item-num\">1.1&nbsp;&nbsp;</span>Multiple linear regression</a></span><ul class=\"toc-item\"><li><span><a href=\"#Multiple-features\" data-toc-modified-id=\"Multiple-features-1.1.1\"><span class=\"toc-item-num\">1.1.1&nbsp;&nbsp;</span>Multiple features</a></span></li><li><span><a href=\"#Vectorization-part-1\" data-toc-modified-id=\"Vectorization-part-1-1.1.2\"><span class=\"toc-item-num\">1.1.2&nbsp;&nbsp;</span>Vectorization part 1</a></span></li><li><span><a href=\"#Vectorization-part-2\" data-toc-modified-id=\"Vectorization-part-2-1.1.3\"><span class=\"toc-item-num\">1.1.3&nbsp;&nbsp;</span>Vectorization part 2</a></span></li><li><span><a href=\"#Optional-lab:-Python,-Numpy-and-vectorization\" data-toc-modified-id=\"Optional-lab:-Python,-Numpy-and-vectorization-1.1.4\"><span class=\"toc-item-num\">1.1.4&nbsp;&nbsp;</span>Optional lab: Python, Numpy and vectorization</a></span></li><li><span><a href=\"#Gradient-descent-for-multiple-linear-regression\" data-toc-modified-id=\"Gradient-descent-for-multiple-linear-regression-1.1.5\"><span class=\"toc-item-num\">1.1.5&nbsp;&nbsp;</span>Gradient descent for multiple linear regression</a></span></li><li><span><a href=\"#Optional-lab:-Multiple-linear-regression\" data-toc-modified-id=\"Optional-lab:-Multiple-linear-regression-1.1.6\"><span class=\"toc-item-num\">1.1.6&nbsp;&nbsp;</span>Optional lab: Multiple linear regression</a></span></li></ul></li><li><span><a href=\"#Practice-Quiz:-Multiple-linear-regression\" data-toc-modified-id=\"Practice-Quiz:-Multiple-linear-regression-1.2\"><span class=\"toc-item-num\">1.2&nbsp;&nbsp;</span>Practice Quiz: Multiple linear regression</a></span></li><li><span><a href=\"#Gradient-descent-in-practice\" data-toc-modified-id=\"Gradient-descent-in-practice-1.3\"><span class=\"toc-item-num\">1.3&nbsp;&nbsp;</span>Gradient descent in practice</a></span><ul class=\"toc-item\"><li><span><a href=\"#Feature-scaling-part-1\" data-toc-modified-id=\"Feature-scaling-part-1-1.3.1\"><span class=\"toc-item-num\">1.3.1&nbsp;&nbsp;</span>Feature scaling part 1</a></span></li><li><span><a href=\"#Feature-scaling-part-2\" data-toc-modified-id=\"Feature-scaling-part-2-1.3.2\"><span class=\"toc-item-num\">1.3.2&nbsp;&nbsp;</span>Feature scaling part 2</a></span></li><li><span><a href=\"#Checking-gradient-descent-for-convergence\" data-toc-modified-id=\"Checking-gradient-descent-for-convergence-1.3.3\"><span class=\"toc-item-num\">1.3.3&nbsp;&nbsp;</span>Checking gradient descent for convergence</a></span></li><li><span><a href=\"#Choosing-the-learning-rate\" data-toc-modified-id=\"Choosing-the-learning-rate-1.3.4\"><span class=\"toc-item-num\">1.3.4&nbsp;&nbsp;</span>Choosing the learning rate</a></span></li><li><span><a href=\"#Optional-lab:-Feature-scaling-and-learning-rate\" data-toc-modified-id=\"Optional-lab:-Feature-scaling-and-learning-rate-1.3.5\"><span class=\"toc-item-num\">1.3.5&nbsp;&nbsp;</span>Optional lab: Feature scaling and learning rate</a></span></li><li><span><a href=\"#Feature-engineering\" data-toc-modified-id=\"Feature-engineering-1.3.6\"><span class=\"toc-item-num\">1.3.6&nbsp;&nbsp;</span>Feature engineering</a></span></li><li><span><a href=\"#Polynomial-regression\" data-toc-modified-id=\"Polynomial-regression-1.3.7\"><span class=\"toc-item-num\">1.3.7&nbsp;&nbsp;</span>Polynomial regression</a></span></li><li><span><a href=\"#Optional-lab:-Feature-engineering-and-Polynomial-regression\" data-toc-modified-id=\"Optional-lab:-Feature-engineering-and-Polynomial-regression-1.3.8\"><span class=\"toc-item-num\">1.3.8&nbsp;&nbsp;</span>Optional lab: Feature engineering and Polynomial regression</a></span></li><li><span><a href=\"#Optional-lab:-Linear-regression-with-scikit-learn\" data-toc-modified-id=\"Optional-lab:-Linear-regression-with-scikit-learn-1.3.9\"><span class=\"toc-item-num\">1.3.9&nbsp;&nbsp;</span>Optional lab: Linear regression with scikit-learn</a></span></li></ul></li><li><span><a href=\"#Practice-quiz:-Gradient-descent-in-practice\" data-toc-modified-id=\"Practice-quiz:-Gradient-descent-in-practice-1.4\"><span class=\"toc-item-num\">1.4&nbsp;&nbsp;</span>Practice quiz: Gradient descent in practice</a></span></li><li><span><a href=\"#Week-2-practice-lab:-Linear-regression\" data-toc-modified-id=\"Week-2-practice-lab:-Linear-regression-1.5\"><span class=\"toc-item-num\">1.5&nbsp;&nbsp;</span>Week 2 practice lab: Linear regression</a></span></li></ul></li></ul></div>"
   ]
  },
  {
   "cell_type": "markdown",
   "id": "a47549e3",
   "metadata": {
    "ExecuteTime": {
     "end_time": "2023-03-12T22:40:15.173425Z",
     "start_time": "2023-03-12T22:40:15.157345Z"
    }
   },
   "source": [
    "# Week 2: Regression with multiple input variable"
   ]
  },
  {
   "cell_type": "markdown",
   "id": "05330ea4",
   "metadata": {
    "ExecuteTime": {
     "end_time": "2023-03-12T22:40:48.421724Z",
     "start_time": "2023-03-12T22:40:48.406390Z"
    }
   },
   "source": [
    "## Multiple linear regression\n",
    "\n"
   ]
  },
  {
   "cell_type": "markdown",
   "id": "3aa5a64d",
   "metadata": {},
   "source": [
    "### Multiple features"
   ]
  },
  {
   "cell_type": "markdown",
   "id": "bd8c8fae",
   "metadata": {},
   "source": [
    "<div align=\"center\"><img src=\"attachments/multiple_features_1.png\" alt=\"Drawing\" style=\"width: 40%;\"/> </div>"
   ]
  },
  {
   "cell_type": "markdown",
   "id": "fee070d2",
   "metadata": {},
   "source": [
    "In our original version of our linear regression, we had a single feature $x$, the size of the house, and we are able to predict $y$, the price of the house. So, the model was\n",
    "$$f_{w,b}(x) = wx+b$$"
   ]
  },
  {
   "cell_type": "markdown",
   "id": "5bf5cfed",
   "metadata": {
    "ExecuteTime": {
     "end_time": "2023-03-12T23:20:22.904354Z",
     "start_time": "2023-03-12T23:20:22.895787Z"
    }
   },
   "source": [
    "<div align=\"center\"><img src=\"attachments/multiple_features_2.png\" alt=\"Drawing\" style=\"width: 45%;\"/></div>\n",
    "Now, we have more features that gives us lot more info to predict the price of our house."
   ]
  },
  {
   "cell_type": "markdown",
   "id": "fd8659fb",
   "metadata": {
    "ExecuteTime": {
     "end_time": "2023-03-12T23:30:11.771368Z",
     "start_time": "2023-03-12T23:30:11.749780Z"
    }
   },
   "source": [
    "Since, we have multiple features, let's learn bit more notations.\n",
    "- $x_{j}=$ $j^{th}$ feature $\\Rightarrow$ $j=1..4$ \n",
    "- $n=$ number of features  $\\Rightarrow$ $n=4$ \n",
    "- $\\mathbf{x}^{(i)}=$ features of $i^{th}$ training example (aka row vector) $\\Rightarrow$ $\\mathbf{x}^{(2)}=\\begin{bmatrix}1416 & 3 & 2 & 40 \\end{bmatrix}$\n",
    "    - Sometimes, $\\mathbf{x}^{(i)}$ can be expressed as $\\vec{x}^{(i)}$, but the arrow is optional.\n",
    "- $x^{(i)}_{j}=$ value of feature $j$ in $i^{th}$ training example "
   ]
  },
  {
   "cell_type": "markdown",
   "id": "9235e18a",
   "metadata": {
    "ExecuteTime": {
     "end_time": "2023-03-12T23:39:26.482195Z",
     "start_time": "2023-03-12T23:39:26.466940Z"
    }
   },
   "source": [
    "<div align=\"center\"><img src=\"attachments/multiple_features_3.png\" alt=\"Drawing\" style=\"width: 40%;\">\n",
    "<img src=\"attachments/multiple_features_4.png\" alt=\"Drawing\" style=\"width: 40%;\"></div>"
   ]
  },
  {
   "cell_type": "markdown",
   "id": "8225357e",
   "metadata": {},
   "source": [
    "Previously: $f_{w,b}(x) = wx+b$, as there was only **one feature for linear regression**\n",
    "\n",
    "Now: $f_{w,b}(x) = w_{1}x_{1} + w_{2}x_{2} + w_{3}x_{3} + w_{4}x_{4} + b$, as we have four features.\n",
    "\n",
    "If we generalise this, we will get **multiple linear regression**\n",
    "> $$f_{\\vec{w},b}(\\vec{x}) = \\vec{w}\\cdot\\vec{x}+b = w_{1}x_{1} + w_{2}x_{2} + ... + w_{n}x_{n} + b$$\n",
    "\n",
    "where\n",
    "- parameters of the model are\n",
    "    - $\\vec{w} = \\begin{bmatrix}w_{1} & w_{2} & w_{3} & ... & w_{n} \\end{bmatrix}$ is a vactor\n",
    "    - $b$ is a number\n",
    "- $\\vec{x} = \\begin{bmatrix}x_{1} & x_{2} & x_{3} & ... & x_{n} \\end{bmatrix}$ is a vector\n",
    "- $\\vec{w}\\cdot\\vec{x}$ refers to dot product between vectors $w$ and $x$"
   ]
  },
  {
   "cell_type": "markdown",
   "id": "d07cdb87",
   "metadata": {},
   "source": [
    "### Vectorization part 1\n",
    "<div align=\"center\"><img src=\"attachments/vectorization_part1.png\" alt=\"Drawing\" style=\"width: 60%;\"/></div>"
   ]
  },
  {
   "cell_type": "markdown",
   "id": "c521e66d",
   "metadata": {},
   "source": [
    "We can use vectorization to make our code shorter and more efficient/faster as explained above. For e.g., `np.dot(w,x)` uses parallel hardware instead of sequential calculation.\n",
    "\n",
    "Note on **Indexing**\n",
    "- In linear algebra, indexing starts from 1\n",
    "- In Python, indexing starts from 0"
   ]
  },
  {
   "cell_type": "markdown",
   "id": "667bf5ab",
   "metadata": {
    "ExecuteTime": {
     "end_time": "2023-03-13T00:03:00.421849Z",
     "start_time": "2023-03-13T00:03:00.404011Z"
    }
   },
   "source": [
    "### Vectorization part 2\n",
    "\n",
    "<div align=\"center\"><img src=\"attachments/vectorization_part2_1.png\" alt=\"Drawing\" style=\"width: 60%;\"/></div>"
   ]
  },
  {
   "cell_type": "code",
   "execution_count": 17,
   "id": "cf25b01d",
   "metadata": {
    "ExecuteTime": {
     "end_time": "2023-03-13T00:15:03.812242Z",
     "start_time": "2023-03-13T00:15:03.794927Z"
    },
    "scrolled": true
   },
   "outputs": [],
   "source": [
    "import numpy as np\n",
    "x = np.random.randn(1000)\n",
    "w = np.random.rand(1000)\n",
    "n = len(w)"
   ]
  },
  {
   "cell_type": "code",
   "execution_count": 30,
   "id": "b8bddaeb",
   "metadata": {
    "ExecuteTime": {
     "end_time": "2023-03-13T00:16:24.907011Z",
     "start_time": "2023-03-13T00:16:24.894692Z"
    }
   },
   "outputs": [
    {
     "name": "stdout",
     "output_type": "stream",
     "text": [
      "3.45 µs ± 1.64 µs per loop (mean ± std. dev. of 7 runs, 100 loops each)\n"
     ]
    }
   ],
   "source": [
    "%%timeit -n 100\n",
    "f = np.dot(x,w)"
   ]
  },
  {
   "cell_type": "code",
   "execution_count": 31,
   "id": "49e5e247",
   "metadata": {
    "ExecuteTime": {
     "end_time": "2023-03-13T00:16:25.392175Z",
     "start_time": "2023-03-13T00:16:25.132473Z"
    }
   },
   "outputs": [
    {
     "name": "stdout",
     "output_type": "stream",
     "text": [
      "349 µs ± 44.9 µs per loop (mean ± std. dev. of 7 runs, 100 loops each)\n"
     ]
    }
   ],
   "source": [
    "%%timeit -n 100\n",
    "f=0\n",
    "for i in range(n):\n",
    "    f+= w[i]*x[i]"
   ]
  },
  {
   "cell_type": "markdown",
   "id": "919936a9",
   "metadata": {},
   "source": [
    "<p>From the above code cells, we can see that the vectorized operation is <u>100x faster</u> than sequential operation.</p>"
   ]
  },
  {
   "cell_type": "markdown",
   "id": "33818524",
   "metadata": {},
   "source": [
    "<div align=\"center\"><img src=\"attachments/vectorization_part2_2.png\" alt=\"Drawing\" style=\"width: 60%;\"/></div>"
   ]
  },
  {
   "cell_type": "markdown",
   "id": "b0c64f94",
   "metadata": {},
   "source": [
    "From above illustration, we can see that with vectorised implementation, the weights can be updated much faster in gradient descent."
   ]
  },
  {
   "cell_type": "markdown",
   "id": "3c5e464e",
   "metadata": {},
   "source": [
    "### Optional lab: Python, Numpy and vectorization"
   ]
  },
  {
   "cell_type": "markdown",
   "id": "f0e5fc63",
   "metadata": {
    "ExecuteTime": {
     "end_time": "2023-03-13T01:42:58.942090Z",
     "start_time": "2023-03-13T01:42:58.934192Z"
    }
   },
   "source": [
    "Refer to [greyhat](greyhatguy007/Optional%20Labs/C1_W2_Lab01_Python_Numpy_Vectorization_Soln.ipynb) solutions for now\n",
    "\n",
    "Note on notations:\n",
    "- Vectors are one dimensional arrays. Vectors are denoted with lower case bold letters such as $\\mathbf{x}$.\n",
    "- Matrices, are two dimensional arrays. Matrices are denoted with capitol, bold letter such as $\\mathbf{X}$."
   ]
  },
  {
   "cell_type": "markdown",
   "id": "2f4daf82",
   "metadata": {},
   "source": [
    "\n",
    "### Gradient descent for multiple linear regression"
   ]
  },
  {
   "cell_type": "markdown",
   "id": "f6b0c7dc",
   "metadata": {},
   "source": [
    "Gradient descent for multiple linear regression with and without **vectorization**\n",
    "\n",
    "<div align=\"center\"><img src=\"attachments/gradient_descent_for_multiple_linear_regression_1.png\" alt=\"Drawing\" style=\"width: 45%;\">\n",
    "<img src=\"attachments/gradient_descent_for_multiple_linear_regression_2.png\" alt=\"Drawing\" style=\"width: 45%;\"></div>"
   ]
  },
  {
   "cell_type": "markdown",
   "id": "c8aa263c",
   "metadata": {},
   "source": [
    "| Details | Previous notation (without vectorization) | Vector notation |\n",
    "| -: | :- | :- |\n",
    "| Parameters | $w_1, ..., w_n$ <br>$b$| $\\vec{w}=[w_1 \\dotsc w_n]$<br>$b$ |\n",
    "| Model | $f_{\\vec{w},b}(\\vec{x}) = w_{1}x_{1} + \\dotsc + w_{n}x_{n} + b$ | $f_{\\vec{w},b}(\\vec{x}) = \\vec{w}\\cdot\\vec{x}+b$ |\n",
    "| Cost function | $J(w_1, \\dotsc, w_n, b)$ | $J(\\vec{w},b)$ |\n",
    "| Gradient descent | repeat {<br>$\\; w_j = w_j -\\alpha\\frac{\\partial }{\\partial w_{j}}J(w_1, \\dotsc, w_n, b)$ <br> $\\; b = b -\\alpha\\frac{\\partial }{\\partial b}J(w_1, \\dotsc, w_n, b)$ <br>}| repeat {<br>$\\; w_j = w_j -\\alpha\\frac{\\partial }{\\partial w_{j}}J(\\vec{w}, b)$ <br> $\\; b = b -\\alpha\\frac{\\partial }{\\partial b}J(\\vec{w}, b)$ <br>} |\n",
    "| $$$$ | $$$$ | $$$$ |\n",
    "\n",
    "where \n",
    "- $\\vec{w}$ is vector of length $n$, and $n$ represents to number of columns/features\n",
    "- $b$ is still a number\n"
   ]
  },
  {
   "cell_type": "markdown",
   "id": "0d65953d",
   "metadata": {},
   "source": [
    "Now, let's see what this looks like when we implement **gradient descent**. In particular, let's look at the derivative term."
   ]
  },
  {
   "cell_type": "markdown",
   "id": "a9db8db5",
   "metadata": {},
   "source": [
    "| One feature | $n$ features ($n \\ge 2$) |\n",
    "| :--- | :--- |\n",
    "| repeat{ |  repeat{|\n",
    "| $w = w - \\alpha\\sum_{i=1}^{m}(f_{w,b})(x^{(i)}-y^{(i)})x^{(i)} = w - \\alpha\\frac{\\partial}{\\partial w}J(w,b)$ | $w_1 = w_1 - \\alpha\\sum_{i=1}^{m}(f_{\\vec{w},b})(\\vec{x}^{(i)}-y^{(i)})x_{1}^{(i)} = w - \\alpha\\frac{\\partial}{\\partial w_1}J(\\vec{w},b)$ <br> $\\vdots$ <br> $w_n = w_n - \\alpha\\sum_{i=1}^{m}(f_{\\vec{w},b})(\\vec{x}^{(i)}-y^{(i)})x_{n}^{(i)} = w - \\alpha\\frac{\\partial}{\\partial w_n}J(\\vec{w},b)$ |\n",
    "| $b = b - \\alpha\\sum_{i=1}^{m}(f_{w,b})(x^{(i)}-y^{(i)}) = b - \\alpha\\frac{\\partial}{\\partial b}J(w,b)$ | $b = b - \\alpha\\sum_{i=1}^{m}(f_{\\vec{w},b})(\\vec{x}^{(i)}-y^{(i)}) = b - \\alpha\\frac{\\partial}{\\partial b}J(\\vec{w},b)$ |\n",
    "| simultaneously update <br> $w,b $ |  simultaneously update <br> $w_j$ for $(j=1, \\dotsc, n)$ and $b$ |\n",
    "| $$$$ | $$$$ |"
   ]
  },
  {
   "cell_type": "markdown",
   "id": "8f43e67d",
   "metadata": {},
   "source": [
    "\n",
    "### Optional lab: Multiple linear regression"
   ]
  },
  {
   "cell_type": "code",
   "execution_count": null,
   "id": "d1c4d2fd",
   "metadata": {},
   "outputs": [],
   "source": []
  },
  {
   "cell_type": "markdown",
   "id": "78247038",
   "metadata": {},
   "source": [
    "## Practice Quiz: Multiple linear regression\n",
    "\n"
   ]
  },
  {
   "cell_type": "markdown",
   "id": "0b14530c",
   "metadata": {},
   "source": [
    "## Gradient descent in practice\n",
    "### Feature scaling part 1\n",
    "### Feature scaling part 2\n",
    "### Checking gradient descent for convergence\n",
    "### Choosing the learning rate\n",
    "### Optional lab: Feature scaling and learning rate\n",
    "### Feature engineering\n",
    "### Polynomial regression\n",
    "### Optional lab: Feature engineering and Polynomial regression\n",
    "### Optional lab: Linear regression with scikit-learn"
   ]
  },
  {
   "cell_type": "markdown",
   "id": "0d293824",
   "metadata": {},
   "source": [
    "## Practice quiz: Gradient descent in practice"
   ]
  },
  {
   "cell_type": "markdown",
   "id": "50ec8928",
   "metadata": {},
   "source": [
    "## Week 2 practice lab: Linear regression"
   ]
  },
  {
   "cell_type": "code",
   "execution_count": null,
   "id": "2f1dcade",
   "metadata": {},
   "outputs": [],
   "source": []
  }
 ],
 "metadata": {
  "kernelspec": {
   "display_name": "Python [conda env:ga]",
   "language": "python",
   "name": "conda-env-ga-py"
  },
  "language_info": {
   "codemirror_mode": {
    "name": "ipython",
    "version": 3
   },
   "file_extension": ".py",
   "mimetype": "text/x-python",
   "name": "python",
   "nbconvert_exporter": "python",
   "pygments_lexer": "ipython3",
   "version": "3.9.16"
  },
  "toc": {
   "base_numbering": 1,
   "nav_menu": {},
   "number_sections": true,
   "sideBar": true,
   "skip_h1_title": false,
   "title_cell": "Table of Contents",
   "title_sidebar": "Contents",
   "toc_cell": true,
   "toc_position": {
    "height": "calc(100% - 180px)",
    "left": "10px",
    "top": "150px",
    "width": "384px"
   },
   "toc_section_display": true,
   "toc_window_display": true
  }
 },
 "nbformat": 4,
 "nbformat_minor": 5
}
