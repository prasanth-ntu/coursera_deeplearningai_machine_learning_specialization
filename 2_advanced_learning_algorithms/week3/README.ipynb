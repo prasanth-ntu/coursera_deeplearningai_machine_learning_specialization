{
 "cells": [
  {
   "cell_type": "markdown",
   "id": "28e1050c",
   "metadata": {
    "toc": true
   },
   "source": [
    "<h1>Table of Contents<span class=\"tocSkip\"></span></h1>\n",
    "<div class=\"toc\"><ul class=\"toc-item\"><li><span><a href=\"#Course-2-Week-3:-Advice-for-applying-machine-learning\" data-toc-modified-id=\"Course-2-Week-3:-Advice-for-applying-machine-learning-1\"><span class=\"toc-item-num\">1&nbsp;&nbsp;</span>Course 2 Week 3: Advice for applying machine learning</a></span><ul class=\"toc-item\"><li><span><a href=\"#Advice-for-applying-machine-learning\" data-toc-modified-id=\"Advice-for-applying-machine-learning-1.1\"><span class=\"toc-item-num\">1.1&nbsp;&nbsp;</span>Advice for applying machine learning</a></span><ul class=\"toc-item\"><li><span><a href=\"#Deciding-what-to-try-next\" data-toc-modified-id=\"Deciding-what-to-try-next-1.1.1\"><span class=\"toc-item-num\">1.1.1&nbsp;&nbsp;</span>Deciding what to try next</a></span></li><li><span><a href=\"#Evaluating-a-model\" data-toc-modified-id=\"Evaluating-a-model-1.1.2\"><span class=\"toc-item-num\">1.1.2&nbsp;&nbsp;</span>Evaluating a model</a></span></li><li><span><a href=\"#Model-selection-and-training/cross-validation/test-sets\" data-toc-modified-id=\"Model-selection-and-training/cross-validation/test-sets-1.1.3\"><span class=\"toc-item-num\">1.1.3&nbsp;&nbsp;</span>Model selection and training/cross validation/test sets</a></span></li><li><span><a href=\"#Optional-Lab:-Model-Evaluation-and-Selection\" data-toc-modified-id=\"Optional-Lab:-Model-Evaluation-and-Selection-1.1.4\"><span class=\"toc-item-num\">1.1.4&nbsp;&nbsp;</span>Optional Lab: Model Evaluation and Selection</a></span></li></ul></li><li><span><a href=\"#Practice-quiz:-Advice-for-applying-machine-learning\" data-toc-modified-id=\"Practice-quiz:-Advice-for-applying-machine-learning-1.2\"><span class=\"toc-item-num\">1.2&nbsp;&nbsp;</span>Practice quiz: Advice for applying machine learning</a></span></li><li><span><a href=\"#Bias-and-variance\" data-toc-modified-id=\"Bias-and-variance-1.3\"><span class=\"toc-item-num\">1.3&nbsp;&nbsp;</span>Bias and variance</a></span><ul class=\"toc-item\"><li><span><a href=\"#Diagnosing-bias-and-variance\" data-toc-modified-id=\"Diagnosing-bias-and-variance-1.3.1\"><span class=\"toc-item-num\">1.3.1&nbsp;&nbsp;</span>Diagnosing bias and variance</a></span></li><li><span><a href=\"#Regularization-and-bias/variance\" data-toc-modified-id=\"Regularization-and-bias/variance-1.3.2\"><span class=\"toc-item-num\">1.3.2&nbsp;&nbsp;</span>Regularization and bias/variance</a></span></li><li><span><a href=\"#Establishing-a-baseline-level-of-performance\" data-toc-modified-id=\"Establishing-a-baseline-level-of-performance-1.3.3\"><span class=\"toc-item-num\">1.3.3&nbsp;&nbsp;</span>Establishing a baseline level of performance</a></span></li><li><span><a href=\"#Learning-curves\" data-toc-modified-id=\"Learning-curves-1.3.4\"><span class=\"toc-item-num\">1.3.4&nbsp;&nbsp;</span>Learning curves</a></span></li><li><span><a href=\"#Deciding-what-to-try-next-revisited\" data-toc-modified-id=\"Deciding-what-to-try-next-revisited-1.3.5\"><span class=\"toc-item-num\">1.3.5&nbsp;&nbsp;</span>Deciding what to try next revisited</a></span></li><li><span><a href=\"#Bias/variance-and-neural-networks\" data-toc-modified-id=\"Bias/variance-and-neural-networks-1.3.6\"><span class=\"toc-item-num\">1.3.6&nbsp;&nbsp;</span>Bias/variance and neural networks</a></span></li><li><span><a href=\"#Optional-Lab:-Diagnosing-Bias-and-Variance\" data-toc-modified-id=\"Optional-Lab:-Diagnosing-Bias-and-Variance-1.3.7\"><span class=\"toc-item-num\">1.3.7&nbsp;&nbsp;</span>Optional Lab: Diagnosing Bias and Variance</a></span></li></ul></li><li><span><a href=\"#Practice-quiz:-Bias-and-variance\" data-toc-modified-id=\"Practice-quiz:-Bias-and-variance-1.4\"><span class=\"toc-item-num\">1.4&nbsp;&nbsp;</span>Practice quiz: Bias and variance</a></span></li><li><span><a href=\"#Machine-learning-development-process\" data-toc-modified-id=\"Machine-learning-development-process-1.5\"><span class=\"toc-item-num\">1.5&nbsp;&nbsp;</span>Machine learning development process</a></span><ul class=\"toc-item\"><li><span><a href=\"#Iterative-loop-of-ML-development\" data-toc-modified-id=\"Iterative-loop-of-ML-development-1.5.1\"><span class=\"toc-item-num\">1.5.1&nbsp;&nbsp;</span>Iterative loop of ML development</a></span></li><li><span><a href=\"#Error-analysis\" data-toc-modified-id=\"Error-analysis-1.5.2\"><span class=\"toc-item-num\">1.5.2&nbsp;&nbsp;</span>Error analysis</a></span></li><li><span><a href=\"#Adding-data\" data-toc-modified-id=\"Adding-data-1.5.3\"><span class=\"toc-item-num\">1.5.3&nbsp;&nbsp;</span>Adding data</a></span></li><li><span><a href=\"#Transfer-learning:-using-data-from-a-different-task\" data-toc-modified-id=\"Transfer-learning:-using-data-from-a-different-task-1.5.4\"><span class=\"toc-item-num\">1.5.4&nbsp;&nbsp;</span>Transfer learning: using data from a different task</a></span></li><li><span><a href=\"#Full-cycle-of-a-machine-learning-project\" data-toc-modified-id=\"Full-cycle-of-a-machine-learning-project-1.5.5\"><span class=\"toc-item-num\">1.5.5&nbsp;&nbsp;</span>Full cycle of a machine learning project</a></span></li><li><span><a href=\"#Fairness,-bias,-and-ethics\" data-toc-modified-id=\"Fairness,-bias,-and-ethics-1.5.6\"><span class=\"toc-item-num\">1.5.6&nbsp;&nbsp;</span>Fairness, bias, and ethics</a></span></li><li><span><a href=\"#Practice-quiz:-Machine-learning-development-process\" data-toc-modified-id=\"Practice-quiz:-Machine-learning-development-process-1.5.7\"><span class=\"toc-item-num\">1.5.7&nbsp;&nbsp;</span>Practice quiz: Machine learning development process</a></span></li></ul></li><li><span><a href=\"#Skewed-datasets-(optional)\" data-toc-modified-id=\"Skewed-datasets-(optional)-1.6\"><span class=\"toc-item-num\">1.6&nbsp;&nbsp;</span>Skewed datasets (optional)</a></span><ul class=\"toc-item\"><li><span><a href=\"#Error-metrics-for-skewed-datasets\" data-toc-modified-id=\"Error-metrics-for-skewed-datasets-1.6.1\"><span class=\"toc-item-num\">1.6.1&nbsp;&nbsp;</span>Error metrics for skewed datasets</a></span></li><li><span><a href=\"#Trading-off-precision-and-recall\" data-toc-modified-id=\"Trading-off-precision-and-recall-1.6.2\"><span class=\"toc-item-num\">1.6.2&nbsp;&nbsp;</span>Trading off precision and recall</a></span></li></ul></li><li><span><a href=\"#Practice-Lab:-Advise-for-applying-machine-learning\" data-toc-modified-id=\"Practice-Lab:-Advise-for-applying-machine-learning-1.7\"><span class=\"toc-item-num\">1.7&nbsp;&nbsp;</span>Practice Lab: Advise for applying machine learning</a></span></li><li><span><a href=\"#Miscellaneous\" data-toc-modified-id=\"Miscellaneous-1.8\"><span class=\"toc-item-num\">1.8&nbsp;&nbsp;</span>Miscellaneous</a></span></li></ul></li></ul></div>"
   ]
  },
  {
   "cell_type": "markdown",
   "id": "58ce7adb",
   "metadata": {},
   "source": [
    "# Course 2 Week 3: Advice for applying machine learning"
   ]
  },
  {
   "cell_type": "markdown",
   "id": "0616acd6",
   "metadata": {},
   "source": [
    "- Coursera course link: https://www.coursera.org/learn/advanced-learning-algorithms/home/week/3\n",
    "- Blog link: https://community.deeplearning.ai/c/mls/mls-course-2/mls-course-2-week-3/"
   ]
  },
  {
   "cell_type": "markdown",
   "id": "63dc70dc",
   "metadata": {},
   "source": [
    "This week we'll learn best practices for training and evaluating our learning algorithms to improve performance. This will cover a wide range of useful advice about the machine learning lifecycle, tuning your model, and also improving our training data.\n",
    "\n",
    "**Learning Objectives**\n",
    "- Evaluate and then modify our learning algorithm or data to improve our model's performance\n",
    "- Evaluate our learning algorithm using cross validation and test datasets.\n",
    "- Diagnose bias and variance in our learning algorithm\n",
    "- Use regularization to adjust bias and variance in our learning algorithm\n",
    "- Identify a baseline level of performance for our learning algorithm\n",
    "- Understand how bias and variance apply to neural networks\n",
    "- Learn about the **iterative loop of Machine Learning Development** that's used to update and improve a machine learning model\n",
    "- Learn to use **error analysis** to identify the types of errors that a learning algorithm is making\n",
    "- Learn how to add more training data to improve your model, including **data augmentation and data synthesis**\n",
    "- Use **transfer learning** to improve your model's performance.\n",
    "- Learn to include fairness and ethics in your machine learning model development\n",
    "- Measure precision and recall to work with skewed (imbalanced) datasets"
   ]
  },
  {
   "cell_type": "markdown",
   "id": "ba3fdfb6",
   "metadata": {},
   "source": [
    "## Advice for applying machine learning"
   ]
  },
  {
   "cell_type": "markdown",
   "id": "45c56e3b",
   "metadata": {},
   "source": [
    "### Deciding what to try next"
   ]
  },
  {
   "cell_type": "markdown",
   "id": "75ea6d19",
   "metadata": {},
   "source": [
    "<span style=\"color:blue\">The efficiency of how quickly we can get a machine learning system to work well, will depend to a large part on <b>how well we can repeatedly make good decisions about what to do next</b> in the course of a machine learning project.</span>"
   ]
  },
  {
   "cell_type": "markdown",
   "id": "40acab22",
   "metadata": {},
   "source": [
    "<div align=\"center\">\n",
    "    <img src=\"attachments/debugging_what_to_try_next_p1.png\" alt=\"Drawing\" style=\"width: 50%;\">\n",
    "</div>"
   ]
  },
  {
   "cell_type": "markdown",
   "id": "196026f5",
   "metadata": {},
   "source": [
    "<div align=\"center\">\n",
    "    <img src=\"attachments/debugging_what_to_try_next_p2.png\" alt=\"Drawing\" style=\"width: 45%;\">\n",
    "</div>"
   ]
  },
  {
   "cell_type": "markdown",
   "id": "addb11a6",
   "metadata": {},
   "source": [
    "This week, we will focus on learning lot of ML diagnostic tools to guide us how to improve our learning algo's performance."
   ]
  },
  {
   "cell_type": "markdown",
   "id": "0a1927e0",
   "metadata": {},
   "source": [
    "### Evaluating a model"
   ]
  },
  {
   "cell_type": "markdown",
   "id": "8a182287",
   "metadata": {},
   "source": [
    "<div align=\"center\">\n",
    "    <img src=\"attachments/evaluating_a_model_p1.png\" alt=\"Drawing\" style=\"width: 50%;\">\n",
    "</div>"
   ]
  },
  {
   "cell_type": "markdown",
   "id": "cd5a0098",
   "metadata": {},
   "source": [
    "**Example: Predicting house price using size**\n",
    "- Scenario 1:\n",
    "    - 1 Input feature: House size\n",
    "    - <p id=\"4th-order-polynomial\">Model: 4th order polynomial</p>\n",
    "    - <span style=\"color:green\">Fits the training data well</span>,<span style=\"color:red\"> but fails to generalize on new data</span>\n",
    "    - Evaluating a model: $x$ vs. $y$ plot can be generated to visualize the performance of the model to understand whether it's overfitting/underfitting\n",
    "- Scenario 2:\n",
    "    - 4 Input features: House size, # of bedrooms, # of floors, home age\n",
    "    - Evaluating a model: <span style=\"color:red\">Harder to visualize the model via plots more than 1 or 2 features</span>"
   ]
  },
  {
   "cell_type": "markdown",
   "id": "55c0e6e3",
   "metadata": {},
   "source": [
    "<div align=\"center\">\n",
    "    <img src=\"attachments/evaluating_a_model_p2.png\" alt=\"Drawing\" style=\"width: 50%;\">\n",
    "</div>"
   ]
  },
  {
   "cell_type": "markdown",
   "id": "9f8128a0",
   "metadata": {},
   "source": [
    "**Train/test split** - Helps to evaluate the model"
   ]
  },
  {
   "cell_type": "markdown",
   "id": "cb6a5ccc",
   "metadata": {},
   "source": [
    "<div align=\"center\">\n",
    "    <img src=\"attachments/evaluating_a_model_p3.png\" alt=\"Drawing\" style=\"width: 50%;\">\n",
    "</div>"
   ]
  },
  {
   "cell_type": "markdown",
   "id": "02f667d3",
   "metadata": {},
   "source": [
    "- Cost function, $J(\\vec{w},b)$: Fit the parameters by minimizing the cost function, which is the squared error cost + regularization term. \n",
    "- $J_{test}(\\vec{w},b)$: Tells how well our model is doing\n",
    "- $J_{train}(\\vec{w},b)$: Telsl how well our learning algo is doing on training set\n",
    "\n",
    "Note: <span style=\"color:blue\"><b>The test error $J_{test}(\\vec{w},b)$ and training error $J_{train}(\\vec{w},b)$ does not include regularization term, unlike the cost function</b>, where we are trying to minimise the parameter size using regularization term.</span>"
   ]
  },
  {
   "cell_type": "markdown",
   "id": "5efbbb40",
   "metadata": {
    "ExecuteTime": {
     "end_time": "2023-04-30T23:25:31.626851Z",
     "start_time": "2023-04-30T23:25:31.600074Z"
    }
   },
   "source": [
    "Community forum discussion - [Why regularization term is not included when calculating error?](https://community.deeplearning.ai/t/why-regularization-term-is-not-included-when-calculating-error/314405)"
   ]
  },
  {
   "cell_type": "markdown",
   "id": "d00b4509",
   "metadata": {},
   "source": [
    "<div align=\"center\">\n",
    "    <img src=\"attachments/evaluating_a_model_p4.png\" alt=\"Drawing\" style=\"width: 50%;\">\n",
    "</div>"
   ]
  },
  {
   "cell_type": "markdown",
   "id": "1d0f7e3b",
   "metadata": {},
   "source": [
    "If we use a <a href=\"#4th-order-polynomial\">4th order polynomial linear regression model mentioned above</a>,\n",
    "- $J_{train}(\\vec{w},b)$: Will be low\n",
    "- $J_{test}(\\vec{w},b)$: Will be high $\\Rightarrow$  Helpe us to realize that even though model does great on the training set, <span style=\"color:red\">it is actually not so good at generalizing to new data points that were not in the training set</span>. "
   ]
  },
  {
   "cell_type": "markdown",
   "id": "6cf584a4",
   "metadata": {},
   "source": [
    "<div align=\"center\">\n",
    "    <img src=\"attachments/evaluating_a_model_p5.png\" alt=\"Drawing\" style=\"width: 60%;\">\n",
    "</div>"
   ]
  },
  {
   "cell_type": "markdown",
   "id": "905e8ba6",
   "metadata": {},
   "source": [
    "<div align=\"center\">\n",
    "    <img src=\"attachments/evaluating_a_model_p6.png\" alt=\"Drawing\" style=\"width: 50%;\">\n",
    "</div>"
   ]
  },
  {
   "cell_type": "markdown",
   "id": "ab5ba3fa",
   "metadata": {},
   "source": [
    "Note: <span style=\"color:blue\">Instead of using logistic loss to compute test and train error, we can <b>measure the fraction of the test set and train set the algorithm has misclassified</b></span>."
   ]
  },
  {
   "cell_type": "markdown",
   "id": "d6392b69",
   "metadata": {},
   "source": [
    "### Model selection and training/cross validation/test sets"
   ]
  },
  {
   "cell_type": "markdown",
   "id": "ccaf8075",
   "metadata": {},
   "source": [
    "<div align=\"center\">\n",
    "    <img src=\"attachments/model_selection_and_training_cv_test_sets_p1.png\" alt=\"Drawing\" style=\"width: 50%;\">\n",
    "</div>"
   ]
  },
  {
   "cell_type": "markdown",
   "id": "0741e6f3",
   "metadata": {},
   "source": [
    "Once the parameters $\\vec{w}, b$ are fit to training set, the training error $J_{train}(\\vec{w},b)$ may not be a good indicator of how well the algo will do or generalize to new example that were not in the training set.\n",
    "\n",
    "$J_{test}(\\vec{w},b)$ might be a better indicator of how well the model will do on new data. "
   ]
  },
  {
   "cell_type": "markdown",
   "id": "69057a29",
   "metadata": {},
   "source": [
    "<div align=\"center\">\n",
    "    <img src=\"attachments/model_selection_and_training_cv_test_sets_p2.png\" alt=\"Drawing\" style=\"width: 55%;\">\n",
    "</div>"
   ]
  },
  {
   "cell_type": "markdown",
   "id": "62b0d785",
   "metadata": {},
   "source": [
    "| Degree, $d$ | Linear regression model, $f(x)$ | Parameters $(w,b)$ | Test error, $J_{test}(w,b)$ |\n",
    "|:----------- |:-------------------------------|:------------------ |:----------------------|\n",
    "| $d=1$  | $f_{\\vec{w},b}(\\vec{x}) = w_{1}x + b$ | $w^{<1>},b^{<1>}$ | $J_{test}(w^{<1>}, b^{<1>})$ |\n",
    "|           |                               |                  |                      |"
   ]
  },
  {
   "cell_type": "markdown",
   "id": "f8547ed0",
   "metadata": {},
   "source": [
    "<div align=\"center\">\n",
    "    <img src=\"attachments/model_selection_and_training_cv_test_sets_p3.png\" alt=\"Drawing\" style=\"width: 50%;\">\n",
    "</div>"
   ]
  },
  {
   "cell_type": "markdown",
   "id": "3402fe54",
   "metadata": {},
   "source": [
    "<div align=\"center\">\n",
    "    <img src=\"attachments/model_selection_and_training_cv_test_sets_p4.png\" alt=\"Drawing\" style=\"width: 50%;\">\n",
    "</div>"
   ]
  },
  {
   "cell_type": "markdown",
   "id": "b7aee215",
   "metadata": {},
   "source": [
    "<div align=\"center\">\n",
    "    <img src=\"attachments/model_selection_and_training_cv_test_sets_p5.png\" alt=\"Drawing\" style=\"width: 50%;\">\n",
    "</div>"
   ]
  },
  {
   "cell_type": "markdown",
   "id": "883e977a",
   "metadata": {},
   "source": [
    "<div align=\"center\">\n",
    "    <img src=\"attachments/model_selection_and_training_cv_test_sets_p6.png\" alt=\"Drawing\" style=\"width: 60%;\">\n",
    "</div>"
   ]
  },
  {
   "cell_type": "markdown",
   "id": "0dce3547",
   "metadata": {},
   "source": [
    "### Optional Lab: Model Evaluation and Selection"
   ]
  },
  {
   "cell_type": "markdown",
   "id": "3b956b63",
   "metadata": {},
   "source": []
  },
  {
   "cell_type": "markdown",
   "id": "4f4c6040",
   "metadata": {},
   "source": [
    "## Practice quiz: Advice for applying machine learning"
   ]
  },
  {
   "cell_type": "markdown",
   "id": "b4b39f12",
   "metadata": {},
   "source": []
  },
  {
   "cell_type": "markdown",
   "id": "aed30df9",
   "metadata": {},
   "source": [
    "## Bias and variance"
   ]
  },
  {
   "cell_type": "markdown",
   "id": "e68e42f6",
   "metadata": {
    "ExecuteTime": {
     "end_time": "2023-04-30T00:39:11.269825Z",
     "start_time": "2023-04-30T00:39:11.255778Z"
    }
   },
   "source": [
    "### Diagnosing bias and variance"
   ]
  },
  {
   "cell_type": "markdown",
   "id": "f69b9318",
   "metadata": {},
   "source": [
    "<div align=\"center\">\n",
    "    <img src=\"attachments/diagnosing_bias_and_variance_p1.png\" alt=\"Drawing\" style=\"width: 50%;\">\n",
    "</div>"
   ]
  },
  {
   "cell_type": "markdown",
   "id": "bc4342c6",
   "metadata": {},
   "source": [
    "<div align=\"center\">\n",
    "    <img src=\"attachments/diagnosing_bias_and_variance_p2.png\" alt=\"Drawing\" style=\"width: 40%;\">\n",
    "</div>"
   ]
  },
  {
   "cell_type": "markdown",
   "id": "3b4bedde",
   "metadata": {},
   "source": [
    "<div align=\"center\">\n",
    "    <img src=\"attachments/diagnosing_bias_and_variance_p3.png\" alt=\"Drawing\" style=\"width: 50%;\">\n",
    "</div>"
   ]
  },
  {
   "cell_type": "markdown",
   "id": "dbfd2962",
   "metadata": {},
   "source": []
  },
  {
   "cell_type": "markdown",
   "id": "370e5231",
   "metadata": {
    "ExecuteTime": {
     "end_time": "2023-04-30T00:39:11.269825Z",
     "start_time": "2023-04-30T00:39:11.255778Z"
    }
   },
   "source": [
    "### Regularization and bias/variance"
   ]
  },
  {
   "cell_type": "markdown",
   "id": "9785c6bd",
   "metadata": {},
   "source": [
    "<div align=\"center\">\n",
    "    <img src=\"attachments/regularization_and_bias_variance_p1.png\" alt=\"Drawing\" style=\"width: 50%;\">\n",
    "</div>"
   ]
  },
  {
   "cell_type": "code",
   "execution_count": null,
   "id": "a27752e6",
   "metadata": {},
   "outputs": [],
   "source": []
  },
  {
   "cell_type": "markdown",
   "id": "41e4c40c",
   "metadata": {},
   "source": [
    "<div align=\"center\">\n",
    "    <img src=\"attachments/regularization_and_bias_variance_p2.png\" alt=\"Drawing\" style=\"width: 50%;\">\n",
    "</div>"
   ]
  },
  {
   "cell_type": "markdown",
   "id": "bf11c3fd",
   "metadata": {
    "ExecuteTime": {
     "end_time": "2023-04-30T00:39:11.269825Z",
     "start_time": "2023-04-30T00:39:11.255778Z"
    }
   },
   "source": []
  },
  {
   "cell_type": "markdown",
   "id": "41503b7c",
   "metadata": {},
   "source": []
  },
  {
   "cell_type": "markdown",
   "id": "bac16f2e",
   "metadata": {
    "ExecuteTime": {
     "end_time": "2023-04-30T02:37:52.194406Z",
     "start_time": "2023-04-30T02:37:52.180527Z"
    }
   },
   "source": [
    "<div align=\"center\">\n",
    "    <img src=\"attachments/regularization_and_bias_variance_p3.png\" alt=\"Drawing\" style=\"width: 50%;\">\n",
    "</div>"
   ]
  },
  {
   "cell_type": "code",
   "execution_count": null,
   "id": "65b7ce94",
   "metadata": {},
   "outputs": [],
   "source": []
  },
  {
   "cell_type": "markdown",
   "id": "01208377",
   "metadata": {
    "ExecuteTime": {
     "end_time": "2023-04-30T00:39:11.269825Z",
     "start_time": "2023-04-30T00:39:11.255778Z"
    }
   },
   "source": [
    "### Establishing a baseline level of performance"
   ]
  },
  {
   "cell_type": "markdown",
   "id": "1a7acd5c",
   "metadata": {
    "ExecuteTime": {
     "end_time": "2023-04-30T02:37:52.194406Z",
     "start_time": "2023-04-30T02:37:52.180527Z"
    }
   },
   "source": [
    "<div align=\"center\">\n",
    "    <img src=\"attachments/establishing_baseline_level_of_performance_p1.png\" alt=\"Drawing\" style=\"width: 50%;\">\n",
    "</div>"
   ]
  },
  {
   "cell_type": "markdown",
   "id": "301c62d0",
   "metadata": {
    "ExecuteTime": {
     "end_time": "2023-04-30T00:39:11.269825Z",
     "start_time": "2023-04-30T00:39:11.255778Z"
    }
   },
   "source": []
  },
  {
   "cell_type": "markdown",
   "id": "1e5091e1",
   "metadata": {
    "ExecuteTime": {
     "end_time": "2023-04-30T02:37:52.194406Z",
     "start_time": "2023-04-30T02:37:52.180527Z"
    }
   },
   "source": [
    "<div align=\"center\">\n",
    "    <img src=\"attachments/establishing_baseline_level_of_performance_p2.png\" alt=\"Drawing\" style=\"width: 50%;\">\n",
    "</div>"
   ]
  },
  {
   "cell_type": "markdown",
   "id": "6b3e3754",
   "metadata": {},
   "source": []
  },
  {
   "cell_type": "markdown",
   "id": "27aab853",
   "metadata": {
    "ExecuteTime": {
     "end_time": "2023-04-30T02:37:52.194406Z",
     "start_time": "2023-04-30T02:37:52.180527Z"
    }
   },
   "source": [
    "<div align=\"center\">\n",
    "    <img src=\"attachments/establishing_baseline_level_of_performance_p3.png\" alt=\"Drawing\" style=\"width: 50%;\">\n",
    "</div>"
   ]
  },
  {
   "cell_type": "markdown",
   "id": "d7096e4e",
   "metadata": {},
   "source": []
  },
  {
   "cell_type": "markdown",
   "id": "9e489546",
   "metadata": {
    "ExecuteTime": {
     "end_time": "2023-04-30T00:39:11.269825Z",
     "start_time": "2023-04-30T00:39:11.255778Z"
    }
   },
   "source": [
    "### Learning curves"
   ]
  },
  {
   "cell_type": "markdown",
   "id": "d12f46a7",
   "metadata": {
    "ExecuteTime": {
     "end_time": "2023-04-30T02:37:52.194406Z",
     "start_time": "2023-04-30T02:37:52.180527Z"
    }
   },
   "source": [
    "<div align=\"center\">\n",
    "    <img src=\"attachments/learning_curves_p1.png\" alt=\"Drawing\" style=\"width: 50%;\">\n",
    "</div>"
   ]
  },
  {
   "cell_type": "markdown",
   "id": "b273ccbd",
   "metadata": {
    "ExecuteTime": {
     "end_time": "2023-04-30T02:37:52.194406Z",
     "start_time": "2023-04-30T02:37:52.180527Z"
    }
   },
   "source": [
    "<div align=\"center\">\n",
    "    <img src=\"attachments/learning_curves_p2.png\" alt=\"Drawing\" style=\"width: 50%;\">\n",
    "</div>"
   ]
  },
  {
   "cell_type": "markdown",
   "id": "a0e495c4",
   "metadata": {},
   "source": []
  },
  {
   "cell_type": "markdown",
   "id": "96932d69",
   "metadata": {
    "ExecuteTime": {
     "end_time": "2023-04-30T02:37:52.194406Z",
     "start_time": "2023-04-30T02:37:52.180527Z"
    }
   },
   "source": [
    "<div align=\"center\">\n",
    "    <img src=\"attachments/learning_curves_p3.png\" alt=\"Drawing\" style=\"width: 50%;\">\n",
    "</div>"
   ]
  },
  {
   "cell_type": "markdown",
   "id": "23e628c1",
   "metadata": {
    "ExecuteTime": {
     "end_time": "2023-04-30T00:39:11.269825Z",
     "start_time": "2023-04-30T00:39:11.255778Z"
    }
   },
   "source": []
  },
  {
   "cell_type": "markdown",
   "id": "c0e5220f",
   "metadata": {
    "ExecuteTime": {
     "end_time": "2023-04-30T00:39:11.269825Z",
     "start_time": "2023-04-30T00:39:11.255778Z"
    }
   },
   "source": [
    "### Deciding what to try next revisited"
   ]
  },
  {
   "cell_type": "markdown",
   "id": "85222699",
   "metadata": {
    "ExecuteTime": {
     "end_time": "2023-04-30T02:37:52.194406Z",
     "start_time": "2023-04-30T02:37:52.180527Z"
    }
   },
   "source": [
    "<div align=\"center\">\n",
    "    <img src=\"attachments/deciding_what_to_try_next_p1.png\" alt=\"Drawing\" style=\"width: 50%;\">\n",
    "</div>"
   ]
  },
  {
   "cell_type": "code",
   "execution_count": null,
   "id": "7144a25f",
   "metadata": {},
   "outputs": [],
   "source": []
  },
  {
   "cell_type": "markdown",
   "id": "3e41d9cd",
   "metadata": {
    "ExecuteTime": {
     "end_time": "2023-04-30T00:39:11.269825Z",
     "start_time": "2023-04-30T00:39:11.255778Z"
    }
   },
   "source": []
  },
  {
   "cell_type": "markdown",
   "id": "2234bda4",
   "metadata": {
    "ExecuteTime": {
     "end_time": "2023-04-30T00:39:11.269825Z",
     "start_time": "2023-04-30T00:39:11.255778Z"
    }
   },
   "source": [
    "### Bias/variance and neural networks"
   ]
  },
  {
   "cell_type": "markdown",
   "id": "06d37c80",
   "metadata": {
    "ExecuteTime": {
     "end_time": "2023-04-30T02:37:52.194406Z",
     "start_time": "2023-04-30T02:37:52.180527Z"
    }
   },
   "source": [
    "<div align=\"center\">\n",
    "    <img src=\"attachments/bias_variance_and_NNs_p1.png\" alt=\"Drawing\" style=\"width: 50%;\">\n",
    "</div>"
   ]
  },
  {
   "cell_type": "code",
   "execution_count": null,
   "id": "1dbe648c",
   "metadata": {},
   "outputs": [],
   "source": []
  },
  {
   "cell_type": "markdown",
   "id": "fb4d6877",
   "metadata": {
    "ExecuteTime": {
     "end_time": "2023-04-30T00:39:11.269825Z",
     "start_time": "2023-04-30T00:39:11.255778Z"
    }
   },
   "source": [
    "<div align=\"center\">\n",
    "    <img src=\"attachments/bias_variance_and_NNs_p2.png\" alt=\"Drawing\" style=\"width: 50%;\">\n",
    "</div>"
   ]
  },
  {
   "cell_type": "markdown",
   "id": "1872da32",
   "metadata": {
    "ExecuteTime": {
     "end_time": "2023-04-30T00:39:11.269825Z",
     "start_time": "2023-04-30T00:39:11.255778Z"
    }
   },
   "source": [
    "<div align=\"center\">\n",
    "    <img src=\"attachments/bias_variance_and_NNs_p3.png\" alt=\"Drawing\" style=\"width: 50%;\">\n",
    "</div>"
   ]
  },
  {
   "cell_type": "markdown",
   "id": "ec7485a7",
   "metadata": {
    "ExecuteTime": {
     "end_time": "2023-04-30T00:39:11.269825Z",
     "start_time": "2023-04-30T00:39:11.255778Z"
    }
   },
   "source": [
    "<div align=\"center\">\n",
    "    <img src=\"attachments/bias_variance_and_NNs_p4.png\" alt=\"Drawing\" style=\"width: 60%;\">\n",
    "</div>"
   ]
  },
  {
   "cell_type": "markdown",
   "id": "6bde9c0b",
   "metadata": {
    "ExecuteTime": {
     "end_time": "2023-04-30T00:39:11.269825Z",
     "start_time": "2023-04-30T00:39:11.255778Z"
    }
   },
   "source": []
  },
  {
   "cell_type": "markdown",
   "id": "8352bfff",
   "metadata": {
    "ExecuteTime": {
     "end_time": "2023-04-30T00:39:11.269825Z",
     "start_time": "2023-04-30T00:39:11.255778Z"
    }
   },
   "source": [
    "### Optional Lab: Diagnosing Bias and Variance"
   ]
  },
  {
   "cell_type": "markdown",
   "id": "e42321e8",
   "metadata": {
    "ExecuteTime": {
     "end_time": "2023-04-30T00:39:11.269825Z",
     "start_time": "2023-04-30T00:39:11.255778Z"
    }
   },
   "source": []
  },
  {
   "cell_type": "markdown",
   "id": "b684c65c",
   "metadata": {
    "ExecuteTime": {
     "end_time": "2023-04-30T00:39:11.269825Z",
     "start_time": "2023-04-30T00:39:11.255778Z"
    }
   },
   "source": [
    "## Practice quiz: Bias and variance"
   ]
  },
  {
   "cell_type": "markdown",
   "id": "8d2191b2",
   "metadata": {
    "ExecuteTime": {
     "end_time": "2023-04-30T00:39:11.269825Z",
     "start_time": "2023-04-30T00:39:11.255778Z"
    }
   },
   "source": []
  },
  {
   "cell_type": "markdown",
   "id": "4a8a4459",
   "metadata": {
    "ExecuteTime": {
     "end_time": "2023-04-30T00:39:11.269825Z",
     "start_time": "2023-04-30T00:39:11.255778Z"
    }
   },
   "source": [
    "## Machine learning development process"
   ]
  },
  {
   "cell_type": "markdown",
   "id": "7b85fcf9",
   "metadata": {
    "ExecuteTime": {
     "end_time": "2023-04-30T00:39:11.269825Z",
     "start_time": "2023-04-30T00:39:11.255778Z"
    }
   },
   "source": [
    "### Iterative loop of ML development"
   ]
  },
  {
   "cell_type": "markdown",
   "id": "f4b68be7",
   "metadata": {},
   "source": [
    "<div align=\"center\">\n",
    "    <img src=\"attachments/iterative_loop_of_ML_development_p1.png\" alt=\"Drawing\" style=\"width: 50%;\">\n",
    "</div>"
   ]
  },
  {
   "cell_type": "markdown",
   "id": "d555ad15",
   "metadata": {
    "ExecuteTime": {
     "end_time": "2023-04-30T00:39:11.269825Z",
     "start_time": "2023-04-30T00:39:11.255778Z"
    }
   },
   "source": [
    "<div align=\"center\">\n",
    "    <img src=\"attachments/iterative_loop_of_ML_development_p2.png\" alt=\"Drawing\" style=\"width: 50%;\">\n",
    "</div>"
   ]
  },
  {
   "cell_type": "markdown",
   "id": "3949d2d6",
   "metadata": {
    "ExecuteTime": {
     "end_time": "2023-04-30T00:39:11.269825Z",
     "start_time": "2023-04-30T00:39:11.255778Z"
    }
   },
   "source": [
    "<div align=\"center\">\n",
    "    <img src=\"attachments/iterative_loop_of_ML_development_p3.png\" alt=\"Drawing\" style=\"width: 50%;\">\n",
    "</div>"
   ]
  },
  {
   "cell_type": "markdown",
   "id": "36108072",
   "metadata": {
    "ExecuteTime": {
     "end_time": "2023-04-30T00:39:11.269825Z",
     "start_time": "2023-04-30T00:39:11.255778Z"
    }
   },
   "source": [
    "<div align=\"center\">\n",
    "    <img src=\"attachments/iterative_loop_of_ML_development_p4.png\" alt=\"Drawing\" style=\"width: 50%;\">\n",
    "</div>"
   ]
  },
  {
   "cell_type": "markdown",
   "id": "7567612e",
   "metadata": {
    "ExecuteTime": {
     "end_time": "2023-04-30T00:39:11.269825Z",
     "start_time": "2023-04-30T00:39:11.255778Z"
    }
   },
   "source": []
  },
  {
   "cell_type": "markdown",
   "id": "306c1311",
   "metadata": {
    "ExecuteTime": {
     "end_time": "2023-04-30T00:39:11.269825Z",
     "start_time": "2023-04-30T00:39:11.255778Z"
    }
   },
   "source": [
    "### Error analysis"
   ]
  },
  {
   "cell_type": "markdown",
   "id": "6e945255",
   "metadata": {
    "ExecuteTime": {
     "end_time": "2023-04-30T00:39:11.269825Z",
     "start_time": "2023-04-30T00:39:11.255778Z"
    }
   },
   "source": [
    "<div align=\"center\">\n",
    "    <img src=\"attachments/error_analysis_p1b.png\" alt=\"Drawing\" style=\"width: 50%;\">\n",
    "</div>"
   ]
  },
  {
   "cell_type": "markdown",
   "id": "e46bbe80",
   "metadata": {
    "ExecuteTime": {
     "end_time": "2023-04-30T00:39:11.269825Z",
     "start_time": "2023-04-30T00:39:11.255778Z"
    }
   },
   "source": [
    "<div align=\"center\">\n",
    "    <img src=\"attachments/error_analysis_p2.png\" alt=\"Drawing\" style=\"width: 50%;\">\n",
    "</div>"
   ]
  },
  {
   "cell_type": "markdown",
   "id": "24b9a936",
   "metadata": {
    "ExecuteTime": {
     "end_time": "2023-04-30T00:39:11.269825Z",
     "start_time": "2023-04-30T00:39:11.255778Z"
    }
   },
   "source": [
    "### Adding data"
   ]
  },
  {
   "cell_type": "markdown",
   "id": "34b04cee",
   "metadata": {
    "ExecuteTime": {
     "end_time": "2023-04-30T00:39:11.269825Z",
     "start_time": "2023-04-30T00:39:11.255778Z"
    }
   },
   "source": [
    "<div align=\"center\">\n",
    "    <img src=\"attachments/adding_data_p1.png\" alt=\"Drawing\" style=\"width: 40%;\">\n",
    "</div>"
   ]
  },
  {
   "cell_type": "markdown",
   "id": "aeba3a79",
   "metadata": {
    "ExecuteTime": {
     "end_time": "2023-04-30T00:39:11.269825Z",
     "start_time": "2023-04-30T00:39:11.255778Z"
    }
   },
   "source": [
    "<div align=\"center\">\n",
    "    <img src=\"attachments/adding_data_p2.png\" alt=\"Drawing\" style=\"width: 40%;\">\n",
    "</div>"
   ]
  },
  {
   "cell_type": "markdown",
   "id": "b7aca49c",
   "metadata": {
    "ExecuteTime": {
     "end_time": "2023-04-30T00:39:11.269825Z",
     "start_time": "2023-04-30T00:39:11.255778Z"
    }
   },
   "source": [
    "<div align=\"center\">\n",
    "    <img src=\"attachments/adding_data_p3.png\" alt=\"Drawing\" style=\"width: 40%;\">\n",
    "</div>"
   ]
  },
  {
   "cell_type": "markdown",
   "id": "811579ab",
   "metadata": {
    "ExecuteTime": {
     "end_time": "2023-04-30T00:39:11.269825Z",
     "start_time": "2023-04-30T00:39:11.255778Z"
    }
   },
   "source": [
    "<div align=\"center\">\n",
    "    <img src=\"attachments/adding_data_p4.png\" alt=\"Drawing\" style=\"width: 45%;\">\n",
    "</div>"
   ]
  },
  {
   "cell_type": "markdown",
   "id": "b65e1dca",
   "metadata": {
    "ExecuteTime": {
     "end_time": "2023-04-30T00:39:11.269825Z",
     "start_time": "2023-04-30T00:39:11.255778Z"
    }
   },
   "source": [
    "<div align=\"center\">\n",
    "    <img src=\"attachments/adding_data_p5.png\" alt=\"Drawing\" style=\"width: 45%;\">\n",
    "</div>"
   ]
  },
  {
   "cell_type": "markdown",
   "id": "5859401f",
   "metadata": {
    "ExecuteTime": {
     "end_time": "2023-04-30T00:39:11.269825Z",
     "start_time": "2023-04-30T00:39:11.255778Z"
    }
   },
   "source": [
    "<div align=\"center\">\n",
    "    <img src=\"attachments/adding_data_p6.png\" alt=\"Drawing\" style=\"width: 45%;\">\n",
    "</div>"
   ]
  },
  {
   "cell_type": "markdown",
   "id": "fdf12142",
   "metadata": {
    "ExecuteTime": {
     "end_time": "2023-04-30T00:39:11.269825Z",
     "start_time": "2023-04-30T00:39:11.255778Z"
    }
   },
   "source": [
    "<div align=\"center\">\n",
    "    <img src=\"attachments/adding_data_p7.png\" alt=\"Drawing\" style=\"width: 45%;\">\n",
    "</div>"
   ]
  },
  {
   "cell_type": "markdown",
   "id": "5272bb86",
   "metadata": {
    "ExecuteTime": {
     "end_time": "2023-04-30T00:39:11.269825Z",
     "start_time": "2023-04-30T00:39:11.255778Z"
    }
   },
   "source": [
    "<div align=\"center\">\n",
    "    <img src=\"attachments/adding_data_p8.png\" alt=\"Drawing\" style=\"width: 45%;\">\n",
    "</div>"
   ]
  },
  {
   "cell_type": "markdown",
   "id": "8ff74b49",
   "metadata": {
    "ExecuteTime": {
     "end_time": "2023-04-30T00:39:11.269825Z",
     "start_time": "2023-04-30T00:39:11.255778Z"
    }
   },
   "source": [
    "<div align=\"center\">\n",
    "    <img src=\"attachments/adding_data_p9.png\" alt=\"Drawing\" style=\"width: 45%;\">\n",
    "</div>"
   ]
  },
  {
   "cell_type": "markdown",
   "id": "dd76793a",
   "metadata": {
    "ExecuteTime": {
     "end_time": "2023-04-30T00:39:11.269825Z",
     "start_time": "2023-04-30T00:39:11.255778Z"
    }
   },
   "source": [
    "<div align=\"center\">\n",
    "    <img src=\"attachments/adding_data_p10.png\" alt=\"Drawing\" style=\"width: 45%;\">\n",
    "</div>"
   ]
  },
  {
   "cell_type": "markdown",
   "id": "697500f1",
   "metadata": {
    "ExecuteTime": {
     "end_time": "2023-04-30T00:39:11.269825Z",
     "start_time": "2023-04-30T00:39:11.255778Z"
    }
   },
   "source": []
  },
  {
   "cell_type": "markdown",
   "id": "2dd7ce7b",
   "metadata": {
    "ExecuteTime": {
     "end_time": "2023-04-30T00:39:11.269825Z",
     "start_time": "2023-04-30T00:39:11.255778Z"
    }
   },
   "source": [
    "### Transfer learning: using data from a different task"
   ]
  },
  {
   "cell_type": "markdown",
   "id": "4112ad12",
   "metadata": {
    "ExecuteTime": {
     "end_time": "2023-04-30T00:39:11.269825Z",
     "start_time": "2023-04-30T00:39:11.255778Z"
    }
   },
   "source": []
  },
  {
   "cell_type": "markdown",
   "id": "8e2c4a53",
   "metadata": {
    "ExecuteTime": {
     "end_time": "2023-04-30T00:39:11.269825Z",
     "start_time": "2023-04-30T00:39:11.255778Z"
    }
   },
   "source": [
    "<div align=\"center\">\n",
    "    <img src=\"attachments/transfer_learning_p1.png\" alt=\"Drawing\" style=\"width: 55%;\">\n",
    "</div>"
   ]
  },
  {
   "cell_type": "markdown",
   "id": "588e4b15",
   "metadata": {
    "ExecuteTime": {
     "end_time": "2023-04-30T02:55:30.896029Z",
     "start_time": "2023-04-30T02:55:30.886696Z"
    }
   },
   "source": [
    "<div align=\"center\">\n",
    "    <img src=\"attachments/transfer_learning_p2.png\" alt=\"Drawing\" style=\"width: 55%;\">\n",
    "</div>"
   ]
  },
  {
   "cell_type": "markdown",
   "id": "b9b0e7d5",
   "metadata": {
    "ExecuteTime": {
     "end_time": "2023-04-30T02:55:30.896029Z",
     "start_time": "2023-04-30T02:55:30.886696Z"
    }
   },
   "source": [
    "<div align=\"center\">\n",
    "    <img src=\"attachments/transfer_learning_p3.png\" alt=\"Drawing\" style=\"width: 45%;\">\n",
    "</div>"
   ]
  },
  {
   "cell_type": "markdown",
   "id": "68915d40",
   "metadata": {
    "ExecuteTime": {
     "end_time": "2023-04-30T00:39:11.269825Z",
     "start_time": "2023-04-30T00:39:11.255778Z"
    }
   },
   "source": [
    "### Full cycle of a machine learning project"
   ]
  },
  {
   "cell_type": "markdown",
   "id": "8d46fc1e",
   "metadata": {},
   "source": [
    "<div align=\"center\">\n",
    "    <img src=\"attachments/full_cycle_of_ML_project_p1.png\" alt=\"Drawing\" style=\"width: 55%;\">\n",
    "</div>"
   ]
  },
  {
   "cell_type": "markdown",
   "id": "2c103495",
   "metadata": {
    "ExecuteTime": {
     "end_time": "2023-04-30T00:39:11.269825Z",
     "start_time": "2023-04-30T00:39:11.255778Z"
    }
   },
   "source": []
  },
  {
   "cell_type": "markdown",
   "id": "efe29ddf",
   "metadata": {
    "ExecuteTime": {
     "end_time": "2023-04-30T02:55:30.896029Z",
     "start_time": "2023-04-30T02:55:30.886696Z"
    }
   },
   "source": [
    "<div align=\"center\">\n",
    "    <img src=\"attachments/full_cycle_of_ML_project_p2.png\" alt=\"Drawing\" style=\"width: 55%;\">\n",
    "</div>"
   ]
  },
  {
   "cell_type": "markdown",
   "id": "e933144d",
   "metadata": {
    "ExecuteTime": {
     "end_time": "2023-04-30T00:39:11.269825Z",
     "start_time": "2023-04-30T00:39:11.255778Z"
    }
   },
   "source": [
    "### Fairness, bias, and ethics"
   ]
  },
  {
   "cell_type": "markdown",
   "id": "de956947",
   "metadata": {},
   "source": [
    "<div align=\"center\">\n",
    "    <img src=\"attachments/fairness_bias_ethics_p1.png\" alt=\"Drawing\" style=\"width: 40%;\">\n",
    "</div>"
   ]
  },
  {
   "cell_type": "markdown",
   "id": "2620d649",
   "metadata": {
    "ExecuteTime": {
     "end_time": "2023-04-30T00:39:11.269825Z",
     "start_time": "2023-04-30T00:39:11.255778Z"
    }
   },
   "source": []
  },
  {
   "cell_type": "markdown",
   "id": "e26b2992",
   "metadata": {
    "ExecuteTime": {
     "end_time": "2023-04-30T02:55:30.896029Z",
     "start_time": "2023-04-30T02:55:30.886696Z"
    }
   },
   "source": [
    "<div align=\"center\">\n",
    "    <img src=\"attachments/fairness_bias_ethics_p2.png\" alt=\"Drawing\" style=\"width: 50%;\">\n",
    "</div>"
   ]
  },
  {
   "cell_type": "markdown",
   "id": "67ae239c",
   "metadata": {
    "ExecuteTime": {
     "end_time": "2023-04-30T02:55:30.896029Z",
     "start_time": "2023-04-30T02:55:30.886696Z"
    }
   },
   "source": [
    "<div align=\"center\">\n",
    "    <img src=\"attachments/fairness_bias_ethics_p3.png\" alt=\"Drawing\" style=\"width: 50%;\">\n",
    "</div>"
   ]
  },
  {
   "cell_type": "markdown",
   "id": "69324840",
   "metadata": {
    "ExecuteTime": {
     "end_time": "2023-04-30T00:39:11.269825Z",
     "start_time": "2023-04-30T00:39:11.255778Z"
    }
   },
   "source": [
    "### Practice quiz: Machine learning development process"
   ]
  },
  {
   "cell_type": "markdown",
   "id": "ffd75ea3",
   "metadata": {
    "ExecuteTime": {
     "end_time": "2023-04-30T00:39:11.269825Z",
     "start_time": "2023-04-30T00:39:11.255778Z"
    }
   },
   "source": []
  },
  {
   "cell_type": "markdown",
   "id": "34641d2d",
   "metadata": {
    "ExecuteTime": {
     "end_time": "2023-04-30T00:39:11.269825Z",
     "start_time": "2023-04-30T00:39:11.255778Z"
    }
   },
   "source": [
    "## Skewed datasets (optional)"
   ]
  },
  {
   "cell_type": "markdown",
   "id": "c1d49518",
   "metadata": {
    "ExecuteTime": {
     "end_time": "2023-04-30T00:39:11.269825Z",
     "start_time": "2023-04-30T00:39:11.255778Z"
    }
   },
   "source": [
    "### Error metrics for skewed datasets"
   ]
  },
  {
   "cell_type": "markdown",
   "id": "1405d398",
   "metadata": {},
   "source": [
    "<div align=\"center\">\n",
    "    <img src=\"attachments/error_metrics_for_skewed_datasets_p1.png\" alt=\"Drawing\" style=\"width: 50%;\">\n",
    "</div>"
   ]
  },
  {
   "cell_type": "markdown",
   "id": "4e849948",
   "metadata": {
    "ExecuteTime": {
     "end_time": "2023-04-30T02:55:30.896029Z",
     "start_time": "2023-04-30T02:55:30.886696Z"
    }
   },
   "source": [
    "<div align=\"center\">\n",
    "    <img src=\"attachments/error_metrics_for_skewed_datasets_p2.png\" alt=\"Drawing\" style=\"width: 60%;\">\n",
    "</div>"
   ]
  },
  {
   "cell_type": "markdown",
   "id": "bfc3a506",
   "metadata": {
    "ExecuteTime": {
     "end_time": "2023-04-30T00:39:11.269825Z",
     "start_time": "2023-04-30T00:39:11.255778Z"
    }
   },
   "source": [
    "### Trading off precision and recall "
   ]
  },
  {
   "cell_type": "markdown",
   "id": "9b7d7710",
   "metadata": {},
   "source": []
  },
  {
   "cell_type": "markdown",
   "id": "a09867f8",
   "metadata": {
    "ExecuteTime": {
     "end_time": "2023-04-30T02:55:30.896029Z",
     "start_time": "2023-04-30T02:55:30.886696Z"
    }
   },
   "source": [
    "<div align=\"center\">\n",
    "    <img src=\"attachments/trading_off_precision_and_recall_p1.png\" alt=\"Drawing\" style=\"width: 60%;\">\n",
    "</div>"
   ]
  },
  {
   "cell_type": "markdown",
   "id": "ae5dc14b",
   "metadata": {
    "ExecuteTime": {
     "end_time": "2023-04-30T02:55:30.896029Z",
     "start_time": "2023-04-30T02:55:30.886696Z"
    }
   },
   "source": [
    "<div align=\"center\">\n",
    "    <img src=\"attachments/trading_off_precision_and_recall_p2.png\" alt=\"Drawing\" style=\"width: 60%;\">\n",
    "</div>"
   ]
  },
  {
   "cell_type": "markdown",
   "id": "e8bab37c",
   "metadata": {
    "ExecuteTime": {
     "end_time": "2023-04-30T00:39:11.269825Z",
     "start_time": "2023-04-30T00:39:11.255778Z"
    }
   },
   "source": []
  },
  {
   "cell_type": "markdown",
   "id": "aa16fc56",
   "metadata": {
    "ExecuteTime": {
     "end_time": "2023-04-30T00:39:11.269825Z",
     "start_time": "2023-04-30T00:39:11.255778Z"
    }
   },
   "source": [
    "## Practice Lab: Advise for applying machine learning"
   ]
  },
  {
   "cell_type": "markdown",
   "id": "fbd0c9ca",
   "metadata": {
    "ExecuteTime": {
     "end_time": "2023-04-30T00:39:11.269825Z",
     "start_time": "2023-04-30T00:39:11.255778Z"
    }
   },
   "source": []
  },
  {
   "cell_type": "markdown",
   "id": "f5bdf6b4",
   "metadata": {},
   "source": [
    "## Miscellaneous"
   ]
  },
  {
   "cell_type": "code",
   "execution_count": 1,
   "id": "a2a44365",
   "metadata": {
    "ExecuteTime": {
     "end_time": "2023-04-30T00:39:11.269825Z",
     "start_time": "2023-04-30T00:39:11.255778Z"
    }
   },
   "outputs": [],
   "source": [
    "# Kernel crashes half-way through. Found issue by running the codes in python command line \n",
    "# https://stackoverflow.com/questions/20554074/sklearn-omp-error-15-initializing-libiomp5md-dll-but-found-mk2iomp5md-dll-a\n",
    "import os\n",
    "os.environ[\"KMP_DUPLICATE_LIB_OK\"]=\"TRUE\""
   ]
  },
  {
   "cell_type": "code",
   "execution_count": null,
   "id": "c1227556",
   "metadata": {},
   "outputs": [],
   "source": []
  }
 ],
 "metadata": {
  "kernelspec": {
   "display_name": "Python [conda env:ga]",
   "language": "python",
   "name": "conda-env-ga-py"
  },
  "language_info": {
   "codemirror_mode": {
    "name": "ipython",
    "version": 3
   },
   "file_extension": ".py",
   "mimetype": "text/x-python",
   "name": "python",
   "nbconvert_exporter": "python",
   "pygments_lexer": "ipython3",
   "version": "3.9.16"
  },
  "toc": {
   "base_numbering": 1,
   "nav_menu": {},
   "number_sections": true,
   "sideBar": true,
   "skip_h1_title": false,
   "title_cell": "Table of Contents",
   "title_sidebar": "Contents",
   "toc_cell": true,
   "toc_position": {
    "height": "calc(100% - 180px)",
    "left": "10px",
    "top": "150px",
    "width": "384px"
   },
   "toc_section_display": true,
   "toc_window_display": true
  }
 },
 "nbformat": 4,
 "nbformat_minor": 5
}
