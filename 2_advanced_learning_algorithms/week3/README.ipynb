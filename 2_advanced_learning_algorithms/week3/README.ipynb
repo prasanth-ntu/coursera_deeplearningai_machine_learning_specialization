{
 "cells": [
  {
   "cell_type": "markdown",
   "id": "bc381e0b",
   "metadata": {
    "toc": true
   },
   "source": [
    "<h1>Table of Contents<span class=\"tocSkip\"></span></h1>\n",
    "<div class=\"toc\"><ul class=\"toc-item\"><li><span><a href=\"#Course-2-Week-3:-Advice-for-applying-machine-learning\" data-toc-modified-id=\"Course-2-Week-3:-Advice-for-applying-machine-learning-1\"><span class=\"toc-item-num\">1&nbsp;&nbsp;</span>Course 2 Week 3: Advice for applying machine learning</a></span><ul class=\"toc-item\"><li><span><a href=\"#Advice-for-applying-machine-learning\" data-toc-modified-id=\"Advice-for-applying-machine-learning-1.1\"><span class=\"toc-item-num\">1.1&nbsp;&nbsp;</span>Advice for applying machine learning</a></span><ul class=\"toc-item\"><li><span><a href=\"#Deciding-what-to-try-next\" data-toc-modified-id=\"Deciding-what-to-try-next-1.1.1\"><span class=\"toc-item-num\">1.1.1&nbsp;&nbsp;</span>Deciding what to try next</a></span></li><li><span><a href=\"#Evaluating-a-model\" data-toc-modified-id=\"Evaluating-a-model-1.1.2\"><span class=\"toc-item-num\">1.1.2&nbsp;&nbsp;</span>Evaluating a model</a></span></li><li><span><a href=\"#Model-selection-and-training/cross-validation/test-sets\" data-toc-modified-id=\"Model-selection-and-training/cross-validation/test-sets-1.1.3\"><span class=\"toc-item-num\">1.1.3&nbsp;&nbsp;</span>Model selection and training/cross validation/test sets</a></span></li><li><span><a href=\"#Optional-Lab:-Model-Evaluation-and-Selection\" data-toc-modified-id=\"Optional-Lab:-Model-Evaluation-and-Selection-1.1.4\"><span class=\"toc-item-num\">1.1.4&nbsp;&nbsp;</span>Optional Lab: Model Evaluation and Selection</a></span></li></ul></li><li><span><a href=\"#Practice-quiz:-Advice-for-applying-machine-learning\" data-toc-modified-id=\"Practice-quiz:-Advice-for-applying-machine-learning-1.2\"><span class=\"toc-item-num\">1.2&nbsp;&nbsp;</span>Practice quiz: Advice for applying machine learning</a></span></li><li><span><a href=\"#Bias-and-variance\" data-toc-modified-id=\"Bias-and-variance-1.3\"><span class=\"toc-item-num\">1.3&nbsp;&nbsp;</span>Bias and variance</a></span><ul class=\"toc-item\"><li><span><a href=\"#Diagnosing-bias-and-variance\" data-toc-modified-id=\"Diagnosing-bias-and-variance-1.3.1\"><span class=\"toc-item-num\">1.3.1&nbsp;&nbsp;</span>Diagnosing bias and variance</a></span></li><li><span><a href=\"#Regularization-and-bias/variance\" data-toc-modified-id=\"Regularization-and-bias/variance-1.3.2\"><span class=\"toc-item-num\">1.3.2&nbsp;&nbsp;</span>Regularization and bias/variance</a></span></li><li><span><a href=\"#Establishing-a-baseline-level-of-performance\" data-toc-modified-id=\"Establishing-a-baseline-level-of-performance-1.3.3\"><span class=\"toc-item-num\">1.3.3&nbsp;&nbsp;</span>Establishing a baseline level of performance</a></span></li><li><span><a href=\"#Learning-curves\" data-toc-modified-id=\"Learning-curves-1.3.4\"><span class=\"toc-item-num\">1.3.4&nbsp;&nbsp;</span>Learning curves</a></span></li><li><span><a href=\"#Deciding-what-to-try-next-revisited\" data-toc-modified-id=\"Deciding-what-to-try-next-revisited-1.3.5\"><span class=\"toc-item-num\">1.3.5&nbsp;&nbsp;</span>Deciding what to try next revisited</a></span></li><li><span><a href=\"#Bias/variance-and-neural-networks\" data-toc-modified-id=\"Bias/variance-and-neural-networks-1.3.6\"><span class=\"toc-item-num\">1.3.6&nbsp;&nbsp;</span>Bias/variance and neural networks</a></span></li><li><span><a href=\"#Optional-Lab:-Diagnosing-Bias-and-Variance\" data-toc-modified-id=\"Optional-Lab:-Diagnosing-Bias-and-Variance-1.3.7\"><span class=\"toc-item-num\">1.3.7&nbsp;&nbsp;</span>Optional Lab: Diagnosing Bias and Variance</a></span></li></ul></li><li><span><a href=\"#Practice-quiz:-Bias-and-variance\" data-toc-modified-id=\"Practice-quiz:-Bias-and-variance-1.4\"><span class=\"toc-item-num\">1.4&nbsp;&nbsp;</span>Practice quiz: Bias and variance</a></span></li><li><span><a href=\"#Machine-learning-development-process\" data-toc-modified-id=\"Machine-learning-development-process-1.5\"><span class=\"toc-item-num\">1.5&nbsp;&nbsp;</span>Machine learning development process</a></span><ul class=\"toc-item\"><li><span><a href=\"#Iterative-loop-of-ML-development\" data-toc-modified-id=\"Iterative-loop-of-ML-development-1.5.1\"><span class=\"toc-item-num\">1.5.1&nbsp;&nbsp;</span>Iterative loop of ML development</a></span></li><li><span><a href=\"#Error-analysis\" data-toc-modified-id=\"Error-analysis-1.5.2\"><span class=\"toc-item-num\">1.5.2&nbsp;&nbsp;</span>Error analysis</a></span></li><li><span><a href=\"#Adding-data\" data-toc-modified-id=\"Adding-data-1.5.3\"><span class=\"toc-item-num\">1.5.3&nbsp;&nbsp;</span>Adding data</a></span></li><li><span><a href=\"#Transfer-learning:-using-data-from-a-different-task\" data-toc-modified-id=\"Transfer-learning:-using-data-from-a-different-task-1.5.4\"><span class=\"toc-item-num\">1.5.4&nbsp;&nbsp;</span>Transfer learning: using data from a different task</a></span></li><li><span><a href=\"#Full-cycle-of-a-machine-learning-project\" data-toc-modified-id=\"Full-cycle-of-a-machine-learning-project-1.5.5\"><span class=\"toc-item-num\">1.5.5&nbsp;&nbsp;</span>Full cycle of a machine learning project</a></span></li><li><span><a href=\"#Fairness,-bias,-and-ethics\" data-toc-modified-id=\"Fairness,-bias,-and-ethics-1.5.6\"><span class=\"toc-item-num\">1.5.6&nbsp;&nbsp;</span>Fairness, bias, and ethics</a></span></li><li><span><a href=\"#Practice-quiz:-Machine-learning-development-process\" data-toc-modified-id=\"Practice-quiz:-Machine-learning-development-process-1.5.7\"><span class=\"toc-item-num\">1.5.7&nbsp;&nbsp;</span>Practice quiz: Machine learning development process</a></span></li></ul></li><li><span><a href=\"#Skewed-datasets-(optional)\" data-toc-modified-id=\"Skewed-datasets-(optional)-1.6\"><span class=\"toc-item-num\">1.6&nbsp;&nbsp;</span>Skewed datasets (optional)</a></span><ul class=\"toc-item\"><li><span><a href=\"#Error-metrics-for-skewed-datasets\" data-toc-modified-id=\"Error-metrics-for-skewed-datasets-1.6.1\"><span class=\"toc-item-num\">1.6.1&nbsp;&nbsp;</span>Error metrics for skewed datasets</a></span></li><li><span><a href=\"#Trading-off-precision-and-recall\" data-toc-modified-id=\"Trading-off-precision-and-recall-1.6.2\"><span class=\"toc-item-num\">1.6.2&nbsp;&nbsp;</span>Trading off precision and recall</a></span></li></ul></li><li><span><a href=\"#Practice-Lab:-Advise-for-applying-machine-learning\" data-toc-modified-id=\"Practice-Lab:-Advise-for-applying-machine-learning-1.7\"><span class=\"toc-item-num\">1.7&nbsp;&nbsp;</span>Practice Lab: Advise for applying machine learning</a></span></li><li><span><a href=\"#Miscellaneous\" data-toc-modified-id=\"Miscellaneous-1.8\"><span class=\"toc-item-num\">1.8&nbsp;&nbsp;</span>Miscellaneous</a></span></li></ul></li></ul></div>"
   ]
  },
  {
   "cell_type": "markdown",
   "id": "627c02fd",
   "metadata": {},
   "source": [
    "# Course 2 Week 3: Advice for applying machine learning"
   ]
  },
  {
   "cell_type": "markdown",
   "id": "0616acd6",
   "metadata": {},
   "source": [
    "- Coursera course link: https://www.coursera.org/learn/advanced-learning-algorithms/home/week/3\n",
    "- Blog link: https://community.deeplearning.ai/c/mls/mls-course-2/mls-course-2-week-3/"
   ]
  },
  {
   "cell_type": "markdown",
   "id": "f338dd22",
   "metadata": {},
   "source": [
    "This week we'll learn best practices for training and evaluating our learning algorithms to improve performance. This will cover a wide range of useful advice about the machine learning lifecycle, tuning your model, and also improving our training data.\n",
    "\n",
    "**Learning Objectives**\n",
    "- Evaluate and then modify our learning algorithm or data to improve our model's performance\n",
    "- Evaluate our learning algorithm using cross validation and test datasets.\n",
    "- Diagnose bias and variance in our learning algorithm\n",
    "- Use regularization to adjust bias and variance in our learning algorithm\n",
    "- Identify a baseline level of performance for our learning algorithm\n",
    "- Understand how bias and variance apply to neural networks\n",
    "- Learn about the **iterative loop of Machine Learning Development** that's used to update and improve a machine learning model\n",
    "- Learn to use **error analysis** to identify the types of errors that a learning algorithm is making\n",
    "- Learn how to add more training data to improve your model, including **data augmentation and data synthesis**\n",
    "- Use **transfer learning** to improve your model's performance.\n",
    "- Learn to include fairness and ethics in your machine learning model development\n",
    "- Measure precision and recall to work with skewed (imbalanced) datasets"
   ]
  },
  {
   "cell_type": "markdown",
   "id": "3ccf183c",
   "metadata": {},
   "source": [
    "## Advice for applying machine learning"
   ]
  },
  {
   "cell_type": "markdown",
   "id": "1242ae75",
   "metadata": {},
   "source": [
    "### Deciding what to try next"
   ]
  },
  {
   "attachments": {},
   "cell_type": "markdown",
   "id": "8d9f954f",
   "metadata": {},
   "source": [
    "<div align=\"center\">\n",
    "    <img src=\"attachments/debugging_what_to_try_next_p1.png\" alt=\"Drawing\" style=\"width: 50%;\">\n",
    "</div>"
   ]
  },
  {
   "cell_type": "markdown",
   "id": "dd707d25",
   "metadata": {},
   "source": [
    "<div align=\"center\">\n",
    "    <img src=\"attachments/debugging_what_to_try_next_p2.png\" alt=\"Drawing\" style=\"width: 50%;\">\n",
    "</div>"
   ]
  },
  {
   "cell_type": "markdown",
   "id": "0bef4c9c",
   "metadata": {},
   "source": [
    "### Evaluating a model"
   ]
  },
  {
   "cell_type": "markdown",
   "id": "3d2dc533",
   "metadata": {},
   "source": [
    "<div align=\"center\">\n",
    "    <img src=\"attachments/evaluating_a_model_p1.png\" alt=\"Drawing\" style=\"width: 50%;\">\n",
    "</div>"
   ]
  },
  {
   "cell_type": "markdown",
   "id": "6daf5897",
   "metadata": {},
   "source": [
    "<div align=\"center\">\n",
    "    <img src=\"attachments/evaluating_a_model_p2.png\" alt=\"Drawing\" style=\"width: 50%;\">\n",
    "</div>"
   ]
  },
  {
   "cell_type": "markdown",
   "id": "2fee688f",
   "metadata": {},
   "source": [
    "<div align=\"center\">\n",
    "    <img src=\"attachments/evaluating_a_model_p3.png\" alt=\"Drawing\" style=\"width: 50%;\">\n",
    "</div>"
   ]
  },
  {
   "cell_type": "markdown",
   "id": "618ccfaf",
   "metadata": {},
   "source": [
    "<div align=\"center\">\n",
    "    <img src=\"attachments/evaluating_a_model_p4.png\" alt=\"Drawing\" style=\"width: 50%;\">\n",
    "</div>"
   ]
  },
  {
   "cell_type": "markdown",
   "id": "7b3fd6f8",
   "metadata": {},
   "source": [
    "<div align=\"center\">\n",
    "    <img src=\"attachments/evaluating_a_model_p5.png\" alt=\"Drawing\" style=\"width: 60%;\">\n",
    "</div>"
   ]
  },
  {
   "cell_type": "markdown",
   "id": "121a1475",
   "metadata": {},
   "source": [
    "<div align=\"center\">\n",
    "    <img src=\"attachments/evaluating_a_model_p6.png\" alt=\"Drawing\" style=\"width: 50%;\">\n",
    "</div>"
   ]
  },
  {
   "cell_type": "markdown",
   "id": "ddd4d3f9",
   "metadata": {},
   "source": [
    "### Model selection and training/cross validation/test sets"
   ]
  },
  {
   "cell_type": "markdown",
   "id": "4aa795e1",
   "metadata": {},
   "source": [
    "<div align=\"center\">\n",
    "    <img src=\"attachments/model_selection_and_training_cv_test_sets_p1.png\" alt=\"Drawing\" style=\"width: 50%;\">\n",
    "</div>"
   ]
  },
  {
   "cell_type": "markdown",
   "id": "2974e0af",
   "metadata": {},
   "source": [
    "<div align=\"center\">\n",
    "    <img src=\"attachments/model_selection_and_training_cv_test_sets_p2.png\" alt=\"Drawing\" style=\"width: 50%;\">\n",
    "</div>"
   ]
  },
  {
   "cell_type": "markdown",
   "id": "5c348674",
   "metadata": {},
   "source": [
    "<div align=\"center\">\n",
    "    <img src=\"attachments/model_selection_and_training_cv_test_sets_p3.png\" alt=\"Drawing\" style=\"width: 50%;\">\n",
    "</div>"
   ]
  },
  {
   "cell_type": "markdown",
   "id": "150ef2fe",
   "metadata": {},
   "source": [
    "<div align=\"center\">\n",
    "    <img src=\"attachments/model_selection_and_training_cv_test_sets_p4.png\" alt=\"Drawing\" style=\"width: 50%;\">\n",
    "</div>"
   ]
  },
  {
   "cell_type": "markdown",
   "id": "f291fe31",
   "metadata": {},
   "source": [
    "<div align=\"center\">\n",
    "    <img src=\"attachments/model_selection_and_training_cv_test_sets_p5.png\" alt=\"Drawing\" style=\"width: 50%;\">\n",
    "</div>"
   ]
  },
  {
   "cell_type": "markdown",
   "id": "a0006e54",
   "metadata": {},
   "source": [
    "<div align=\"center\">\n",
    "    <img src=\"attachments/model_selection_and_training_cv_test_sets_p6.png\" alt=\"Drawing\" style=\"width: 50%;\">\n",
    "</div>"
   ]
  },
  {
   "cell_type": "markdown",
   "id": "874292a6",
   "metadata": {},
   "source": [
    "### Optional Lab: Model Evaluation and Selection"
   ]
  },
  {
   "cell_type": "markdown",
   "id": "9c56f5a3",
   "metadata": {},
   "source": []
  },
  {
   "cell_type": "markdown",
   "id": "63517724",
   "metadata": {},
   "source": [
    "## Practice quiz: Advice for applying machine learning"
   ]
  },
  {
   "cell_type": "markdown",
   "id": "68b6b557",
   "metadata": {},
   "source": []
  },
  {
   "cell_type": "markdown",
   "id": "c2b4cf88",
   "metadata": {},
   "source": [
    "## Bias and variance"
   ]
  },
  {
   "cell_type": "markdown",
   "id": "fe66c9ed",
   "metadata": {
    "ExecuteTime": {
     "end_time": "2023-04-30T00:39:11.269825Z",
     "start_time": "2023-04-30T00:39:11.255778Z"
    }
   },
   "source": [
    "### Diagnosing bias and variance"
   ]
  },
  {
   "cell_type": "markdown",
   "id": "3ab655f5",
   "metadata": {},
   "source": [
    "<div align=\"center\">\n",
    "    <img src=\"attachments/diagnosing_bias_and_variance_p1.png\" alt=\"Drawing\" style=\"width: 50%;\">\n",
    "</div>"
   ]
  },
  {
   "cell_type": "markdown",
   "id": "a63b75e4",
   "metadata": {},
   "source": [
    "<div align=\"center\">\n",
    "    <img src=\"attachments/diagnosing_bias_and_variance_p2.png\" alt=\"Drawing\" style=\"width: 40%;\">\n",
    "</div>"
   ]
  },
  {
   "cell_type": "markdown",
   "id": "83631e69",
   "metadata": {},
   "source": [
    "<div align=\"center\">\n",
    "    <img src=\"attachments/diagnosing_bias_and_variance_p3.png\" alt=\"Drawing\" style=\"width: 50%;\">\n",
    "</div>"
   ]
  },
  {
   "cell_type": "markdown",
   "id": "16166866",
   "metadata": {},
   "source": []
  },
  {
   "cell_type": "markdown",
   "id": "1ea840e9",
   "metadata": {
    "ExecuteTime": {
     "end_time": "2023-04-30T00:39:11.269825Z",
     "start_time": "2023-04-30T00:39:11.255778Z"
    }
   },
   "source": [
    "### Regularization and bias/variance"
   ]
  },
  {
   "cell_type": "markdown",
   "id": "29983425",
   "metadata": {},
   "source": [
    "<div align=\"center\">\n",
    "    <img src=\"attachments/regularization_and_bias_variance_p1.png\" alt=\"Drawing\" style=\"width: 50%;\">\n",
    "</div>"
   ]
  },
  {
   "cell_type": "code",
   "execution_count": null,
   "id": "304609b3",
   "metadata": {},
   "outputs": [],
   "source": []
  },
  {
   "cell_type": "markdown",
   "id": "4ca1ae61",
   "metadata": {},
   "source": [
    "<div align=\"center\">\n",
    "    <img src=\"attachments/regularization_and_bias_variance_p2.png\" alt=\"Drawing\" style=\"width: 50%;\">\n",
    "</div>"
   ]
  },
  {
   "cell_type": "markdown",
   "id": "7bfb5188",
   "metadata": {
    "ExecuteTime": {
     "end_time": "2023-04-30T00:39:11.269825Z",
     "start_time": "2023-04-30T00:39:11.255778Z"
    }
   },
   "source": []
  },
  {
   "cell_type": "markdown",
   "id": "3de1ab0b",
   "metadata": {},
   "source": []
  },
  {
   "cell_type": "markdown",
   "id": "9859c9d1",
   "metadata": {
    "ExecuteTime": {
     "end_time": "2023-04-30T02:37:52.194406Z",
     "start_time": "2023-04-30T02:37:52.180527Z"
    }
   },
   "source": [
    "<div align=\"center\">\n",
    "    <img src=\"attachments/regularization_and_bias_variance_p3.png\" alt=\"Drawing\" style=\"width: 50%;\">\n",
    "</div>"
   ]
  },
  {
   "cell_type": "code",
   "execution_count": null,
   "id": "3e6a33ea",
   "metadata": {},
   "outputs": [],
   "source": []
  },
  {
   "cell_type": "markdown",
   "id": "b49c6d3b",
   "metadata": {
    "ExecuteTime": {
     "end_time": "2023-04-30T00:39:11.269825Z",
     "start_time": "2023-04-30T00:39:11.255778Z"
    }
   },
   "source": [
    "### Establishing a baseline level of performance"
   ]
  },
  {
   "cell_type": "markdown",
   "id": "be8d5a7a",
   "metadata": {
    "ExecuteTime": {
     "end_time": "2023-04-30T02:37:52.194406Z",
     "start_time": "2023-04-30T02:37:52.180527Z"
    }
   },
   "source": [
    "<div align=\"center\">\n",
    "    <img src=\"attachments/establishing_baseline_level_of_performance_p1.png\" alt=\"Drawing\" style=\"width: 50%;\">\n",
    "</div>"
   ]
  },
  {
   "cell_type": "markdown",
   "id": "488f3c2d",
   "metadata": {
    "ExecuteTime": {
     "end_time": "2023-04-30T00:39:11.269825Z",
     "start_time": "2023-04-30T00:39:11.255778Z"
    }
   },
   "source": []
  },
  {
   "cell_type": "markdown",
   "id": "18dd0efa",
   "metadata": {
    "ExecuteTime": {
     "end_time": "2023-04-30T02:37:52.194406Z",
     "start_time": "2023-04-30T02:37:52.180527Z"
    }
   },
   "source": [
    "<div align=\"center\">\n",
    "    <img src=\"attachments/establishing_baseline_level_of_performance_p2.png\" alt=\"Drawing\" style=\"width: 50%;\">\n",
    "</div>"
   ]
  },
  {
   "cell_type": "markdown",
   "id": "14a7282b",
   "metadata": {},
   "source": []
  },
  {
   "cell_type": "markdown",
   "id": "fb70879c",
   "metadata": {
    "ExecuteTime": {
     "end_time": "2023-04-30T02:37:52.194406Z",
     "start_time": "2023-04-30T02:37:52.180527Z"
    }
   },
   "source": [
    "<div align=\"center\">\n",
    "    <img src=\"attachments/establishing_baseline_level_of_performance_p3.png\" alt=\"Drawing\" style=\"width: 50%;\">\n",
    "</div>"
   ]
  },
  {
   "cell_type": "markdown",
   "id": "5b85f160",
   "metadata": {},
   "source": []
  },
  {
   "cell_type": "markdown",
   "id": "d33d6bf9",
   "metadata": {
    "ExecuteTime": {
     "end_time": "2023-04-30T00:39:11.269825Z",
     "start_time": "2023-04-30T00:39:11.255778Z"
    }
   },
   "source": [
    "### Learning curves"
   ]
  },
  {
   "cell_type": "markdown",
   "id": "7f67d40b",
   "metadata": {
    "ExecuteTime": {
     "end_time": "2023-04-30T02:37:52.194406Z",
     "start_time": "2023-04-30T02:37:52.180527Z"
    }
   },
   "source": [
    "<div align=\"center\">\n",
    "    <img src=\"attachments/learning_curves_p1.png\" alt=\"Drawing\" style=\"width: 50%;\">\n",
    "</div>"
   ]
  },
  {
   "cell_type": "markdown",
   "id": "db6191ea",
   "metadata": {
    "ExecuteTime": {
     "end_time": "2023-04-30T02:37:52.194406Z",
     "start_time": "2023-04-30T02:37:52.180527Z"
    }
   },
   "source": [
    "<div align=\"center\">\n",
    "    <img src=\"attachments/learning_curves_p2.png\" alt=\"Drawing\" style=\"width: 50%;\">\n",
    "</div>"
   ]
  },
  {
   "cell_type": "markdown",
   "id": "946356a7",
   "metadata": {},
   "source": []
  },
  {
   "cell_type": "markdown",
   "id": "5af0f92d",
   "metadata": {
    "ExecuteTime": {
     "end_time": "2023-04-30T02:37:52.194406Z",
     "start_time": "2023-04-30T02:37:52.180527Z"
    }
   },
   "source": [
    "<div align=\"center\">\n",
    "    <img src=\"attachments/learning_curves_p3.png\" alt=\"Drawing\" style=\"width: 50%;\">\n",
    "</div>"
   ]
  },
  {
   "cell_type": "markdown",
   "id": "f3c5a2ce",
   "metadata": {
    "ExecuteTime": {
     "end_time": "2023-04-30T00:39:11.269825Z",
     "start_time": "2023-04-30T00:39:11.255778Z"
    }
   },
   "source": []
  },
  {
   "cell_type": "markdown",
   "id": "2828b9f1",
   "metadata": {
    "ExecuteTime": {
     "end_time": "2023-04-30T00:39:11.269825Z",
     "start_time": "2023-04-30T00:39:11.255778Z"
    }
   },
   "source": [
    "### Deciding what to try next revisited"
   ]
  },
  {
   "cell_type": "markdown",
   "id": "7d3edb9d",
   "metadata": {
    "ExecuteTime": {
     "end_time": "2023-04-30T02:37:52.194406Z",
     "start_time": "2023-04-30T02:37:52.180527Z"
    }
   },
   "source": [
    "<div align=\"center\">\n",
    "    <img src=\"attachments/deciding_what_to_try_next_p1.png\" alt=\"Drawing\" style=\"width: 50%;\">\n",
    "</div>"
   ]
  },
  {
   "cell_type": "code",
   "execution_count": null,
   "id": "57c02e16",
   "metadata": {},
   "outputs": [],
   "source": []
  },
  {
   "cell_type": "markdown",
   "id": "b9c489e3",
   "metadata": {
    "ExecuteTime": {
     "end_time": "2023-04-30T00:39:11.269825Z",
     "start_time": "2023-04-30T00:39:11.255778Z"
    }
   },
   "source": []
  },
  {
   "cell_type": "markdown",
   "id": "6f731a64",
   "metadata": {
    "ExecuteTime": {
     "end_time": "2023-04-30T00:39:11.269825Z",
     "start_time": "2023-04-30T00:39:11.255778Z"
    }
   },
   "source": [
    "### Bias/variance and neural networks"
   ]
  },
  {
   "cell_type": "markdown",
   "id": "16823aca",
   "metadata": {
    "ExecuteTime": {
     "end_time": "2023-04-30T02:37:52.194406Z",
     "start_time": "2023-04-30T02:37:52.180527Z"
    }
   },
   "source": [
    "<div align=\"center\">\n",
    "    <img src=\"attachments/bias_variance_and_NNs_p1.png\" alt=\"Drawing\" style=\"width: 50%;\">\n",
    "</div>"
   ]
  },
  {
   "cell_type": "code",
   "execution_count": null,
   "id": "5004ab2a",
   "metadata": {},
   "outputs": [],
   "source": []
  },
  {
   "cell_type": "markdown",
   "id": "64f2d94f",
   "metadata": {
    "ExecuteTime": {
     "end_time": "2023-04-30T00:39:11.269825Z",
     "start_time": "2023-04-30T00:39:11.255778Z"
    }
   },
   "source": [
    "<div align=\"center\">\n",
    "    <img src=\"attachments/bias_variance_and_NNs_p2.png\" alt=\"Drawing\" style=\"width: 50%;\">\n",
    "</div>"
   ]
  },
  {
   "cell_type": "markdown",
   "id": "b2b1959e",
   "metadata": {
    "ExecuteTime": {
     "end_time": "2023-04-30T00:39:11.269825Z",
     "start_time": "2023-04-30T00:39:11.255778Z"
    }
   },
   "source": [
    "<div align=\"center\">\n",
    "    <img src=\"attachments/bias_variance_and_NNs_p3.png\" alt=\"Drawing\" style=\"width: 50%;\">\n",
    "</div>"
   ]
  },
  {
   "cell_type": "markdown",
   "id": "7968d436",
   "metadata": {
    "ExecuteTime": {
     "end_time": "2023-04-30T00:39:11.269825Z",
     "start_time": "2023-04-30T00:39:11.255778Z"
    }
   },
   "source": [
    "<div align=\"center\">\n",
    "    <img src=\"attachments/bias_variance_and_NNs_p4.png\" alt=\"Drawing\" style=\"width: 60%;\">\n",
    "</div>"
   ]
  },
  {
   "cell_type": "markdown",
   "id": "5f6e0852",
   "metadata": {
    "ExecuteTime": {
     "end_time": "2023-04-30T00:39:11.269825Z",
     "start_time": "2023-04-30T00:39:11.255778Z"
    }
   },
   "source": []
  },
  {
   "cell_type": "markdown",
   "id": "a9256226",
   "metadata": {
    "ExecuteTime": {
     "end_time": "2023-04-30T00:39:11.269825Z",
     "start_time": "2023-04-30T00:39:11.255778Z"
    }
   },
   "source": [
    "### Optional Lab: Diagnosing Bias and Variance"
   ]
  },
  {
   "cell_type": "markdown",
   "id": "00b38c01",
   "metadata": {
    "ExecuteTime": {
     "end_time": "2023-04-30T00:39:11.269825Z",
     "start_time": "2023-04-30T00:39:11.255778Z"
    }
   },
   "source": []
  },
  {
   "cell_type": "markdown",
   "id": "8dadbf1d",
   "metadata": {
    "ExecuteTime": {
     "end_time": "2023-04-30T00:39:11.269825Z",
     "start_time": "2023-04-30T00:39:11.255778Z"
    }
   },
   "source": [
    "## Practice quiz: Bias and variance"
   ]
  },
  {
   "cell_type": "markdown",
   "id": "b9431567",
   "metadata": {
    "ExecuteTime": {
     "end_time": "2023-04-30T00:39:11.269825Z",
     "start_time": "2023-04-30T00:39:11.255778Z"
    }
   },
   "source": []
  },
  {
   "cell_type": "markdown",
   "id": "6eda949f",
   "metadata": {
    "ExecuteTime": {
     "end_time": "2023-04-30T00:39:11.269825Z",
     "start_time": "2023-04-30T00:39:11.255778Z"
    }
   },
   "source": [
    "## Machine learning development process"
   ]
  },
  {
   "cell_type": "markdown",
   "id": "eae704a3",
   "metadata": {
    "ExecuteTime": {
     "end_time": "2023-04-30T00:39:11.269825Z",
     "start_time": "2023-04-30T00:39:11.255778Z"
    }
   },
   "source": [
    "### Iterative loop of ML development"
   ]
  },
  {
   "cell_type": "markdown",
   "id": "a20884ad",
   "metadata": {},
   "source": [
    "<div align=\"center\">\n",
    "    <img src=\"attachments/iterative_loop_of_ML_development_p1.png\" alt=\"Drawing\" style=\"width: 50%;\">\n",
    "</div>"
   ]
  },
  {
   "cell_type": "markdown",
   "id": "420dc09e",
   "metadata": {
    "ExecuteTime": {
     "end_time": "2023-04-30T00:39:11.269825Z",
     "start_time": "2023-04-30T00:39:11.255778Z"
    }
   },
   "source": [
    "<div align=\"center\">\n",
    "    <img src=\"attachments/iterative_loop_of_ML_development_p2.png\" alt=\"Drawing\" style=\"width: 50%;\">\n",
    "</div>"
   ]
  },
  {
   "cell_type": "markdown",
   "id": "21126a8c",
   "metadata": {
    "ExecuteTime": {
     "end_time": "2023-04-30T00:39:11.269825Z",
     "start_time": "2023-04-30T00:39:11.255778Z"
    }
   },
   "source": [
    "<div align=\"center\">\n",
    "    <img src=\"attachments/iterative_loop_of_ML_development_p3.png\" alt=\"Drawing\" style=\"width: 50%;\">\n",
    "</div>"
   ]
  },
  {
   "cell_type": "markdown",
   "id": "136a8eef",
   "metadata": {
    "ExecuteTime": {
     "end_time": "2023-04-30T00:39:11.269825Z",
     "start_time": "2023-04-30T00:39:11.255778Z"
    }
   },
   "source": [
    "<div align=\"center\">\n",
    "    <img src=\"attachments/iterative_loop_of_ML_development_p4.png\" alt=\"Drawing\" style=\"width: 50%;\">\n",
    "</div>"
   ]
  },
  {
   "cell_type": "markdown",
   "id": "57c2f221",
   "metadata": {
    "ExecuteTime": {
     "end_time": "2023-04-30T00:39:11.269825Z",
     "start_time": "2023-04-30T00:39:11.255778Z"
    }
   },
   "source": []
  },
  {
   "cell_type": "markdown",
   "id": "e8da4737",
   "metadata": {
    "ExecuteTime": {
     "end_time": "2023-04-30T00:39:11.269825Z",
     "start_time": "2023-04-30T00:39:11.255778Z"
    }
   },
   "source": [
    "### Error analysis"
   ]
  },
  {
   "cell_type": "markdown",
   "id": "6f2564be",
   "metadata": {
    "ExecuteTime": {
     "end_time": "2023-04-30T00:39:11.269825Z",
     "start_time": "2023-04-30T00:39:11.255778Z"
    }
   },
   "source": [
    "<div align=\"center\">\n",
    "    <img src=\"attachments/error_analysis_p1b.png\" alt=\"Drawing\" style=\"width: 50%;\">\n",
    "</div>"
   ]
  },
  {
   "cell_type": "markdown",
   "id": "26f99e73",
   "metadata": {
    "ExecuteTime": {
     "end_time": "2023-04-30T00:39:11.269825Z",
     "start_time": "2023-04-30T00:39:11.255778Z"
    }
   },
   "source": [
    "<div align=\"center\">\n",
    "    <img src=\"attachments/error_analysis_p2.png\" alt=\"Drawing\" style=\"width: 50%;\">\n",
    "</div>"
   ]
  },
  {
   "cell_type": "markdown",
   "id": "a9444096",
   "metadata": {
    "ExecuteTime": {
     "end_time": "2023-04-30T00:39:11.269825Z",
     "start_time": "2023-04-30T00:39:11.255778Z"
    }
   },
   "source": [
    "### Adding data"
   ]
  },
  {
   "cell_type": "markdown",
   "id": "0ae24143",
   "metadata": {
    "ExecuteTime": {
     "end_time": "2023-04-30T00:39:11.269825Z",
     "start_time": "2023-04-30T00:39:11.255778Z"
    }
   },
   "source": [
    "<div align=\"center\">\n",
    "    <img src=\"attachments/adding_data_p1.png\" alt=\"Drawing\" style=\"width: 40%;\">\n",
    "</div>"
   ]
  },
  {
   "cell_type": "markdown",
   "id": "53719ced",
   "metadata": {
    "ExecuteTime": {
     "end_time": "2023-04-30T00:39:11.269825Z",
     "start_time": "2023-04-30T00:39:11.255778Z"
    }
   },
   "source": [
    "<div align=\"center\">\n",
    "    <img src=\"attachments/adding_data_p2.png\" alt=\"Drawing\" style=\"width: 40%;\">\n",
    "</div>"
   ]
  },
  {
   "cell_type": "markdown",
   "id": "b0eea6ec",
   "metadata": {
    "ExecuteTime": {
     "end_time": "2023-04-30T00:39:11.269825Z",
     "start_time": "2023-04-30T00:39:11.255778Z"
    }
   },
   "source": [
    "<div align=\"center\">\n",
    "    <img src=\"attachments/adding_data_p3.png\" alt=\"Drawing\" style=\"width: 40%;\">\n",
    "</div>"
   ]
  },
  {
   "cell_type": "markdown",
   "id": "3c838380",
   "metadata": {
    "ExecuteTime": {
     "end_time": "2023-04-30T00:39:11.269825Z",
     "start_time": "2023-04-30T00:39:11.255778Z"
    }
   },
   "source": [
    "<div align=\"center\">\n",
    "    <img src=\"attachments/adding_data_p4.png\" alt=\"Drawing\" style=\"width: 45%;\">\n",
    "</div>"
   ]
  },
  {
   "cell_type": "markdown",
   "id": "8414a775",
   "metadata": {
    "ExecuteTime": {
     "end_time": "2023-04-30T00:39:11.269825Z",
     "start_time": "2023-04-30T00:39:11.255778Z"
    }
   },
   "source": [
    "<div align=\"center\">\n",
    "    <img src=\"attachments/adding_data_p5.png\" alt=\"Drawing\" style=\"width: 45%;\">\n",
    "</div>"
   ]
  },
  {
   "cell_type": "markdown",
   "id": "5e93b7b9",
   "metadata": {
    "ExecuteTime": {
     "end_time": "2023-04-30T00:39:11.269825Z",
     "start_time": "2023-04-30T00:39:11.255778Z"
    }
   },
   "source": [
    "<div align=\"center\">\n",
    "    <img src=\"attachments/adding_data_p6.png\" alt=\"Drawing\" style=\"width: 45%;\">\n",
    "</div>"
   ]
  },
  {
   "cell_type": "markdown",
   "id": "3eccbf6e",
   "metadata": {
    "ExecuteTime": {
     "end_time": "2023-04-30T00:39:11.269825Z",
     "start_time": "2023-04-30T00:39:11.255778Z"
    }
   },
   "source": [
    "<div align=\"center\">\n",
    "    <img src=\"attachments/adding_data_p7.png\" alt=\"Drawing\" style=\"width: 45%;\">\n",
    "</div>"
   ]
  },
  {
   "cell_type": "markdown",
   "id": "3bf20062",
   "metadata": {
    "ExecuteTime": {
     "end_time": "2023-04-30T00:39:11.269825Z",
     "start_time": "2023-04-30T00:39:11.255778Z"
    }
   },
   "source": [
    "<div align=\"center\">\n",
    "    <img src=\"attachments/adding_data_p8.png\" alt=\"Drawing\" style=\"width: 45%;\">\n",
    "</div>"
   ]
  },
  {
   "cell_type": "markdown",
   "id": "81a8545e",
   "metadata": {
    "ExecuteTime": {
     "end_time": "2023-04-30T00:39:11.269825Z",
     "start_time": "2023-04-30T00:39:11.255778Z"
    }
   },
   "source": [
    "<div align=\"center\">\n",
    "    <img src=\"attachments/adding_data_p9.png\" alt=\"Drawing\" style=\"width: 45%;\">\n",
    "</div>"
   ]
  },
  {
   "cell_type": "markdown",
   "id": "dd1f4350",
   "metadata": {
    "ExecuteTime": {
     "end_time": "2023-04-30T00:39:11.269825Z",
     "start_time": "2023-04-30T00:39:11.255778Z"
    }
   },
   "source": [
    "<div align=\"center\">\n",
    "    <img src=\"attachments/adding_data_p10.png\" alt=\"Drawing\" style=\"width: 45%;\">\n",
    "</div>"
   ]
  },
  {
   "cell_type": "markdown",
   "id": "1f812177",
   "metadata": {
    "ExecuteTime": {
     "end_time": "2023-04-30T00:39:11.269825Z",
     "start_time": "2023-04-30T00:39:11.255778Z"
    }
   },
   "source": []
  },
  {
   "cell_type": "markdown",
   "id": "433eff45",
   "metadata": {
    "ExecuteTime": {
     "end_time": "2023-04-30T00:39:11.269825Z",
     "start_time": "2023-04-30T00:39:11.255778Z"
    }
   },
   "source": [
    "### Transfer learning: using data from a different task"
   ]
  },
  {
   "cell_type": "markdown",
   "id": "c30c1531",
   "metadata": {
    "ExecuteTime": {
     "end_time": "2023-04-30T00:39:11.269825Z",
     "start_time": "2023-04-30T00:39:11.255778Z"
    }
   },
   "source": []
  },
  {
   "cell_type": "markdown",
   "id": "360dd931",
   "metadata": {
    "ExecuteTime": {
     "end_time": "2023-04-30T00:39:11.269825Z",
     "start_time": "2023-04-30T00:39:11.255778Z"
    }
   },
   "source": [
    "<div align=\"center\">\n",
    "    <img src=\"attachments/transfer_learning_p1.png\" alt=\"Drawing\" style=\"width: 55%;\">\n",
    "</div>"
   ]
  },
  {
   "cell_type": "markdown",
   "id": "c1818477",
   "metadata": {
    "ExecuteTime": {
     "end_time": "2023-04-30T02:55:30.896029Z",
     "start_time": "2023-04-30T02:55:30.886696Z"
    }
   },
   "source": [
    "<div align=\"center\">\n",
    "    <img src=\"attachments/transfer_learning_p2.png\" alt=\"Drawing\" style=\"width: 55%;\">\n",
    "</div>"
   ]
  },
  {
   "cell_type": "markdown",
   "id": "6d9aa70d",
   "metadata": {
    "ExecuteTime": {
     "end_time": "2023-04-30T02:55:30.896029Z",
     "start_time": "2023-04-30T02:55:30.886696Z"
    }
   },
   "source": [
    "<div align=\"center\">\n",
    "    <img src=\"attachments/transfer_learning_p3.png\" alt=\"Drawing\" style=\"width: 45%;\">\n",
    "</div>"
   ]
  },
  {
   "cell_type": "markdown",
   "id": "8179d5d8",
   "metadata": {
    "ExecuteTime": {
     "end_time": "2023-04-30T00:39:11.269825Z",
     "start_time": "2023-04-30T00:39:11.255778Z"
    }
   },
   "source": [
    "### Full cycle of a machine learning project"
   ]
  },
  {
   "cell_type": "markdown",
   "id": "15c9a0d7",
   "metadata": {},
   "source": [
    "<div align=\"center\">\n",
    "    <img src=\"attachments/full_cycle_of_ML_project_p1.png\" alt=\"Drawing\" style=\"width: 55%;\">\n",
    "</div>"
   ]
  },
  {
   "cell_type": "markdown",
   "id": "51f7974e",
   "metadata": {
    "ExecuteTime": {
     "end_time": "2023-04-30T00:39:11.269825Z",
     "start_time": "2023-04-30T00:39:11.255778Z"
    }
   },
   "source": []
  },
  {
   "cell_type": "markdown",
   "id": "49d697c5",
   "metadata": {
    "ExecuteTime": {
     "end_time": "2023-04-30T02:55:30.896029Z",
     "start_time": "2023-04-30T02:55:30.886696Z"
    }
   },
   "source": [
    "<div align=\"center\">\n",
    "    <img src=\"attachments/full_cycle_of_ML_project_p2.png\" alt=\"Drawing\" style=\"width: 55%;\">\n",
    "</div>"
   ]
  },
  {
   "cell_type": "markdown",
   "id": "486dc7c6",
   "metadata": {
    "ExecuteTime": {
     "end_time": "2023-04-30T00:39:11.269825Z",
     "start_time": "2023-04-30T00:39:11.255778Z"
    }
   },
   "source": [
    "### Fairness, bias, and ethics"
   ]
  },
  {
   "cell_type": "markdown",
   "id": "abd3bdae",
   "metadata": {},
   "source": [
    "<div align=\"center\">\n",
    "    <img src=\"attachments/fairness_bias_ethics_p1.png\" alt=\"Drawing\" style=\"width: 40%;\">\n",
    "</div>"
   ]
  },
  {
   "cell_type": "markdown",
   "id": "9215c2eb",
   "metadata": {
    "ExecuteTime": {
     "end_time": "2023-04-30T00:39:11.269825Z",
     "start_time": "2023-04-30T00:39:11.255778Z"
    }
   },
   "source": []
  },
  {
   "cell_type": "markdown",
   "id": "16f171eb",
   "metadata": {
    "ExecuteTime": {
     "end_time": "2023-04-30T02:55:30.896029Z",
     "start_time": "2023-04-30T02:55:30.886696Z"
    }
   },
   "source": [
    "<div align=\"center\">\n",
    "    <img src=\"attachments/fairness_bias_ethics_p2.png\" alt=\"Drawing\" style=\"width: 50%;\">\n",
    "</div>"
   ]
  },
  {
   "cell_type": "markdown",
   "id": "d8d15ed8",
   "metadata": {
    "ExecuteTime": {
     "end_time": "2023-04-30T02:55:30.896029Z",
     "start_time": "2023-04-30T02:55:30.886696Z"
    }
   },
   "source": [
    "<div align=\"center\">\n",
    "    <img src=\"attachments/fairness_bias_ethics_p3.png\" alt=\"Drawing\" style=\"width: 50%;\">\n",
    "</div>"
   ]
  },
  {
   "cell_type": "markdown",
   "id": "ff0fde7d",
   "metadata": {
    "ExecuteTime": {
     "end_time": "2023-04-30T00:39:11.269825Z",
     "start_time": "2023-04-30T00:39:11.255778Z"
    }
   },
   "source": [
    "### Practice quiz: Machine learning development process"
   ]
  },
  {
   "cell_type": "markdown",
   "id": "438ad193",
   "metadata": {
    "ExecuteTime": {
     "end_time": "2023-04-30T00:39:11.269825Z",
     "start_time": "2023-04-30T00:39:11.255778Z"
    }
   },
   "source": []
  },
  {
   "cell_type": "markdown",
   "id": "aa1fa7a0",
   "metadata": {
    "ExecuteTime": {
     "end_time": "2023-04-30T00:39:11.269825Z",
     "start_time": "2023-04-30T00:39:11.255778Z"
    }
   },
   "source": [
    "## Skewed datasets (optional)"
   ]
  },
  {
   "cell_type": "markdown",
   "id": "f77cc353",
   "metadata": {
    "ExecuteTime": {
     "end_time": "2023-04-30T00:39:11.269825Z",
     "start_time": "2023-04-30T00:39:11.255778Z"
    }
   },
   "source": [
    "### Error metrics for skewed datasets"
   ]
  },
  {
   "cell_type": "markdown",
   "id": "89a57d09",
   "metadata": {},
   "source": [
    "<div align=\"center\">\n",
    "    <img src=\"attachments/error_metrics_for_skewed_datasets_p1.png\" alt=\"Drawing\" style=\"width: 50%;\">\n",
    "</div>"
   ]
  },
  {
   "cell_type": "markdown",
   "id": "e4b904dd",
   "metadata": {
    "ExecuteTime": {
     "end_time": "2023-04-30T02:55:30.896029Z",
     "start_time": "2023-04-30T02:55:30.886696Z"
    }
   },
   "source": [
    "<div align=\"center\">\n",
    "    <img src=\"attachments/error_metrics_for_skewed_datasets_p2.png\" alt=\"Drawing\" style=\"width: 60%;\">\n",
    "</div>"
   ]
  },
  {
   "cell_type": "markdown",
   "id": "70f64db5",
   "metadata": {
    "ExecuteTime": {
     "end_time": "2023-04-30T00:39:11.269825Z",
     "start_time": "2023-04-30T00:39:11.255778Z"
    }
   },
   "source": [
    "### Trading off precision and recall "
   ]
  },
  {
   "cell_type": "markdown",
   "id": "f66fcc6e",
   "metadata": {},
   "source": []
  },
  {
   "cell_type": "markdown",
   "id": "c70f4de4",
   "metadata": {
    "ExecuteTime": {
     "end_time": "2023-04-30T02:55:30.896029Z",
     "start_time": "2023-04-30T02:55:30.886696Z"
    }
   },
   "source": [
    "<div align=\"center\">\n",
    "    <img src=\"attachments/trading_off_precision_and_recall_p1.png\" alt=\"Drawing\" style=\"width: 60%;\">\n",
    "</div>"
   ]
  },
  {
   "cell_type": "markdown",
   "id": "40e185a1",
   "metadata": {
    "ExecuteTime": {
     "end_time": "2023-04-30T02:55:30.896029Z",
     "start_time": "2023-04-30T02:55:30.886696Z"
    }
   },
   "source": [
    "<div align=\"center\">\n",
    "    <img src=\"attachments/trading_off_precision_and_recall_p2.png\" alt=\"Drawing\" style=\"width: 60%;\">\n",
    "</div>"
   ]
  },
  {
   "cell_type": "markdown",
   "id": "de0398e4",
   "metadata": {
    "ExecuteTime": {
     "end_time": "2023-04-30T00:39:11.269825Z",
     "start_time": "2023-04-30T00:39:11.255778Z"
    }
   },
   "source": []
  },
  {
   "cell_type": "markdown",
   "id": "88d80a53",
   "metadata": {
    "ExecuteTime": {
     "end_time": "2023-04-30T00:39:11.269825Z",
     "start_time": "2023-04-30T00:39:11.255778Z"
    }
   },
   "source": [
    "## Practice Lab: Advise for applying machine learning"
   ]
  },
  {
   "cell_type": "markdown",
   "id": "816aa57e",
   "metadata": {
    "ExecuteTime": {
     "end_time": "2023-04-30T00:39:11.269825Z",
     "start_time": "2023-04-30T00:39:11.255778Z"
    }
   },
   "source": []
  },
  {
   "cell_type": "markdown",
   "id": "70cc3ddd",
   "metadata": {},
   "source": [
    "## Miscellaneous"
   ]
  },
  {
   "cell_type": "code",
   "execution_count": 1,
   "id": "01738c11",
   "metadata": {
    "ExecuteTime": {
     "end_time": "2023-04-30T00:39:11.269825Z",
     "start_time": "2023-04-30T00:39:11.255778Z"
    }
   },
   "outputs": [],
   "source": [
    "# Kernel crashes half-way through. Found issue by running the codes in python command line \n",
    "# https://stackoverflow.com/questions/20554074/sklearn-omp-error-15-initializing-libiomp5md-dll-but-found-mk2iomp5md-dll-a\n",
    "import os\n",
    "os.environ[\"KMP_DUPLICATE_LIB_OK\"]=\"TRUE\""
   ]
  },
  {
   "cell_type": "code",
   "execution_count": null,
   "id": "baf80dcc",
   "metadata": {},
   "outputs": [],
   "source": []
  }
 ],
 "metadata": {
  "kernelspec": {
   "display_name": "Python [conda env:ga]",
   "language": "python",
   "name": "conda-env-ga-py"
  },
  "language_info": {
   "codemirror_mode": {
    "name": "ipython",
    "version": 3
   },
   "file_extension": ".py",
   "mimetype": "text/x-python",
   "name": "python",
   "nbconvert_exporter": "python",
   "pygments_lexer": "ipython3",
   "version": "3.9.16"
  },
  "toc": {
   "base_numbering": 1,
   "nav_menu": {},
   "number_sections": true,
   "sideBar": true,
   "skip_h1_title": false,
   "title_cell": "Table of Contents",
   "title_sidebar": "Contents",
   "toc_cell": true,
   "toc_position": {
    "height": "calc(100% - 180px)",
    "left": "10px",
    "top": "150px",
    "width": "384px"
   },
   "toc_section_display": true,
   "toc_window_display": true
  }
 },
 "nbformat": 4,
 "nbformat_minor": 5
}
