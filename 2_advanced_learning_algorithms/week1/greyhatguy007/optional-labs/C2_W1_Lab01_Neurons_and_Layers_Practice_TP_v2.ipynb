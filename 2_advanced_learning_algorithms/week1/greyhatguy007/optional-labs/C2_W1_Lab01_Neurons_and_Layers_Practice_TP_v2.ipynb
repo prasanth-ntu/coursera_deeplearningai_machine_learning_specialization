{
 "cells": [
  {
   "cell_type": "code",
   "execution_count": 1,
   "id": "684b7992",
   "metadata": {
    "ExecuteTime": {
     "end_time": "2023-04-18T00:00:55.854818Z",
     "start_time": "2023-04-18T00:00:55.841513Z"
    }
   },
   "outputs": [],
   "source": [
    "import os\n",
    "os.environ[\"KMP_DUPLICATE_LIB_OK\"]=\"TRUE\""
   ]
  },
  {
   "cell_type": "code",
   "execution_count": 7,
   "id": "87e18a5b",
   "metadata": {
    "ExecuteTime": {
     "end_time": "2023-04-18T00:05:29.189776Z",
     "start_time": "2023-04-18T00:05:29.172105Z"
    }
   },
   "outputs": [],
   "source": [
    "import pandas as pd\n",
    "import numpy as np\n",
    "import matplotlib.pyplot as plt\n",
    "import tensorflow as tf\n",
    "from tensorflow.keras.layers import Dense, Input\n",
    "from tensorflow.keras import Sequential\n",
    "from tensorflow.keras.losses import MeanSquaredError, BinaryCrossentropy\n",
    "from tensorflow.keras.activations import sigmoid\n",
    "import logging\n",
    "logging.getLogger('tensorflow').setLevel(logging.INFO)\n",
    "tf.autograph.set_verbosity(0)"
   ]
  },
  {
   "cell_type": "markdown",
   "id": "5d2fc1b9",
   "metadata": {},
   "source": [
    "## Neuron without activation - Regression/Linear Model"
   ]
  },
  {
   "cell_type": "markdown",
   "id": "388052d1",
   "metadata": {},
   "source": [
    "### Dataset"
   ]
  },
  {
   "cell_type": "code",
   "execution_count": 28,
   "id": "f0dfed5f",
   "metadata": {
    "ExecuteTime": {
     "end_time": "2023-04-18T00:11:58.996118Z",
     "start_time": "2023-04-18T00:11:58.851507Z"
    },
    "scrolled": false
   },
   "outputs": [
    {
     "name": "stdout",
     "output_type": "stream",
     "text": [
      "(2, 1) (2, 1)\n"
     ]
    },
    {
     "data": {
      "image/png": "[encoded data removed]",
      "text/plain": [
       "<Figure size 600x300 with 1 Axes>"
      ]
     },
     "metadata": {},
     "output_type": "display_data"
    }
   ],
   "source": [
    "X_train = np.array([[1],[2]], dtype=np.float32)\n",
    "Y_train = np.array([[300], [500]], dtype=np.float32)\n",
    "print (X_train.shape, Y_train.shape)\n",
    "\n",
    "fig,ax=plt.subplots(figsize=(6,3))\n",
    "ax.scatter(x=X_train, y=Y_train, marker='x', s=55, color='r')\n",
    "ax.set_xlabel('Size (1000 sq ft)', fontsize='large')\n",
    "ax.set_ylabel('Price (in $1000)', fontsize='large')\n",
    "ax.legend(['Data Points'], fontsize='large');"
   ]
  },
  {
   "cell_type": "markdown",
   "id": "b07dff80",
   "metadata": {},
   "source": [
    "### Regression/Linear model"
   ]
  },
  {
   "cell_type": "markdown",
   "id": "87437c05",
   "metadata": {},
   "source": [
    "The function implemented by a neuron with no activation is the same as in Course 1, linear regression:\n",
    "$$ f_{\\mathbf{w},b}(x^{(i)}) = \\mathbf{w}\\cdot x^{(i)} + b \\tag{1}$$\n",
    "\n",
    "Let's define a layer with one neuron and no activation using `tf.keras`."
   ]
  },
  {
   "cell_type": "code",
   "execution_count": 37,
   "id": "6c6c727f",
   "metadata": {
    "ExecuteTime": {
     "end_time": "2023-04-18T00:14:54.083670Z",
     "start_time": "2023-04-18T00:14:54.071579Z"
    }
   },
   "outputs": [],
   "source": [
    "linear_layer = tf.keras.layers.Dense(units=1, activation='linear', )"
   ]
  },
  {
   "cell_type": "markdown",
   "id": "30779cd7",
   "metadata": {},
   "source": [
    "There will be no weights as they are not instantiated yet."
   ]
  },
  {
   "cell_type": "code",
   "execution_count": 38,
   "id": "bae160ed",
   "metadata": {
    "ExecuteTime": {
     "end_time": "2023-04-18T00:14:54.249980Z",
     "start_time": "2023-04-18T00:14:54.236620Z"
    }
   },
   "outputs": [
    {
     "data": {
      "text/plain": [
       "[]"
      ]
     },
     "execution_count": 38,
     "metadata": {},
     "output_type": "execute_result"
    }
   ],
   "source": [
    "linear_layer.get_weights() "
   ]
  },
  {
   "cell_type": "markdown",
   "id": "471b8762",
   "metadata": {},
   "source": [
    "Passing the data will trigger random instantiation of $w$ and $b$. Specifically, weights are randomly initialized to small numbers and the bias defaults to being initialized to zero."
   ]
  },
  {
   "cell_type": "code",
   "execution_count": 100,
   "id": "0091c3af",
   "metadata": {
    "ExecuteTime": {
     "end_time": "2023-04-18T00:35:15.382596Z",
     "start_time": "2023-04-18T00:35:15.366905Z"
    }
   },
   "outputs": [
    {
     "name": "stdout",
     "output_type": "stream",
     "text": [
      "tf.Tensor([[100.]], shape=(1, 1), dtype=float32)\n"
     ]
    }
   ],
   "source": [
    "a1 = linear_layer(X_train[0].reshape(1,1))\n",
    "print (a1)"
   ]
  },
  {
   "cell_type": "code",
   "execution_count": 101,
   "id": "a94fdc3c",
   "metadata": {
    "ExecuteTime": {
     "end_time": "2023-04-18T00:35:15.546282Z",
     "start_time": "2023-04-18T00:35:15.523741Z"
    }
   },
   "outputs": [
    {
     "name": "stdout",
     "output_type": "stream",
     "text": [
      "[[200.]] [100.]\n"
     ]
    }
   ],
   "source": [
    "w,b = linear_layer.get_weights()\n",
    "print (w,b)"
   ]
  },
  {
   "cell_type": "markdown",
   "id": "5b2e1e39",
   "metadata": {},
   "source": [
    "Now, let's set the $w$ and $b$ using `.set_weights()` method"
   ]
  },
  {
   "cell_type": "code",
   "execution_count": 46,
   "id": "586ed3fb",
   "metadata": {
    "ExecuteTime": {
     "end_time": "2023-04-18T00:17:12.517801Z",
     "start_time": "2023-04-18T00:17:12.502892Z"
    }
   },
   "outputs": [
    {
     "name": "stdout",
     "output_type": "stream",
     "text": [
      "(1, 1) (1,)\n",
      "[array([[200.]], dtype=float32), array([100.], dtype=float32)]\n"
     ]
    }
   ],
   "source": [
    "set_w = np.array([[200]]) # (1,1)\n",
    "set_b = np.array([100])   # (1,)\n",
    "print (set_w.shape, set_b.shape)\n",
    "\n",
    "linear_layer.set_weights([set_w, set_b])\n",
    "print (linear_layer.get_weights())"
   ]
  },
  {
   "cell_type": "markdown",
   "id": "bf082fa7",
   "metadata": {},
   "source": [
    "Let's pass the input to model, and get the predicted output."
   ]
  },
  {
   "cell_type": "code",
   "execution_count": 62,
   "id": "e3a48281",
   "metadata": {
    "ExecuteTime": {
     "end_time": "2023-04-18T00:21:26.903528Z",
     "start_time": "2023-04-18T00:21:26.894084Z"
    }
   },
   "outputs": [
    {
     "name": "stdout",
     "output_type": "stream",
     "text": [
      "tf.Tensor([[300.]], shape=(1, 1), dtype=float32)\n"
     ]
    }
   ],
   "source": [
    "a1 = linear_layer(X_train[0].reshape(1,1))\n",
    "print (a1)"
   ]
  },
  {
   "cell_type": "code",
   "execution_count": 61,
   "id": "ddf3872e",
   "metadata": {
    "ExecuteTime": {
     "end_time": "2023-04-18T00:21:23.406077Z",
     "start_time": "2023-04-18T00:21:23.397117Z"
    }
   },
   "outputs": [
    {
     "name": "stdout",
     "output_type": "stream",
     "text": [
      "tf.Tensor(\n",
      "[[300.]\n",
      " [500.]], shape=(2, 1), dtype=float32)\n"
     ]
    }
   ],
   "source": [
    "prediction_tf = linear_layer(X_train)\n",
    "print (prediction_tf)"
   ]
  },
  {
   "cell_type": "markdown",
   "id": "a6cca893",
   "metadata": {},
   "source": [
    "## Neuron with sigmoid function"
   ]
  },
  {
   "cell_type": "code",
   "execution_count": 102,
   "id": "3ff95993",
   "metadata": {
    "ExecuteTime": {
     "end_time": "2023-04-18T00:36:35.868787Z",
     "start_time": "2023-04-18T00:36:35.860794Z"
    }
   },
   "outputs": [
    {
     "name": "stdout",
     "output_type": "stream",
     "text": [
      "(6, 1) (6, 1)\n"
     ]
    }
   ],
   "source": [
    "X_train = np.array([0, 1, 2, 3, 4, 5], dtype=np.float32).reshape(-1, 1)\n",
    "Y_train = np.array([0, 0, 0, 1, 1, 1], dtype=np.float32).reshape(-1, 1)\n",
    "print (X_train.shape, Y_train.shape)"
   ]
  },
  {
   "cell_type": "code",
   "execution_count": 103,
   "id": "73c443ec",
   "metadata": {
    "ExecuteTime": {
     "end_time": "2023-04-18T00:36:36.022241Z",
     "start_time": "2023-04-18T00:36:36.016451Z"
    }
   },
   "outputs": [],
   "source": [
    "pos = Y_train==1\n",
    "neg = Y_train==0"
   ]
  },
  {
   "cell_type": "code",
   "execution_count": 104,
   "id": "97b0e678",
   "metadata": {
    "ExecuteTime": {
     "end_time": "2023-04-18T00:36:36.488966Z",
     "start_time": "2023-04-18T00:36:36.244060Z"
    }
   },
   "outputs": [
    {
     "data": {
      "text/plain": [
       "Text(0.5, 1.0, 'one variable plot')"
      ]
     },
     "execution_count": 104,
     "metadata": {},
     "output_type": "execute_result"
    },
    {
     "data": {
      "image/png": "[encoded data removed]",
      "text/plain": [
       "<Figure size 400x300 with 1 Axes>"
      ]
     },
     "metadata": {},
     "output_type": "display_data"
    }
   ],
   "source": [
    "fig, ax = plt.subplots(1,1, figsize=(4,3))\n",
    "ax.scatter(X_train[neg], Y_train[neg], marker='o', s=100, c='blue', label='y=0')\n",
    "ax.scatter(X_train[pos], Y_train[pos], marker='x', s=100, c='r', label='y=1')\n",
    "ax.legend(fontsize='large')\n",
    "ax.set_xlabel('x', fontsize='x-large')\n",
    "ax.set_ylabel('y', fontsize='x-large')\n",
    "ax.set_title('one variable plot', fontsize='large')"
   ]
  },
  {
   "cell_type": "markdown",
   "id": "214ee14e",
   "metadata": {},
   "source": [
    "### Logistic Neuron"
   ]
  },
  {
   "cell_type": "markdown",
   "id": "207130eb",
   "metadata": {},
   "source": [
    "The function implemented by a neuron/unit with a sigmoid activation is the same as in Course 1, logistic  regression:\n",
    "$$ f_{\\mathbf{w},b}(x^{(i)}) = g(\\mathbf{w}x^{(i)} + b) \\tag{2}$$\n",
    "where $$g(x) = sigmoid(x)$$ \n",
    "\n",
    "\n",
    "Let's define a single layer with one neuron with sigmoid as the activation function. We can use the `Sequential` model to construct multi-layer models."
   ]
  },
  {
   "cell_type": "code",
   "execution_count": 105,
   "id": "d13d6b86",
   "metadata": {
    "ExecuteTime": {
     "end_time": "2023-04-18T00:39:44.300154Z",
     "start_time": "2023-04-18T00:39:44.263766Z"
    }
   },
   "outputs": [],
   "source": [
    "model = tf.keras.Sequential([\n",
    "    tf.keras.layers.Dense(units=1, input_dim=1, activation='sigmoid', name='L1')\n",
    "])"
   ]
  },
  {
   "cell_type": "markdown",
   "id": "5de09a26",
   "metadata": {},
   "source": [
    "`model.summary()` shows the layers and number of parameters in the model. There is only one layer `L1` in this model and that layer has only one unit. The unit has two parameters, 𝑤 and 𝑏."
   ]
  },
  {
   "cell_type": "code",
   "execution_count": 106,
   "id": "b4bc8e0f",
   "metadata": {
    "ExecuteTime": {
     "end_time": "2023-04-18T00:39:46.757337Z",
     "start_time": "2023-04-18T00:39:46.737923Z"
    }
   },
   "outputs": [
    {
     "name": "stdout",
     "output_type": "stream",
     "text": [
      "Model: \"sequential_3\"\n",
      "_________________________________________________________________\n",
      " Layer (type)                Output Shape              Param #   \n",
      "=================================================================\n",
      " L1 (Dense)                  (None, 1)                 2         \n",
      "                                                                 \n",
      "=================================================================\n",
      "Total params: 2\n",
      "Trainable params: 2\n",
      "Non-trainable params: 0\n",
      "_________________________________________________________________\n"
     ]
    }
   ],
   "source": [
    "model.summary() # L1 layer => One unit/neuron only 2 params (w1, b1)"
   ]
  },
  {
   "cell_type": "code",
   "execution_count": 95,
   "id": "6dee0111",
   "metadata": {
    "ExecuteTime": {
     "end_time": "2023-04-18T00:29:28.212879Z",
     "start_time": "2023-04-18T00:29:28.185161Z"
    }
   },
   "outputs": [
    {
     "name": "stdout",
     "output_type": "stream",
     "text": [
      "[[1.1503018]] [0.]\n"
     ]
    }
   ],
   "source": [
    "logistic_layer = model.get_layer('L1')\n",
    "w,b = logistic_layer.get_weights()\n",
    "print (w,b)"
   ]
  },
  {
   "cell_type": "markdown",
   "id": "cba16aa5",
   "metadata": {},
   "source": [
    "Let's set $w$ and $b$ to some known values and check the model."
   ]
  },
  {
   "cell_type": "code",
   "execution_count": 97,
   "id": "5e307c26",
   "metadata": {
    "ExecuteTime": {
     "end_time": "2023-04-18T00:30:05.834253Z",
     "start_time": "2023-04-18T00:30:05.807990Z"
    }
   },
   "outputs": [
    {
     "name": "stdout",
     "output_type": "stream",
     "text": [
      "[array([[2.]], dtype=float32), array([-4.5], dtype=float32)]\n"
     ]
    }
   ],
   "source": [
    "set_w = np.array([[2]])\n",
    "set_b = np.array([-4.5])\n",
    "\n",
    "logistic_layer.set_weights([set_w, set_b])\n",
    "print (logistic_layer.get_weights())"
   ]
  },
  {
   "cell_type": "markdown",
   "id": "ee8e9f5a",
   "metadata": {},
   "source": [
    "Let's compare equation (2) to the layer output."
   ]
  },
  {
   "cell_type": "code",
   "execution_count": 98,
   "id": "662ce676",
   "metadata": {
    "ExecuteTime": {
     "end_time": "2023-04-18T00:30:12.112110Z",
     "start_time": "2023-04-18T00:30:12.097267Z"
    }
   },
   "outputs": [
    {
     "data": {
      "text/plain": [
       "<tf.Tensor: shape=(6, 1), dtype=float32, numpy=\n",
       "array([[0.01098694],\n",
       "       [0.07585818],\n",
       "       [0.37754068],\n",
       "       [0.8175745 ],\n",
       "       [0.97068775],\n",
       "       [0.99592984]], dtype=float32)>"
      ]
     },
     "execution_count": 98,
     "metadata": {},
     "output_type": "execute_result"
    }
   ],
   "source": [
    "logistic_layer(X_train)"
   ]
  },
  {
   "cell_type": "code",
   "execution_count": 107,
   "id": "d8d30c69",
   "metadata": {
    "ExecuteTime": {
     "end_time": "2023-04-18T00:41:05.467452Z",
     "start_time": "2023-04-18T00:41:05.447661Z"
    }
   },
   "outputs": [
    {
     "data": {
      "text/plain": [
       "array([[0],\n",
       "       [0],\n",
       "       [0],\n",
       "       [1],\n",
       "       [1],\n",
       "       [1]])"
      ]
     },
     "execution_count": 107,
     "metadata": {},
     "output_type": "execute_result"
    }
   ],
   "source": [
    "np.where(logistic_layer(X_train)>=0.5, 1, 0)"
   ]
  },
  {
   "cell_type": "code",
   "execution_count": null,
   "id": "406e5474",
   "metadata": {},
   "outputs": [],
   "source": []
  }
 ],
 "metadata": {
  "kernelspec": {
   "display_name": "Python [conda env:ga]",
   "language": "python",
   "name": "conda-env-ga-py"
  },
  "language_info": {
   "codemirror_mode": {
    "name": "ipython",
    "version": 3
   },
   "file_extension": ".py",
   "mimetype": "text/x-python",
   "name": "python",
   "nbconvert_exporter": "python",
   "pygments_lexer": "ipython3",
   "version": "3.9.16"
  },
  "toc": {
   "base_numbering": 1,
   "nav_menu": {},
   "number_sections": true,
   "sideBar": true,
   "skip_h1_title": false,
   "title_cell": "Table of Contents",
   "title_sidebar": "Contents",
   "toc_cell": false,
   "toc_position": {
    "height": "calc(100% - 180px)",
    "left": "10px",
    "top": "150px",
    "width": "303.837px"
   },
   "toc_section_display": true,
   "toc_window_display": true
  }
 },
 "nbformat": 4,
 "nbformat_minor": 5
}
