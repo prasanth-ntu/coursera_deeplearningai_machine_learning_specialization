{
 "cells": [
  {
   "cell_type": "markdown",
   "id": "1fd86250",
   "metadata": {
    "toc": true
   },
   "source": [
    "<h1>Table of Contents<span class=\"tocSkip\"></span></h1>\n",
    "<div class=\"toc\"><ul class=\"toc-item\"><li><span><a href=\"#Course-2-Week-2:-Neural-network-training\" data-toc-modified-id=\"Course-2-Week-2:-Neural-network-training-1\"><span class=\"toc-item-num\">1&nbsp;&nbsp;</span>Course 2 Week 2: Neural network training</a></span><ul class=\"toc-item\"><li><span><a href=\"#Neural-network-training\" data-toc-modified-id=\"Neural-network-training-1.1\"><span class=\"toc-item-num\">1.1&nbsp;&nbsp;</span>Neural network training</a></span><ul class=\"toc-item\"><li><span><a href=\"#Tensorflow-implementation\" data-toc-modified-id=\"Tensorflow-implementation-1.1.1\"><span class=\"toc-item-num\">1.1.1&nbsp;&nbsp;</span>Tensorflow implementation</a></span></li><li><span><a href=\"#Training-Details\" data-toc-modified-id=\"Training-Details-1.1.2\"><span class=\"toc-item-num\">1.1.2&nbsp;&nbsp;</span>Training Details</a></span></li></ul></li><li><span><a href=\"#Practice-quiz:-Neural-network-training\" data-toc-modified-id=\"Practice-quiz:-Neural-network-training-1.2\"><span class=\"toc-item-num\">1.2&nbsp;&nbsp;</span>Practice quiz: Neural network training</a></span></li><li><span><a href=\"#Activation-functions\" data-toc-modified-id=\"Activation-functions-1.3\"><span class=\"toc-item-num\">1.3&nbsp;&nbsp;</span>Activation functions</a></span><ul class=\"toc-item\"><li><span><a href=\"#Alternatives-to-the-sigmoid-function\" data-toc-modified-id=\"Alternatives-to-the-sigmoid-function-1.3.1\"><span class=\"toc-item-num\">1.3.1&nbsp;&nbsp;</span>Alternatives to the sigmoid function</a></span></li><li><span><a href=\"#Choosing-activation-functions\" data-toc-modified-id=\"Choosing-activation-functions-1.3.2\"><span class=\"toc-item-num\">1.3.2&nbsp;&nbsp;</span>Choosing activation functions</a></span></li><li><span><a href=\"#Why-do-we-need-activation-functions?\" data-toc-modified-id=\"Why-do-we-need-activation-functions?-1.3.3\"><span class=\"toc-item-num\">1.3.3&nbsp;&nbsp;</span>Why do we need activation functions?</a></span></li><li><span><a href=\"#ReLU-activation\" data-toc-modified-id=\"ReLU-activation-1.3.4\"><span class=\"toc-item-num\">1.3.4&nbsp;&nbsp;</span>ReLU activation</a></span></li></ul></li><li><span><a href=\"#Practice-quiz:-Activation-functions\" data-toc-modified-id=\"Practice-quiz:-Activation-functions-1.4\"><span class=\"toc-item-num\">1.4&nbsp;&nbsp;</span>Practice quiz: Activation functions</a></span></li><li><span><a href=\"#Multiclass-Classification\" data-toc-modified-id=\"Multiclass-Classification-1.5\"><span class=\"toc-item-num\">1.5&nbsp;&nbsp;</span>Multiclass Classification</a></span><ul class=\"toc-item\"><li><span><a href=\"#Multiclass\" data-toc-modified-id=\"Multiclass-1.5.1\"><span class=\"toc-item-num\">1.5.1&nbsp;&nbsp;</span>Multiclass</a></span></li><li><span><a href=\"#Softmax\" data-toc-modified-id=\"Softmax-1.5.2\"><span class=\"toc-item-num\">1.5.2&nbsp;&nbsp;</span>Softmax</a></span></li><li><span><a href=\"#Neural-network-with-softmax-output\" data-toc-modified-id=\"Neural-network-with-softmax-output-1.5.3\"><span class=\"toc-item-num\">1.5.3&nbsp;&nbsp;</span>Neural network with softmax output</a></span></li><li><span><a href=\"#Improved-implementation-with-Softmax\" data-toc-modified-id=\"Improved-implementation-with-Softmax-1.5.4\"><span class=\"toc-item-num\">1.5.4&nbsp;&nbsp;</span>Improved implementation with Softmax</a></span></li><li><span><a href=\"#Classification-with-multiple-outputs-(Optional)\" data-toc-modified-id=\"Classification-with-multiple-outputs-(Optional)-1.5.5\"><span class=\"toc-item-num\">1.5.5&nbsp;&nbsp;</span>Classification with multiple outputs (Optional)</a></span></li><li><span><a href=\"#Softmax\" data-toc-modified-id=\"Softmax-1.5.6\"><span class=\"toc-item-num\">1.5.6&nbsp;&nbsp;</span>Softmax</a></span></li><li><span><a href=\"#Multiclass\" data-toc-modified-id=\"Multiclass-1.5.7\"><span class=\"toc-item-num\">1.5.7&nbsp;&nbsp;</span>Multiclass</a></span></li></ul></li><li><span><a href=\"#Practice-quiz:-Additional-neural-network-concepts\" data-toc-modified-id=\"Practice-quiz:-Additional-neural-network-concepts-1.6\"><span class=\"toc-item-num\">1.6&nbsp;&nbsp;</span>Practice quiz: Additional neural network concepts</a></span></li><li><span><a href=\"#Back-propagation-(Optional)\" data-toc-modified-id=\"Back-propagation-(Optional)-1.7\"><span class=\"toc-item-num\">1.7&nbsp;&nbsp;</span>Back propagation (Optional)</a></span><ul class=\"toc-item\"><li><span><a href=\"#What-is-a-derivative-(Optional)\" data-toc-modified-id=\"What-is-a-derivative-(Optional)-1.7.1\"><span class=\"toc-item-num\">1.7.1&nbsp;&nbsp;</span>What is a derivative (Optional)</a></span></li><li><span><a href=\"#Computation-graph-(Optional)\" data-toc-modified-id=\"Computation-graph-(Optional)-1.7.2\"><span class=\"toc-item-num\">1.7.2&nbsp;&nbsp;</span>Computation graph (Optional)</a></span></li><li><span><a href=\"#Larger-neural-network-example-(Optional)\" data-toc-modified-id=\"Larger-neural-network-example-(Optional)-1.7.3\"><span class=\"toc-item-num\">1.7.3&nbsp;&nbsp;</span>Larger neural network example (Optional)</a></span></li><li><span><a href=\"#Optional-Lab:-Derivatives\" data-toc-modified-id=\"Optional-Lab:-Derivatives-1.7.4\"><span class=\"toc-item-num\">1.7.4&nbsp;&nbsp;</span>Optional Lab: Derivatives</a></span></li><li><span><a href=\"#Optional-Lab:-Back-propagation\" data-toc-modified-id=\"Optional-Lab:-Back-propagation-1.7.5\"><span class=\"toc-item-num\">1.7.5&nbsp;&nbsp;</span>Optional Lab: Back propagation</a></span></li></ul></li><li><span><a href=\"#Practice-lab:-Neural-network-training\" data-toc-modified-id=\"Practice-lab:-Neural-network-training-1.8\"><span class=\"toc-item-num\">1.8&nbsp;&nbsp;</span>Practice lab: Neural network training</a></span></li></ul></li></ul></div>"
   ]
  },
  {
   "cell_type": "markdown",
   "id": "d8ea2f80",
   "metadata": {
    "ExecuteTime": {
     "end_time": "2023-04-25T02:23:35.809829Z",
     "start_time": "2023-04-25T02:23:35.796262Z"
    }
   },
   "source": [
    "# Course 2 Week 2: Neural network training"
   ]
  },
  {
   "cell_type": "markdown",
   "id": "0616acd6",
   "metadata": {},
   "source": [
    "- Coursera course link: https://www.coursera.org/learn/advanced-learning-algorithms/home/week/2\n",
    "- Blog link: https://community.deeplearning.ai/c/mls/mls-course-2/mls-course-2-week-2/"
   ]
  },
  {
   "cell_type": "markdown",
   "id": "46fc172f",
   "metadata": {},
   "source": [
    "This week, we'll learn how to train our model in TensorFlow, and also learn about other important activation functions (besides the sigmoid function), and where to use each type in a neural network. We'll also learn how to go beyond binary classification to multiclass classification (3 or more categories). Multiclass classification will introduce us to a new activation function and a new loss function. Optionally, we can also learn about the difference between multiclass classification and multi-label classification. We'll learn about the Adam optimizer, and why it's an improvement upon regular gradient descent for neural network training. Finally, we will get a brief introduction to other layer types besides the one we've seen thus far.\n",
    "\n",
    "**Learning Objectives**\n",
    "- Train a neural network on data using TensorFlow\n",
    "- Understand the difference between various activation functions (sigmoid, ReLU, and linear)\n",
    "- Understand which activation functions to use for which type of layer\n",
    "- Understand why we need non-linear activation functions\n",
    "- Understand multiclass classification\n",
    "- Calculate the softmax activation for implementing multiclass classification\n",
    "- Use the categorical cross entropy loss function for multiclass classification\n",
    "- Use the recommended method for implementing multiclass classification in code\n",
    "- (Optional): Explain the difference between **multi-label** and **multiclass** classification"
   ]
  },
  {
   "cell_type": "markdown",
   "id": "8815a505",
   "metadata": {
    "ExecuteTime": {
     "end_time": "2023-04-25T02:23:46.855270Z",
     "start_time": "2023-04-25T02:23:46.836890Z"
    }
   },
   "source": [
    "## Neural network training"
   ]
  },
  {
   "cell_type": "markdown",
   "id": "99ae7ecb",
   "metadata": {},
   "source": [
    "### Tensorflow implementation"
   ]
  },
  {
   "cell_type": "markdown",
   "id": "a682d47e",
   "metadata": {},
   "source": []
  },
  {
   "cell_type": "markdown",
   "id": "ab512660",
   "metadata": {},
   "source": []
  },
  {
   "cell_type": "markdown",
   "id": "b8eac9b7",
   "metadata": {},
   "source": [
    "### Training Details"
   ]
  },
  {
   "cell_type": "markdown",
   "id": "53d63484",
   "metadata": {},
   "source": []
  },
  {
   "cell_type": "markdown",
   "id": "a0c55a34",
   "metadata": {},
   "source": []
  },
  {
   "cell_type": "markdown",
   "id": "71f39661",
   "metadata": {},
   "source": [
    "## Practice quiz: Neural network training"
   ]
  },
  {
   "cell_type": "markdown",
   "id": "a49b5758",
   "metadata": {},
   "source": []
  },
  {
   "cell_type": "markdown",
   "id": "862fc75b",
   "metadata": {},
   "source": [
    "## Activation functions"
   ]
  },
  {
   "cell_type": "markdown",
   "id": "cd35cd1a",
   "metadata": {},
   "source": [
    "### Alternatives to the sigmoid function"
   ]
  },
  {
   "cell_type": "markdown",
   "id": "553b38b8",
   "metadata": {},
   "source": []
  },
  {
   "cell_type": "markdown",
   "id": "81772c64",
   "metadata": {},
   "source": []
  },
  {
   "cell_type": "markdown",
   "id": "5edae8b1",
   "metadata": {},
   "source": [
    "### Choosing activation functions"
   ]
  },
  {
   "cell_type": "markdown",
   "id": "debed5a4",
   "metadata": {},
   "source": []
  },
  {
   "cell_type": "markdown",
   "id": "a3f0f342",
   "metadata": {},
   "source": []
  },
  {
   "cell_type": "markdown",
   "id": "6c885a55",
   "metadata": {},
   "source": [
    "### Why do we need activation functions?"
   ]
  },
  {
   "cell_type": "markdown",
   "id": "9ab55d88",
   "metadata": {},
   "source": []
  },
  {
   "cell_type": "markdown",
   "id": "815dc582",
   "metadata": {},
   "source": []
  },
  {
   "cell_type": "markdown",
   "id": "d747197e",
   "metadata": {},
   "source": [
    "### ReLU activation"
   ]
  },
  {
   "cell_type": "markdown",
   "id": "ed336239",
   "metadata": {},
   "source": []
  },
  {
   "cell_type": "markdown",
   "id": "465448ea",
   "metadata": {},
   "source": []
  },
  {
   "cell_type": "markdown",
   "id": "e4139b08",
   "metadata": {},
   "source": [
    "## Practice quiz: Activation functions"
   ]
  },
  {
   "cell_type": "markdown",
   "id": "2e7e475a",
   "metadata": {},
   "source": []
  },
  {
   "cell_type": "markdown",
   "id": "65dd6fcd",
   "metadata": {},
   "source": [
    "## Multiclass Classification"
   ]
  },
  {
   "cell_type": "markdown",
   "id": "1a10ba59",
   "metadata": {},
   "source": [
    "### Multiclass"
   ]
  },
  {
   "cell_type": "markdown",
   "id": "6510416b",
   "metadata": {},
   "source": []
  },
  {
   "cell_type": "markdown",
   "id": "54a1f19b",
   "metadata": {},
   "source": []
  },
  {
   "cell_type": "markdown",
   "id": "e6e96ed1",
   "metadata": {},
   "source": [
    "### Softmax"
   ]
  },
  {
   "cell_type": "markdown",
   "id": "3ddf0360",
   "metadata": {},
   "source": []
  },
  {
   "cell_type": "markdown",
   "id": "ee47a82e",
   "metadata": {},
   "source": []
  },
  {
   "cell_type": "markdown",
   "id": "f8d1d552",
   "metadata": {},
   "source": [
    "### Neural network with softmax output"
   ]
  },
  {
   "cell_type": "markdown",
   "id": "5e801f15",
   "metadata": {},
   "source": []
  },
  {
   "cell_type": "markdown",
   "id": "67c2f48c",
   "metadata": {},
   "source": []
  },
  {
   "cell_type": "markdown",
   "id": "c639aeac",
   "metadata": {},
   "source": [
    "### Improved implementation with Softmax"
   ]
  },
  {
   "cell_type": "markdown",
   "id": "f481bb96",
   "metadata": {},
   "source": []
  },
  {
   "cell_type": "markdown",
   "id": "75bfd6cc",
   "metadata": {},
   "source": []
  },
  {
   "cell_type": "markdown",
   "id": "5015a43f",
   "metadata": {},
   "source": [
    "### Classification with multiple outputs (Optional)"
   ]
  },
  {
   "cell_type": "markdown",
   "id": "c6068cd0",
   "metadata": {},
   "source": []
  },
  {
   "cell_type": "markdown",
   "id": "0decd115",
   "metadata": {},
   "source": []
  },
  {
   "cell_type": "markdown",
   "id": "5fb12f5d",
   "metadata": {},
   "source": [
    "### Softmax"
   ]
  },
  {
   "cell_type": "markdown",
   "id": "716141cb",
   "metadata": {},
   "source": []
  },
  {
   "cell_type": "markdown",
   "id": "126bbd68",
   "metadata": {},
   "source": []
  },
  {
   "cell_type": "markdown",
   "id": "b8dc3fde",
   "metadata": {},
   "source": [
    "### Multiclass"
   ]
  },
  {
   "cell_type": "markdown",
   "id": "aadc0523",
   "metadata": {},
   "source": []
  },
  {
   "cell_type": "markdown",
   "id": "111c92ad",
   "metadata": {},
   "source": []
  },
  {
   "cell_type": "markdown",
   "id": "6ac1e468",
   "metadata": {},
   "source": [
    "## Practice quiz: Additional neural network concepts"
   ]
  },
  {
   "cell_type": "markdown",
   "id": "358bc084",
   "metadata": {},
   "source": []
  },
  {
   "cell_type": "markdown",
   "id": "ffcb1e52",
   "metadata": {},
   "source": [
    "## Back propagation (Optional)"
   ]
  },
  {
   "cell_type": "markdown",
   "id": "f8da2544",
   "metadata": {},
   "source": [
    "### What is a derivative (Optional)"
   ]
  },
  {
   "cell_type": "markdown",
   "id": "ade3e24e",
   "metadata": {},
   "source": []
  },
  {
   "cell_type": "markdown",
   "id": "32b5f4dd",
   "metadata": {},
   "source": []
  },
  {
   "cell_type": "markdown",
   "id": "3ebfeccd",
   "metadata": {},
   "source": [
    "### Computation graph (Optional)"
   ]
  },
  {
   "cell_type": "markdown",
   "id": "c9676ac3",
   "metadata": {},
   "source": []
  },
  {
   "cell_type": "markdown",
   "id": "14084379",
   "metadata": {},
   "source": []
  },
  {
   "cell_type": "markdown",
   "id": "cf307520",
   "metadata": {},
   "source": [
    "### Larger neural network example (Optional) "
   ]
  },
  {
   "cell_type": "markdown",
   "id": "111b07f8",
   "metadata": {},
   "source": []
  },
  {
   "cell_type": "markdown",
   "id": "a744cc15",
   "metadata": {},
   "source": []
  },
  {
   "cell_type": "markdown",
   "id": "15a98f28",
   "metadata": {},
   "source": []
  },
  {
   "cell_type": "markdown",
   "id": "c8a05f00",
   "metadata": {},
   "source": [
    "### Optional Lab: Derivatives"
   ]
  },
  {
   "cell_type": "markdown",
   "id": "4dd9554e",
   "metadata": {},
   "source": []
  },
  {
   "cell_type": "markdown",
   "id": "88636a6a",
   "metadata": {},
   "source": []
  },
  {
   "cell_type": "markdown",
   "id": "b034958a",
   "metadata": {},
   "source": [
    "### Optional Lab: Back propagation"
   ]
  },
  {
   "cell_type": "markdown",
   "id": "9841d9aa",
   "metadata": {},
   "source": []
  },
  {
   "cell_type": "markdown",
   "id": "3af7b5a7",
   "metadata": {},
   "source": []
  },
  {
   "cell_type": "markdown",
   "id": "edaad3af",
   "metadata": {},
   "source": [
    "## Practice lab: Neural network training"
   ]
  },
  {
   "cell_type": "markdown",
   "id": "3296760e",
   "metadata": {},
   "source": []
  },
  {
   "cell_type": "markdown",
   "id": "fbcc2004",
   "metadata": {},
   "source": []
  },
  {
   "cell_type": "markdown",
   "id": "171f10db",
   "metadata": {},
   "source": []
  }
 ],
 "metadata": {
  "kernelspec": {
   "display_name": "Python [conda env:ga]",
   "language": "python",
   "name": "conda-env-ga-py"
  },
  "language_info": {
   "codemirror_mode": {
    "name": "ipython",
    "version": 3
   },
   "file_extension": ".py",
   "mimetype": "text/x-python",
   "name": "python",
   "nbconvert_exporter": "python",
   "pygments_lexer": "ipython3",
   "version": "3.9.16"
  },
  "toc": {
   "base_numbering": 1,
   "nav_menu": {},
   "number_sections": true,
   "sideBar": true,
   "skip_h1_title": false,
   "title_cell": "Table of Contents",
   "title_sidebar": "Contents",
   "toc_cell": true,
   "toc_position": {
    "height": "calc(100% - 180px)",
    "left": "10px",
    "top": "150px",
    "width": "384px"
   },
   "toc_section_display": true,
   "toc_window_display": true
  }
 },
 "nbformat": 4,
 "nbformat_minor": 5
}
